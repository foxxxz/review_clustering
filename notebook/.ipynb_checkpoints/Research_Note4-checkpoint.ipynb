{
 "cells": [
  {
   "cell_type": "code",
   "execution_count": 1,
   "metadata": {
    "collapsed": false
   },
   "outputs": [
    {
     "name": "stderr",
     "output_type": "stream",
     "text": [
      "/Users/choiyoungrok/anaconda/lib/python2.7/site-packages/statsmodels/compat/pandas.py:56: FutureWarning: The pandas.core.datetools module is deprecated and will be removed in a future version. Please use the pandas.tseries module instead.\n",
      "  from pandas.core import datetools\n"
     ]
    }
   ],
   "source": [
    "%run util.py"
   ]
  },
  {
   "cell_type": "code",
   "execution_count": 15,
   "metadata": {
    "collapsed": true
   },
   "outputs": [],
   "source": [
    "#-*- coding: utf-8 -*-\n",
    "from konlpy.utils import pprint\n",
    "from konlpy.tag import *\n",
    "import datetime\n",
    "import time\n",
    "import csv\n",
    "import sys\n",
    "import numpy as np\n",
    "import pandas as pd\n",
    "import matplotlib as mpl\n",
    "import matplotlib.pylab as plt\n",
    "import matplotlib.dates as mdates\n",
    "import seaborn as sns\n",
    "import dateutil\n",
    "import random\n",
    "\n",
    "from sklearn.cluster import KMeans, MiniBatchKMeans, AffinityPropagation, DBSCAN\n",
    "from scipy.cluster.hierarchy import linkage, dendrogram, fcluster\n",
    "from sklearn.metrics import silhouette_samples, silhouette_score\n",
    "from sklearn.feature_extraction.text import CountVectorizer, TfidfVectorizer\n",
    "from sklearn.pipeline import make_pipeline\n",
    "from sklearn.preprocessing import Normalizer\n",
    "from sklearn.decomposition import TruncatedSVD\n",
    "from sklearn import metrics"
   ]
  },
  {
   "cell_type": "code",
   "execution_count": 3,
   "metadata": {
    "collapsed": true
   },
   "outputs": [],
   "source": [
    "# set to show all text in the cell\n",
    "pd.set_option('display.max_colwidth', -1)\n",
    "\n",
    "# 한글 표시\n",
    "from matplotlib import font_manager, rc\n",
    "font_name = font_manager.FontProperties(fname=\"/Library/Fonts/NanumGothic.ttf\").get_name()\n",
    "rc('font', family=font_name)"
   ]
  },
  {
   "cell_type": "markdown",
   "metadata": {},
   "source": [
    "<br>\n",
    "# 데이터 소개"
   ]
  },
  {
   "cell_type": "code",
   "execution_count": 4,
   "metadata": {
    "collapsed": false
   },
   "outputs": [
    {
     "data": {
      "text/html": [
       "<div>\n",
       "<style>\n",
       "    .dataframe thead tr:only-child th {\n",
       "        text-align: right;\n",
       "    }\n",
       "\n",
       "    .dataframe thead th {\n",
       "        text-align: left;\n",
       "    }\n",
       "\n",
       "    .dataframe tbody tr th {\n",
       "        vertical-align: top;\n",
       "    }\n",
       "</style>\n",
       "<table border=\"1\" class=\"dataframe\">\n",
       "  <thead>\n",
       "    <tr style=\"text-align: right;\">\n",
       "      <th></th>\n",
       "      <th>text</th>\n",
       "    </tr>\n",
       "    <tr>\n",
       "      <th>uid</th>\n",
       "      <th></th>\n",
       "    </tr>\n",
       "  </thead>\n",
       "  <tbody>\n",
       "    <tr>\n",
       "      <th>28618460</th>\n",
       "      <td>매번 사용하는 제품인데 저렴하게 잘 삿습니당</td>\n",
       "    </tr>\n",
       "    <tr>\n",
       "      <th>28608506</th>\n",
       "      <td>몇 년째 쓰는 제품이예요~\\n다른 기초화장품 없이 피지오겔크링과 선크림으로\\n피부가 좋아졌 어요~~ 여름이면 항상 얼굴이  따끔거렸는데 \\n그것도 다 없어지고~  암튼 전 화장품은 이거 하나만발라요~\\n자극도 없고 완전 좋은 제품입니다~~</td>\n",
       "    </tr>\n",
       "    <tr>\n",
       "      <th>28584972</th>\n",
       "      <td>조금 기름진느낌이 없지않아있어요</td>\n",
       "    </tr>\n",
       "    <tr>\n",
       "      <th>28584914</th>\n",
       "      <td>가격부담이 되도 계속 쓰고 있는 피지오겔 크림\\n귀찮을때 이거 하나만 바르고 자도 다음날 화장 잘먹고 얼굴에서 광나요\\n전 밤엔 듬뿍 아침엔 적당량만 발라요(집순이일땐 듬뿍)\\n건성 민감성 피부에 좋아요 무향에 자극없고 보습력 좋아요\\n로켓배송 덕분에 빠르게 쓸 수 있어서 좋았어요</td>\n",
       "    </tr>\n",
       "    <tr>\n",
       "      <th>28581673</th>\n",
       "      <td>촉촉해서 수분크림대신바르는데 좋아요</td>\n",
       "    </tr>\n",
       "    <tr>\n",
       "      <th>28567308</th>\n",
       "      <td>배송빨라 좋네요</td>\n",
       "    </tr>\n",
       "    <tr>\n",
       "      <th>28542147</th>\n",
       "      <td>1. 배송 : 로켓 아니어도 괜찬은데, 다음날 바로 도착헸네요. 배송기사님 감사합니다.\\n2. 제품 : 피지오겔 크림 똑같은 것으로 또 주문해서 사용합니다. 저는 민감피부라 무향을 선호해서 무향이라 좋고, 사계절 내내 사용하기 무리없구요. 여름엔 생각보단 덜 번들거리고, 겨울엔 저녁에 바르면 아침까지 건조함이 없어 좋습니다. 주문하면서 사용기한 내심 걱정했는데, 이번에도 안심이네요. (제가 사용하는 기간까지 넉넉해요-유통기한이 내년5월?6월까지인것 같았어요. 제품받고 며칠지난터라 정확한 기억이 안남.)</td>\n",
       "    </tr>\n",
       "    <tr>\n",
       "      <th>28465156</th>\n",
       "      <td>피지오겔~7년째사용중~~</td>\n",
       "    </tr>\n",
       "    <tr>\n",
       "      <th>28463679</th>\n",
       "      <td>항상 쓰던 제품입니다 좋아요~~</td>\n",
       "    </tr>\n",
       "    <tr>\n",
       "      <th>28454963</th>\n",
       "      <td>배송도 빠르고 좋으네영</td>\n",
       "    </tr>\n",
       "    <tr>\n",
       "      <th>28418125</th>\n",
       "      <td>좋네요</td>\n",
       "    </tr>\n",
       "    <tr>\n",
       "      <th>28397315</th>\n",
       "      <td>바르고 30분이 지나서 얼굴을 보니 빨갛더라구요 너무 놀래서 씻고나서 리뷰를 보는데 참... 건성분들은 모르겠지만 중성 지성 분들은 사지마세요 저는 겨을에 바디로션 대신 바를려구요..^^</td>\n",
       "    </tr>\n",
       "    <tr>\n",
       "      <th>28371541</th>\n",
       "      <td>보습은 완전 잘돼요! 촉촉한 느낌이고 유분기는 거의 없어요</td>\n",
       "    </tr>\n",
       "    <tr>\n",
       "      <th>28359911</th>\n",
       "      <td>좋습니다</td>\n",
       "    </tr>\n",
       "    <tr>\n",
       "      <th>28337356</th>\n",
       "      <td>좋아요 여름엔 좀 끈적거러요^^</td>\n",
       "    </tr>\n",
       "    <tr>\n",
       "      <th>28329552</th>\n",
       "      <td>촉촉해요~~!!</td>\n",
       "    </tr>\n",
       "    <tr>\n",
       "      <th>28323871</th>\n",
       "      <td>계속 구매해서 쓰고 있습니다. 이만한 수분크림은 본적이 없어요~</td>\n",
       "    </tr>\n",
       "    <tr>\n",
       "      <th>28322750</th>\n",
       "      <td>상품 배송 만족합니다</td>\n",
       "    </tr>\n",
       "    <tr>\n",
       "      <th>28320663</th>\n",
       "      <td>역쉬 보습 짱!</td>\n",
       "    </tr>\n",
       "    <tr>\n",
       "      <th>28291046</th>\n",
       "      <td>배송 및 상품 만족스럽습니다.</td>\n",
       "    </tr>\n",
       "    <tr>\n",
       "      <th>28256210</th>\n",
       "      <td>좋아요</td>\n",
       "    </tr>\n",
       "    <tr>\n",
       "      <th>28249981</th>\n",
       "      <td>초1아들이 땀이 많아 땀띠가심해서, 병원에서 보습제 많이 발라주라해서 구입했어요. 며칠바르니 신기하게도 땀띠가 사라졌어요..보습력 짱인거같아요..^^ 로션타입이라 끈적이지않고 부드럽게잘발리네요..</td>\n",
       "    </tr>\n",
       "    <tr>\n",
       "      <th>28246576</th>\n",
       "      <td>크림은 피부가 건조한 저에게는 잘 안 맞는것 같아요\\n바를수록 피부에 안맞는게 느껴질정도에요</td>\n",
       "    </tr>\n",
       "    <tr>\n",
       "      <th>28234198</th>\n",
       "      <td>잘받았습니다 좋은상풒</td>\n",
       "    </tr>\n",
       "    <tr>\n",
       "      <th>28233222</th>\n",
       "      <td>늘 쓰는 제품이에요. 쿠팡에서 저렴하게 잘 구입했어요.</td>\n",
       "    </tr>\n",
       "    <tr>\n",
       "      <th>28202482</th>\n",
       "      <td>넘 잘 쓰고 있어요 감사합니다</td>\n",
       "    </tr>\n",
       "    <tr>\n",
       "      <th>28200055</th>\n",
       "      <td>첫째부터 둘째까지 어린아이를 위해 여름에도 그름만 사용하네요  \\n끈적임없고 흠수 빠르고 아이들피부 아직까지는 별탈없이 건강하게 크고있어요^^*</td>\n",
       "    </tr>\n",
       "    <tr>\n",
       "      <th>28188410</th>\n",
       "      <td>피지오겔 크림은 몇년째 사용중이에요~\\n예민한 남매 피부에 잘맞아요~\\n끈적임없이 촉촉해요\\n향도 거부감없이  무향에 가까운듯해요\\n몇년째 꾸준히 잘 쓰고있어요~^^</td>\n",
       "    </tr>\n",
       "    <tr>\n",
       "      <th>28115326</th>\n",
       "      <td>한상 쓰는 로션이에요 \\n최저가에요 \\n배송빨라요 \\n믿고쓰는 피지오겔</td>\n",
       "    </tr>\n",
       "    <tr>\n",
       "      <th>28079136</th>\n",
       "      <td>늘 쓰던거라 믿고 구매합니다</td>\n",
       "    </tr>\n",
       "    <tr>\n",
       "      <th>...</th>\n",
       "      <td>...</td>\n",
       "    </tr>\n",
       "    <tr>\n",
       "      <th>1057747</th>\n",
       "      <td>배송도 엄청 빠름 짱짱!!!\\n수분크림 발라도 1시간이면 땡겼는데, 요건 바르고나면 아침까지 쫀득한 피부 유지~\\n\\n근데, 향이 좀;;;; 연고인줄...그것만 빼면 겨울 보습에는 용량/성능 대비 완전 착한 가격임!!!!!</td>\n",
       "    </tr>\n",
       "    <tr>\n",
       "      <th>1055044</th>\n",
       "      <td>배송이 무척 빨라 좋았습니다. ^^</td>\n",
       "    </tr>\n",
       "    <tr>\n",
       "      <th>1036945</th>\n",
       "      <td>좋아요</td>\n",
       "    </tr>\n",
       "    <tr>\n",
       "      <th>1034835</th>\n",
       "      <td>너무 좋아요 건조한 피부에는 딱 ! \\n피지오겔 지금 2번째 쓰고 있는데 재구매 의사 있어요 \\n건정, 민감피부에는 좋음!!! 강추</td>\n",
       "    </tr>\n",
       "    <tr>\n",
       "      <th>1031622</th>\n",
       "      <td>감사합니다   배송 빠르니  좋아요   짱입니다   \\n\\n감사합니다</td>\n",
       "    </tr>\n",
       "    <tr>\n",
       "      <th>1030423</th>\n",
       "      <td>보습기능이 뛰어나 건조한 피부에 좋아요</td>\n",
       "    </tr>\n",
       "    <tr>\n",
       "      <th>1026544</th>\n",
       "      <td>늘쓰던제품 좋아요  리뉴얼전 제품이좋긴하지만</td>\n",
       "    </tr>\n",
       "    <tr>\n",
       "      <th>1025879</th>\n",
       "      <td>늘쓰던애기얼굴크림입니다 좋아요이건</td>\n",
       "    </tr>\n",
       "    <tr>\n",
       "      <th>1023053</th>\n",
       "      <td>약간 기름기가 겉도는 느낌이 있긴한데\\n안바르면 너무 건조해서.. \\n아침 저녁으로 잘 바르고 있어요</td>\n",
       "    </tr>\n",
       "    <tr>\n",
       "      <th>999123</th>\n",
       "      <td>배송도 빠르고 피지오겔 짱 좋아요</td>\n",
       "    </tr>\n",
       "    <tr>\n",
       "      <th>999036</th>\n",
       "      <td>좋아요~^^</td>\n",
       "    </tr>\n",
       "    <tr>\n",
       "      <th>998151</th>\n",
       "      <td>우리아들 매번쓰는 피지오겔\\n광고를보니 새로워졌더라구요.\\n믿고 구매했는데 2개 싸게 산것같네요.\\n아파서 몇일 씻기지도 못해서 피부가 많이 \\n거칠어졌었는데 하루 이틀 바르니 금방괜찮아 지더라구요.역시 피지오겔이예요.\\n배송도 엄청빨랐어요.\\n로켓배송이라그런지 하루도 안되서\\n받았어요..9일날 밤에 주문했는데 문자로는 11일날온다고 했었는데 주문한 담날 10일날 왔더라구요. 헉 엄청빨라  이랬죠 속으로.ㅋㅋㅋ\\n암듬 잘쓸께요.. 마니파세요.,</td>\n",
       "    </tr>\n",
       "    <tr>\n",
       "      <th>990590</th>\n",
       "      <td>역시 좋아요~</td>\n",
       "    </tr>\n",
       "    <tr>\n",
       "      <th>986410</th>\n",
       "      <td>사랑합니다 쿠팡♥♥</td>\n",
       "    </tr>\n",
       "    <tr>\n",
       "      <th>981495</th>\n",
       "      <td>써보고 좋아서 지인한테 추천해서 하나 더 주문했어요ㅎㅎ\\n저두 다쓰면 또 주문하고싶어요!!</td>\n",
       "    </tr>\n",
       "    <tr>\n",
       "      <th>972599</th>\n",
       "      <td>나이 많은 사람이 간단하게 바를 수 있는 제품입니다. 기온이 떨어지니 보습이 더욱 필요한데 그에 적합하다고 생각합니다.</td>\n",
       "    </tr>\n",
       "    <tr>\n",
       "      <th>972574</th>\n",
       "      <td>쌀쌀한 가을에 적합한 보습크림입니다. 크림하나만으로 얼굴이 살아났어요. 강추합니다.</td>\n",
       "    </tr>\n",
       "    <tr>\n",
       "      <th>971510</th>\n",
       "      <td>첨사용해봐요 좋은것같아요</td>\n",
       "    </tr>\n",
       "    <tr>\n",
       "      <th>970169</th>\n",
       "      <td>확실히 다른보습제랑 윤기가달라요</td>\n",
       "    </tr>\n",
       "    <tr>\n",
       "      <th>969965</th>\n",
       "      <td>촉촉해서 오래전 부터 애용하고 있답니다.^^</td>\n",
       "    </tr>\n",
       "    <tr>\n",
       "      <th>958519</th>\n",
       "      <td>배송 빨랐어여,  밤에 하나만 발라도 아침까지 촉촉해여,\\n하지만 요즘 워낙 건조하니 아침에 바르면 오후에는 당김이 있네요</td>\n",
       "    </tr>\n",
       "    <tr>\n",
       "      <th>958285</th>\n",
       "      <td>맘에 들어요 ㅋㅋㅋ 원래 판매가격보다 싸게 사서 좋음\\n그리고 로켓배송 완전 굿굿</td>\n",
       "    </tr>\n",
       "    <tr>\n",
       "      <th>955039</th>\n",
       "      <td>배송 포장 다 굳이네요..피지오겔 첨 써보는데 아마 오랜동안 쓰게 될것같아요 기존에 쓰던 키*보다 더좋네요^^</td>\n",
       "    </tr>\n",
       "    <tr>\n",
       "      <th>944449</th>\n",
       "      <td>피부가 건조하고 예민한편인데 이거하나만 발라도 촉촉함</td>\n",
       "    </tr>\n",
       "    <tr>\n",
       "      <th>916315</th>\n",
       "      <td>항상쓰던거라 그냥 재 구매함 좋음</td>\n",
       "    </tr>\n",
       "    <tr>\n",
       "      <th>916184</th>\n",
       "      <td>쿠폰할인받아서 저렴하게 산거같아서 좋아요ㅎㅎ\\n피지오겔 크림이 피부 유수분밸런스 맞춰주는데 최고인것같아요\\n얼굴말고 몸에발라도 끈적임없이 촉촉하게 보습되서 좋아요♡</td>\n",
       "    </tr>\n",
       "    <tr>\n",
       "      <th>875538</th>\n",
       "      <td>촉촉하니 좋습니다</td>\n",
       "    </tr>\n",
       "    <tr>\n",
       "      <th>859519</th>\n",
       "      <td>수분 촉촉 크림!\\n이보다 더 좋을 순 없다. \\n누구에게든 강추...</td>\n",
       "    </tr>\n",
       "    <tr>\n",
       "      <th>765117</th>\n",
       "      <td>감사합니다`</td>\n",
       "    </tr>\n",
       "    <tr>\n",
       "      <th>746711</th>\n",
       "      <td>피지오겔이 좋다고 해서 소문듣고 샀는데 제피부에는 맞지 않는듯 싶어요.\\n수분크림 바르고 피지오겔크림을 사용했는데도 제얼굴피부가 당기는걸 보면 제 피부에게는 맞지 않나봐요.\\n다른사람들과 제 피부과 다르니 제 입장에서 별을 많이 못주었어요.</td>\n",
       "    </tr>\n",
       "  </tbody>\n",
       "</table>\n",
       "<p>3072 rows × 1 columns</p>\n",
       "</div>"
      ],
      "text/plain": [
       "                                                                                                                                                                                                                                                                                                 text\n",
       "uid                                                                                                                                                                                                                                                                                                  \n",
       "28618460  매번 사용하는 제품인데 저렴하게 잘 삿습니당                                                                                                                                                                                                                                                                   \n",
       "28608506  몇 년째 쓰는 제품이예요~\\n다른 기초화장품 없이 피지오겔크링과 선크림으로\\n피부가 좋아졌 어요~~ 여름이면 항상 얼굴이  따끔거렸는데 \\n그것도 다 없어지고~  암튼 전 화장품은 이거 하나만발라요~\\n자극도 없고 완전 좋은 제품입니다~~                                                                                                                                                      \n",
       "28584972  조금 기름진느낌이 없지않아있어요                                                                                                                                                                                                                                                                          \n",
       "28584914  가격부담이 되도 계속 쓰고 있는 피지오겔 크림\\n귀찮을때 이거 하나만 바르고 자도 다음날 화장 잘먹고 얼굴에서 광나요\\n전 밤엔 듬뿍 아침엔 적당량만 발라요(집순이일땐 듬뿍)\\n건성 민감성 피부에 좋아요 무향에 자극없고 보습력 좋아요\\n로켓배송 덕분에 빠르게 쓸 수 있어서 좋았어요                                                                                                                              \n",
       "28581673  촉촉해서 수분크림대신바르는데 좋아요                                                                                                                                                                                                                                                                        \n",
       "28567308  배송빨라 좋네요                                                                                                                                                                                                                                                                                   \n",
       "28542147  1. 배송 : 로켓 아니어도 괜찬은데, 다음날 바로 도착헸네요. 배송기사님 감사합니다.\\n2. 제품 : 피지오겔 크림 똑같은 것으로 또 주문해서 사용합니다. 저는 민감피부라 무향을 선호해서 무향이라 좋고, 사계절 내내 사용하기 무리없구요. 여름엔 생각보단 덜 번들거리고, 겨울엔 저녁에 바르면 아침까지 건조함이 없어 좋습니다. 주문하면서 사용기한 내심 걱정했는데, 이번에도 안심이네요. (제가 사용하는 기간까지 넉넉해요-유통기한이 내년5월?6월까지인것 같았어요. 제품받고 며칠지난터라 정확한 기억이 안남.)\n",
       "28465156  피지오겔~7년째사용중~~                                                                                                                                                                                                                                                                              \n",
       "28463679  항상 쓰던 제품입니다 좋아요~~                                                                                                                                                                                                                                                                          \n",
       "28454963  배송도 빠르고 좋으네영                                                                                                                                                                                                                                                                               \n",
       "28418125  좋네요                                                                                                                                                                                                                                                                                        \n",
       "28397315  바르고 30분이 지나서 얼굴을 보니 빨갛더라구요 너무 놀래서 씻고나서 리뷰를 보는데 참... 건성분들은 모르겠지만 중성 지성 분들은 사지마세요 저는 겨을에 바디로션 대신 바를려구요..^^                                                                                                                                                                                   \n",
       "28371541  보습은 완전 잘돼요! 촉촉한 느낌이고 유분기는 거의 없어요                                                                                                                                                                                                                                                           \n",
       "28359911  좋습니다                                                                                                                                                                                                                                                                                       \n",
       "28337356  좋아요 여름엔 좀 끈적거러요^^                                                                                                                                                                                                                                                                          \n",
       "28329552  촉촉해요~~!!                                                                                                                                                                                                                                                                                   \n",
       "28323871  계속 구매해서 쓰고 있습니다. 이만한 수분크림은 본적이 없어요~                                                                                                                                                                                                                                                        \n",
       "28322750  상품 배송 만족합니다                                                                                                                                                                                                                                                                                \n",
       "28320663  역쉬 보습 짱!                                                                                                                                                                                                                                                                                   \n",
       "28291046  배송 및 상품 만족스럽습니다.                                                                                                                                                                                                                                                                           \n",
       "28256210  좋아요                                                                                                                                                                                                                                                                                        \n",
       "28249981  초1아들이 땀이 많아 땀띠가심해서, 병원에서 보습제 많이 발라주라해서 구입했어요. 며칠바르니 신기하게도 땀띠가 사라졌어요..보습력 짱인거같아요..^^ 로션타입이라 끈적이지않고 부드럽게잘발리네요..                                                                                                                                                                              \n",
       "28246576  크림은 피부가 건조한 저에게는 잘 안 맞는것 같아요\\n바를수록 피부에 안맞는게 느껴질정도에요                                                                                                                                                                                                                                        \n",
       "28234198  잘받았습니다 좋은상풒                                                                                                                                                                                                                                                                                \n",
       "28233222  늘 쓰는 제품이에요. 쿠팡에서 저렴하게 잘 구입했어요.                                                                                                                                                                                                                                                             \n",
       "28202482  넘 잘 쓰고 있어요 감사합니다                                                                                                                                                                                                                                                                           \n",
       "28200055  첫째부터 둘째까지 어린아이를 위해 여름에도 그름만 사용하네요  \\n끈적임없고 흠수 빠르고 아이들피부 아직까지는 별탈없이 건강하게 크고있어요^^*                                                                                                                                                                                                           \n",
       "28188410  피지오겔 크림은 몇년째 사용중이에요~\\n예민한 남매 피부에 잘맞아요~\\n끈적임없이 촉촉해요\\n향도 거부감없이  무향에 가까운듯해요\\n몇년째 꾸준히 잘 쓰고있어요~^^                                                                                                                                                                                               \n",
       "28115326  한상 쓰는 로션이에요 \\n최저가에요 \\n배송빨라요 \\n믿고쓰는 피지오겔                                                                                                                                                                                                                                                    \n",
       "28079136  늘 쓰던거라 믿고 구매합니다                                                                                                                                                                                                                                                                            \n",
       "...                                           ...                                                                                                                                                                                                                                                    \n",
       "1057747   배송도 엄청 빠름 짱짱!!!\\n수분크림 발라도 1시간이면 땡겼는데, 요건 바르고나면 아침까지 쫀득한 피부 유지~\\n\\n근데, 향이 좀;;;; 연고인줄...그것만 빼면 겨울 보습에는 용량/성능 대비 완전 착한 가격임!!!!!                                                                                                                                                               \n",
       "1055044   배송이 무척 빨라 좋았습니다. ^^                                                                                                                                                                                                                                                                        \n",
       "1036945   좋아요                                                                                                                                                                                                                                                                                        \n",
       "1034835   너무 좋아요 건조한 피부에는 딱 ! \\n피지오겔 지금 2번째 쓰고 있는데 재구매 의사 있어요 \\n건정, 민감피부에는 좋음!!! 강추                                                                                                                                                                                                                  \n",
       "1031622   감사합니다   배송 빠르니  좋아요   짱입니다   \\n\\n감사합니다                                                                                                                                                                                                                                                     \n",
       "1030423   보습기능이 뛰어나 건조한 피부에 좋아요                                                                                                                                                                                                                                                                      \n",
       "1026544   늘쓰던제품 좋아요  리뉴얼전 제품이좋긴하지만                                                                                                                                                                                                                                                                   \n",
       "1025879   늘쓰던애기얼굴크림입니다 좋아요이건                                                                                                                                                                                                                                                                         \n",
       "1023053   약간 기름기가 겉도는 느낌이 있긴한데\\n안바르면 너무 건조해서.. \\n아침 저녁으로 잘 바르고 있어요                                                                                                                                                                                                                                   \n",
       "999123    배송도 빠르고 피지오겔 짱 좋아요                                                                                                                                                                                                                                                                         \n",
       "999036    좋아요~^^                                                                                                                                                                                                                                                                                     \n",
       "998151    우리아들 매번쓰는 피지오겔\\n광고를보니 새로워졌더라구요.\\n믿고 구매했는데 2개 싸게 산것같네요.\\n아파서 몇일 씻기지도 못해서 피부가 많이 \\n거칠어졌었는데 하루 이틀 바르니 금방괜찮아 지더라구요.역시 피지오겔이예요.\\n배송도 엄청빨랐어요.\\n로켓배송이라그런지 하루도 안되서\\n받았어요..9일날 밤에 주문했는데 문자로는 11일날온다고 했었는데 주문한 담날 10일날 왔더라구요. 헉 엄청빨라  이랬죠 속으로.ㅋㅋㅋ\\n암듬 잘쓸께요.. 마니파세요.,                                 \n",
       "990590    역시 좋아요~                                                                                                                                                                                                                                                                                    \n",
       "986410    사랑합니다 쿠팡♥♥                                                                                                                                                                                                                                                                                 \n",
       "981495    써보고 좋아서 지인한테 추천해서 하나 더 주문했어요ㅎㅎ\\n저두 다쓰면 또 주문하고싶어요!!                                                                                                                                                                                                                                         \n",
       "972599    나이 많은 사람이 간단하게 바를 수 있는 제품입니다. 기온이 떨어지니 보습이 더욱 필요한데 그에 적합하다고 생각합니다.                                                                                                                                                                                                                         \n",
       "972574    쌀쌀한 가을에 적합한 보습크림입니다. 크림하나만으로 얼굴이 살아났어요. 강추합니다.                                                                                                                                                                                                                                             \n",
       "971510    첨사용해봐요 좋은것같아요                                                                                                                                                                                                                                                                              \n",
       "970169    확실히 다른보습제랑 윤기가달라요                                                                                                                                                                                                                                                                          \n",
       "969965    촉촉해서 오래전 부터 애용하고 있답니다.^^                                                                                                                                                                                                                                                                   \n",
       "958519    배송 빨랐어여,  밤에 하나만 발라도 아침까지 촉촉해여,\\n하지만 요즘 워낙 건조하니 아침에 바르면 오후에는 당김이 있네요                                                                                                                                                                                                                       \n",
       "958285    맘에 들어요 ㅋㅋㅋ 원래 판매가격보다 싸게 사서 좋음\\n그리고 로켓배송 완전 굿굿                                                                                                                                                                                                                                              \n",
       "955039    배송 포장 다 굳이네요..피지오겔 첨 써보는데 아마 오랜동안 쓰게 될것같아요 기존에 쓰던 키*보다 더좋네요^^                                                                                                                                                                                                                              \n",
       "944449    피부가 건조하고 예민한편인데 이거하나만 발라도 촉촉함                                                                                                                                                                                                                                                              \n",
       "916315    항상쓰던거라 그냥 재 구매함 좋음                                                                                                                                                                                                                                                                         \n",
       "916184    쿠폰할인받아서 저렴하게 산거같아서 좋아요ㅎㅎ\\n피지오겔 크림이 피부 유수분밸런스 맞춰주는데 최고인것같아요\\n얼굴말고 몸에발라도 끈적임없이 촉촉하게 보습되서 좋아요♡                                                                                                                                                                                                \n",
       "875538    촉촉하니 좋습니다                                                                                                                                                                                                                                                                                  \n",
       "859519    수분 촉촉 크림!\\n이보다 더 좋을 순 없다. \\n누구에게든 강추...                                                                                                                                                                                                                                                    \n",
       "765117    감사합니다`                                                                                                                                                                                                                                                                                     \n",
       "746711    피지오겔이 좋다고 해서 소문듣고 샀는데 제피부에는 맞지 않는듯 싶어요.\\n수분크림 바르고 피지오겔크림을 사용했는데도 제얼굴피부가 당기는걸 보면 제 피부에게는 맞지 않나봐요.\\n다른사람들과 제 피부과 다르니 제 입장에서 별을 많이 못주었어요.                                                                                                                                                     \n",
       "\n",
       "[3072 rows x 1 columns]"
      ]
     },
     "execution_count": 4,
     "metadata": {},
     "output_type": "execute_result"
    }
   ],
   "source": [
    "# file path\n",
    "PATH = '../dataset/physiogel.csv'\n",
    "df0 = pd.read_csv(PATH)\n",
    "df00 = df0.dropna(subset=['text'])\n",
    "temp = [x.strip().decode('utf-8') for x in df00['text'].values] # erase back and foward spaces/ decoding to unicode \n",
    "df = pd.DataFrame(data=temp, index=df00['uid'], columns=['text'])\n",
    "df"
   ]
  },
  {
   "cell_type": "code",
   "execution_count": 9,
   "metadata": {
    "collapsed": false
   },
   "outputs": [
    {
     "data": {
      "text/plain": [
       "(3072, 1)"
      ]
     },
     "execution_count": 9,
     "metadata": {},
     "output_type": "execute_result"
    }
   ],
   "source": [
    "df.shape"
   ]
  },
  {
   "cell_type": "code",
   "execution_count": 11,
   "metadata": {
    "collapsed": false
   },
   "outputs": [
    {
     "data": {
      "text/plain": [
       "(3072,)"
      ]
     },
     "execution_count": 11,
     "metadata": {},
     "output_type": "execute_result"
    }
   ],
   "source": [
    "corpus = df.text.values\n",
    "corpus.shape"
   ]
  },
  {
   "cell_type": "markdown",
   "metadata": {},
   "source": [
    "<br>\n",
    "# 형태소 분석"
   ]
  },
  {
   "cell_type": "code",
   "execution_count": 5,
   "metadata": {
    "collapsed": true
   },
   "outputs": [],
   "source": [
    "twitter = Twitter()"
   ]
  },
  {
   "cell_type": "code",
   "execution_count": 6,
   "metadata": {
    "collapsed": true
   },
   "outputs": [],
   "source": [
    "def nav_tokenizer(corpus):\n",
    "    pos = twitter.pos(corpus)\n",
    "    res = [x[0] for x in pos if (x[1] == u'Noun' or x[1] == u'Adjective' or x[1] == u'Verb')]\n",
    "    return res"
   ]
  },
  {
   "cell_type": "code",
   "execution_count": 7,
   "metadata": {
    "collapsed": true
   },
   "outputs": [],
   "source": [
    "vect = TfidfVectorizer(tokenizer=nav_tokenizer)"
   ]
  },
  {
   "cell_type": "code",
   "execution_count": 12,
   "metadata": {
    "collapsed": false
   },
   "outputs": [
    {
     "name": "stdout",
     "output_type": "stream",
     "text": [
      "token n/a/v: 4799\n"
     ]
    }
   ],
   "source": [
    "vect.fit(corpus)\n",
    "print(\"token n/a/v: %d\" % len(vect.vocabulary_))"
   ]
  },
  {
   "cell_type": "markdown",
   "metadata": {},
   "source": [
    "* Corpus Encoding"
   ]
  },
  {
   "cell_type": "code",
   "execution_count": 20,
   "metadata": {
    "collapsed": true
   },
   "outputs": [],
   "source": [
    "X = vect.transform(corpus).toarray()"
   ]
  },
  {
   "cell_type": "markdown",
   "metadata": {},
   "source": [
    "<br>\n",
    "### K-means++"
   ]
  },
  {
   "cell_type": "code",
   "execution_count": 22,
   "metadata": {
    "collapsed": false
   },
   "outputs": [
    {
     "data": {
      "text/plain": [
       "KMeans(algorithm='auto', copy_x=True, init='k-means++', max_iter=300,\n",
       "    n_clusters=10, n_init=10, n_jobs=1, precompute_distances='auto',\n",
       "    random_state=None, tol=0.0001, verbose=0)"
      ]
     },
     "execution_count": 22,
     "metadata": {},
     "output_type": "execute_result"
    }
   ],
   "source": [
    "cnum = 10\n",
    "svd = TruncatedSVD(cnum)\n",
    "lsa = make_pipeline(svd, Normalizer(copy=False))\n",
    "\n",
    "X0 = lsa.fit_transform(X)\n",
    "\n",
    "km = KMeans(n_clusters=cnum, init='k-means++', max_iter=300)\n",
    "km.fit(X0)"
   ]
  },
  {
   "cell_type": "code",
   "execution_count": 37,
   "metadata": {
    "collapsed": false
   },
   "outputs": [
    {
     "data": {
      "text/plain": [
       "(3072, 10)"
      ]
     },
     "execution_count": 37,
     "metadata": {},
     "output_type": "execute_result"
    }
   ],
   "source": [
    "X0.shape"
   ]
  },
  {
   "cell_type": "code",
   "execution_count": 24,
   "metadata": {
    "collapsed": false
   },
   "outputs": [
    {
     "name": "stdout",
     "output_type": "stream",
     "text": [
      "Silhouette Coefficient: 0.329\n"
     ]
    }
   ],
   "source": [
    "print(\"Silhouette Coefficient: %0.3f\" % silhouette_score(X0, km.labels_))"
   ]
  },
  {
   "cell_type": "code",
   "execution_count": 25,
   "metadata": {
    "collapsed": false
   },
   "outputs": [
    {
     "name": "stdout",
     "output_type": "stream",
     "text": [
      "label0: 398\n",
      "label1: 823\n",
      "label2: 256\n",
      "label3: 388\n",
      "label4: 201\n",
      "label5: 284\n",
      "label6: 273\n",
      "label7: 56\n",
      "label8: 215\n",
      "label9: 178\n"
     ]
    }
   ],
   "source": [
    "dfRes = pd.DataFrame(df.index.values, columns=['uid'])\n",
    "dfRes['label'] = km.labels_\n",
    "for i in range(cnum):\n",
    "    print('label{}: {}'.format(i, len(dfRes[dfRes.label == i])))"
   ]
  },
  {
   "cell_type": "code",
   "execution_count": 40,
   "metadata": {
    "collapsed": false
   },
   "outputs": [],
   "source": [
    "dfRes = pd.DataFrame(corpus, columns=['text'])\n",
    "dfRes['label'] = km.labels_"
   ]
  },
  {
   "cell_type": "code",
   "execution_count": null,
   "metadata": {
    "collapsed": true
   },
   "outputs": [],
   "source": []
  }
 ],
 "metadata": {
  "kernelspec": {
   "display_name": "Python 2",
   "language": "python",
   "name": "python2"
  },
  "language_info": {
   "codemirror_mode": {
    "name": "ipython",
    "version": 2
   },
   "file_extension": ".py",
   "mimetype": "text/x-python",
   "name": "python",
   "nbconvert_exporter": "python",
   "pygments_lexer": "ipython2",
   "version": "2.7.13"
  }
 },
 "nbformat": 4,
 "nbformat_minor": 2
}
