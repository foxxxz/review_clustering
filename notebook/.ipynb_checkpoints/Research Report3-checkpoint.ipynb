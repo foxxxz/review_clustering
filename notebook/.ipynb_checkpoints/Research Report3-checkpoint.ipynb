{
 "cells": [
  {
   "cell_type": "markdown",
   "metadata": {},
   "source": [
    "# 사용 패키지 소개"
   ]
  },
  {
   "cell_type": "code",
   "execution_count": 264,
   "metadata": {
    "collapsed": true
   },
   "outputs": [],
   "source": [
    "# Preprocessing\n",
    "import numpy as np\n",
    "import pandas as pd\n",
    "import random\n",
    "from konlpy.utils import pprint\n",
    "from konlpy.tag import *\n",
    "\n",
    "# Visualization\n",
    "import matplotlib.pylab as plt\n",
    "import seaborn as sns\n",
    "\n",
    "# scikit-learn\n",
    "from sklearn.feature_extraction.text import CountVectorizer, TfidfVectorizer\n",
    "from sklearn.cluster import KMeans, AffinityPropagation, DBSCAN, AgglomerativeClustering\n",
    "from sklearn.metrics import silhouette_score\n",
    "\n",
    "# gensim\n",
    "from gensim import models\n",
    "from gensim.corpora import mmcorpus, Dictionary\n",
    "from gensim.models import lsimodel, ldamodel, tfidfmodel, rpmodel, logentropy_model, TfidfModel, LsiModel, LdaModel\n",
    "from gensim import matutils, corpora\n",
    "from gensim.models.doc2vec import TaggedDocument\n",
    "from gensim.models import doc2vec\n",
    "from gensim.models.word2vec import Word2Vec"
   ]
  },
  {
   "cell_type": "code",
   "execution_count": 2,
   "metadata": {
    "collapsed": false
   },
   "outputs": [],
   "source": [
    "# set to show all text in the cell\n",
    "pd.set_option('display.max_colwidth', -1)\n",
    "\n",
    "# 한글 표시\n",
    "from matplotlib import font_manager, rc\n",
    "font_name = font_manager.FontProperties(fname=\"/Library/Fonts/NanumGothic.ttf\").get_name()\n",
    "rc('font', family=font_name)"
   ]
  },
  {
   "cell_type": "code",
   "execution_count": 168,
   "metadata": {
    "collapsed": false
   },
   "outputs": [],
   "source": [
    "def print_topwords(df, num, bar):\n",
    "    try:\n",
    "        temp_cor = df.text.values\n",
    "        temp_vec = TfidfVectorizer(tokenizer=nav_tokenizer, stop_words=stopwords + mask1)\n",
    "\n",
    "        temp_vec.fit(temp_cor)\n",
    "\n",
    "        temp = pd.DataFrame(temp_vec.vocabulary_.keys(), columns=['word'])\n",
    "        temp['idx'] = temp_vec.vocabulary_.values()\n",
    "        temp.sort_values(by='idx', inplace=True)\n",
    "        temp['count'] = temp_vec.transform(temp_cor).toarray().sum(axis=0)\n",
    "\n",
    "        topwords = temp.sort_values(['count'], ascending=False)[:num]    \n",
    "    \n",
    "        for i in range(num):\n",
    "            print(topwords['word'].values[i]),\n",
    "\n",
    "        if bar == True:\n",
    "            fig, ax = plt.subplots()\n",
    "            plt.bar(range(num), topwords['count'].values, align='center')\n",
    "            plt.xticks([x for x in range(num)], topwords['word'].values)\n",
    "            ax.set_xticklabels(ax.xaxis.get_majorticklabels(), rotation=90)\n",
    "            plt.tight_layout()\n",
    "            plt.show()\n",
    "        else:\n",
    "            pass\n",
    "    except:\n",
    "        pass"
   ]
  },
  {
   "cell_type": "markdown",
   "metadata": {},
   "source": [
    "<br>\n",
    "# 데이터 소개"
   ]
  },
  {
   "cell_type": "code",
   "execution_count": 4,
   "metadata": {
    "collapsed": false
   },
   "outputs": [
    {
     "data": {
      "text/html": [
       "<div>\n",
       "<style>\n",
       "    .dataframe thead tr:only-child th {\n",
       "        text-align: right;\n",
       "    }\n",
       "\n",
       "    .dataframe thead th {\n",
       "        text-align: left;\n",
       "    }\n",
       "\n",
       "    .dataframe tbody tr th {\n",
       "        vertical-align: top;\n",
       "    }\n",
       "</style>\n",
       "<table border=\"1\" class=\"dataframe\">\n",
       "  <thead>\n",
       "    <tr style=\"text-align: right;\">\n",
       "      <th></th>\n",
       "      <th>text</th>\n",
       "    </tr>\n",
       "    <tr>\n",
       "      <th>uid</th>\n",
       "      <th></th>\n",
       "    </tr>\n",
       "  </thead>\n",
       "  <tbody>\n",
       "    <tr>\n",
       "      <th>28618460</th>\n",
       "      <td>매번 사용하는 제품인데 저렴하게 잘 삿습니당</td>\n",
       "    </tr>\n",
       "    <tr>\n",
       "      <th>28608506</th>\n",
       "      <td>몇 년째 쓰는 제품이예요~\\n다른 기초화장품 없이 피지오겔크링과 선크림으로\\n피부가 좋아졌 어요~~ 여름이면 항상 얼굴이  따끔거렸는데 \\n그것도 다 없어지고~  암튼 전 화장품은 이거 하나만발라요~\\n자극도 없고 완전 좋은 제품입니다~~</td>\n",
       "    </tr>\n",
       "    <tr>\n",
       "      <th>28584972</th>\n",
       "      <td>조금 기름진느낌이 없지않아있어요</td>\n",
       "    </tr>\n",
       "    <tr>\n",
       "      <th>28584914</th>\n",
       "      <td>가격부담이 되도 계속 쓰고 있는 피지오겔 크림\\n귀찮을때 이거 하나만 바르고 자도 다음날 화장 잘먹고 얼굴에서 광나요\\n전 밤엔 듬뿍 아침엔 적당량만 발라요(집순이일땐 듬뿍)\\n건성 민감성 피부에 좋아요 무향에 자극없고 보습력 좋아요\\n로켓배송 덕분에 빠르게 쓸 수 있어서 좋았어요</td>\n",
       "    </tr>\n",
       "    <tr>\n",
       "      <th>28581673</th>\n",
       "      <td>촉촉해서 수분크림대신바르는데 좋아요</td>\n",
       "    </tr>\n",
       "    <tr>\n",
       "      <th>28567308</th>\n",
       "      <td>배송빨라 좋네요</td>\n",
       "    </tr>\n",
       "    <tr>\n",
       "      <th>28542147</th>\n",
       "      <td>1. 배송 : 로켓 아니어도 괜찬은데, 다음날 바로 도착헸네요. 배송기사님 감사합니다.\\n2. 제품 : 피지오겔 크림 똑같은 것으로 또 주문해서 사용합니다. 저는 민감피부라 무향을 선호해서 무향이라 좋고, 사계절 내내 사용하기 무리없구요. 여름엔 생각보단 덜 번들거리고, 겨울엔 저녁에 바르면 아침까지 건조함이 없어 좋습니다. 주문하면서 사용기한 내심 걱정했는데, 이번에도 안심이네요. (제가 사용하는 기간까지 넉넉해요-유통기한이 내년5월?6월까지인것 같았어요. 제품받고 며칠지난터라 정확한 기억이 안남.)</td>\n",
       "    </tr>\n",
       "    <tr>\n",
       "      <th>28465156</th>\n",
       "      <td>피지오겔~7년째사용중~~</td>\n",
       "    </tr>\n",
       "    <tr>\n",
       "      <th>28463679</th>\n",
       "      <td>항상 쓰던 제품입니다 좋아요~~</td>\n",
       "    </tr>\n",
       "    <tr>\n",
       "      <th>28454963</th>\n",
       "      <td>배송도 빠르고 좋으네영</td>\n",
       "    </tr>\n",
       "  </tbody>\n",
       "</table>\n",
       "</div>"
      ],
      "text/plain": [
       "                                                                                                                                                                                                                                                                                                 text\n",
       "uid                                                                                                                                                                                                                                                                                                  \n",
       "28618460  매번 사용하는 제품인데 저렴하게 잘 삿습니당                                                                                                                                                                                                                                                                   \n",
       "28608506  몇 년째 쓰는 제품이예요~\\n다른 기초화장품 없이 피지오겔크링과 선크림으로\\n피부가 좋아졌 어요~~ 여름이면 항상 얼굴이  따끔거렸는데 \\n그것도 다 없어지고~  암튼 전 화장품은 이거 하나만발라요~\\n자극도 없고 완전 좋은 제품입니다~~                                                                                                                                                      \n",
       "28584972  조금 기름진느낌이 없지않아있어요                                                                                                                                                                                                                                                                          \n",
       "28584914  가격부담이 되도 계속 쓰고 있는 피지오겔 크림\\n귀찮을때 이거 하나만 바르고 자도 다음날 화장 잘먹고 얼굴에서 광나요\\n전 밤엔 듬뿍 아침엔 적당량만 발라요(집순이일땐 듬뿍)\\n건성 민감성 피부에 좋아요 무향에 자극없고 보습력 좋아요\\n로켓배송 덕분에 빠르게 쓸 수 있어서 좋았어요                                                                                                                              \n",
       "28581673  촉촉해서 수분크림대신바르는데 좋아요                                                                                                                                                                                                                                                                        \n",
       "28567308  배송빨라 좋네요                                                                                                                                                                                                                                                                                   \n",
       "28542147  1. 배송 : 로켓 아니어도 괜찬은데, 다음날 바로 도착헸네요. 배송기사님 감사합니다.\\n2. 제품 : 피지오겔 크림 똑같은 것으로 또 주문해서 사용합니다. 저는 민감피부라 무향을 선호해서 무향이라 좋고, 사계절 내내 사용하기 무리없구요. 여름엔 생각보단 덜 번들거리고, 겨울엔 저녁에 바르면 아침까지 건조함이 없어 좋습니다. 주문하면서 사용기한 내심 걱정했는데, 이번에도 안심이네요. (제가 사용하는 기간까지 넉넉해요-유통기한이 내년5월?6월까지인것 같았어요. 제품받고 며칠지난터라 정확한 기억이 안남.)\n",
       "28465156  피지오겔~7년째사용중~~                                                                                                                                                                                                                                                                              \n",
       "28463679  항상 쓰던 제품입니다 좋아요~~                                                                                                                                                                                                                                                                          \n",
       "28454963  배송도 빠르고 좋으네영                                                                                                                                                                                                                                                                               "
      ]
     },
     "execution_count": 4,
     "metadata": {},
     "output_type": "execute_result"
    }
   ],
   "source": [
    "# file path\n",
    "PATH = '../dataset/physiogel.csv'\n",
    "df0 = pd.read_csv(PATH)\n",
    "df00 = df0.dropna(subset=['text'])\n",
    "temp = [x.strip().decode('utf-8') for x in df00['text'].values] # erase back and foward spaces/ decoding to unicode \n",
    "df = pd.DataFrame(data=temp, index=df00['uid'], columns=['text'])\n",
    "df.head(10)"
   ]
  },
  {
   "cell_type": "code",
   "execution_count": 5,
   "metadata": {
    "collapsed": false
   },
   "outputs": [
    {
     "data": {
      "text/plain": [
       "(3072,)"
      ]
     },
     "execution_count": 5,
     "metadata": {},
     "output_type": "execute_result"
    }
   ],
   "source": [
    "corpus = df.text.values\n",
    "corpus.shape"
   ]
  },
  {
   "cell_type": "code",
   "execution_count": 6,
   "metadata": {
    "collapsed": false
   },
   "outputs": [
    {
     "data": {
      "image/png": "[encoded data removed]",
      "text/plain": [
       "<matplotlib.figure.Figure at 0x10c417750>"
      ]
     },
     "metadata": {},
     "output_type": "display_data"
    }
   ],
   "source": [
    "sns.distplot([len(x) for x in corpus])\n",
    "plt.show()"
   ]
  },
  {
   "cell_type": "markdown",
   "metadata": {},
   "source": [
    "<br>\n",
    "# 형태소 분석"
   ]
  },
  {
   "cell_type": "markdown",
   "metadata": {},
   "source": [
    "* konlpy Twitter 형태소 분석기를 활용한 '명사', '형용사', '동사'를 추출하는 Tokenizer"
   ]
  },
  {
   "cell_type": "code",
   "execution_count": 7,
   "metadata": {
    "collapsed": true
   },
   "outputs": [],
   "source": [
    "def nav_tokenizer(corpus):\n",
    "    twitter = Twitter()\n",
    "    pos = twitter.pos(corpus)\n",
    "    res = [x[0] for x in pos if (x[1] == u'Noun' or x[1] == u'Adjective' or x[1] == u'Verb')]\n",
    "    return res"
   ]
  },
  {
   "cell_type": "markdown",
   "metadata": {},
   "source": [
    "<br>\n",
    "* Stopwords를 분석 차원에서 제거하기 위한 함수 "
   ]
  },
  {
   "cell_type": "code",
   "execution_count": 8,
   "metadata": {
    "collapsed": true
   },
   "outputs": [],
   "source": [
    "def remove_stopwords(words, stopwords):\n",
    "    res = [x for x in words if x not in stopwords]\n",
    "    return res"
   ]
  },
  {
   "cell_type": "markdown",
   "metadata": {},
   "source": [
    "<br>\n",
    "* 빈출 단어 확인"
   ]
  },
  {
   "cell_type": "code",
   "execution_count": 9,
   "metadata": {
    "collapsed": false
   },
   "outputs": [
    {
     "data": {
      "text/html": [
       "<div>\n",
       "<style>\n",
       "    .dataframe thead tr:only-child th {\n",
       "        text-align: right;\n",
       "    }\n",
       "\n",
       "    .dataframe thead th {\n",
       "        text-align: left;\n",
       "    }\n",
       "\n",
       "    .dataframe tbody tr th {\n",
       "        vertical-align: top;\n",
       "    }\n",
       "</style>\n",
       "<table border=\"1\" class=\"dataframe\">\n",
       "  <thead>\n",
       "    <tr style=\"text-align: right;\">\n",
       "      <th></th>\n",
       "      <th>word</th>\n",
       "      <th>count</th>\n",
       "    </tr>\n",
       "  </thead>\n",
       "  <tbody>\n",
       "    <tr>\n",
       "      <th>4170</th>\n",
       "      <td>좋</td>\n",
       "      <td>1893</td>\n",
       "    </tr>\n",
       "    <tr>\n",
       "      <th>690</th>\n",
       "      <td>피부</td>\n",
       "      <td>828</td>\n",
       "    </tr>\n",
       "    <tr>\n",
       "      <th>1149</th>\n",
       "      <td>피</td>\n",
       "      <td>725</td>\n",
       "    </tr>\n",
       "    <tr>\n",
       "      <th>3764</th>\n",
       "      <td>겔</td>\n",
       "      <td>701</td>\n",
       "    </tr>\n",
       "    <tr>\n",
       "      <th>3308</th>\n",
       "      <td>쓰</td>\n",
       "      <td>696</td>\n",
       "    </tr>\n",
       "    <tr>\n",
       "      <th>2352</th>\n",
       "      <td>보습</td>\n",
       "      <td>510</td>\n",
       "    </tr>\n",
       "    <tr>\n",
       "      <th>3874</th>\n",
       "      <td>크림</td>\n",
       "      <td>502</td>\n",
       "    </tr>\n",
       "    <tr>\n",
       "      <th>3707</th>\n",
       "      <td>제품</td>\n",
       "      <td>497</td>\n",
       "    </tr>\n",
       "    <tr>\n",
       "      <th>3114</th>\n",
       "      <td>바르</td>\n",
       "      <td>395</td>\n",
       "    </tr>\n",
       "    <tr>\n",
       "      <th>688</th>\n",
       "      <td>배송</td>\n",
       "      <td>388</td>\n",
       "    </tr>\n",
       "    <tr>\n",
       "      <th>2351</th>\n",
       "      <td>써</td>\n",
       "      <td>359</td>\n",
       "    </tr>\n",
       "    <tr>\n",
       "      <th>1478</th>\n",
       "      <td>구매</td>\n",
       "      <td>323</td>\n",
       "    </tr>\n",
       "    <tr>\n",
       "      <th>4032</th>\n",
       "      <td>발라</td>\n",
       "      <td>316</td>\n",
       "    </tr>\n",
       "    <tr>\n",
       "      <th>3730</th>\n",
       "      <td>너무</td>\n",
       "      <td>303</td>\n",
       "    </tr>\n",
       "    <tr>\n",
       "      <th>3314</th>\n",
       "      <td>아기</td>\n",
       "      <td>302</td>\n",
       "    </tr>\n",
       "    <tr>\n",
       "      <th>2642</th>\n",
       "      <td>잘</td>\n",
       "      <td>296</td>\n",
       "    </tr>\n",
       "    <tr>\n",
       "      <th>2523</th>\n",
       "      <td>같아</td>\n",
       "      <td>284</td>\n",
       "    </tr>\n",
       "    <tr>\n",
       "      <th>3184</th>\n",
       "      <td>얼굴</td>\n",
       "      <td>276</td>\n",
       "    </tr>\n",
       "    <tr>\n",
       "      <th>1931</th>\n",
       "      <td>했</td>\n",
       "      <td>274</td>\n",
       "    </tr>\n",
       "    <tr>\n",
       "      <th>3557</th>\n",
       "      <td>것</td>\n",
       "      <td>265</td>\n",
       "    </tr>\n",
       "    <tr>\n",
       "      <th>328</th>\n",
       "      <td>거</td>\n",
       "      <td>239</td>\n",
       "    </tr>\n",
       "    <tr>\n",
       "      <th>1929</th>\n",
       "      <td>입니</td>\n",
       "      <td>234</td>\n",
       "    </tr>\n",
       "    <tr>\n",
       "      <th>2985</th>\n",
       "      <td>가격</td>\n",
       "      <td>230</td>\n",
       "    </tr>\n",
       "    <tr>\n",
       "      <th>2891</th>\n",
       "      <td>로션</td>\n",
       "      <td>228</td>\n",
       "    </tr>\n",
       "    <tr>\n",
       "      <th>583</th>\n",
       "      <td>저</td>\n",
       "      <td>218</td>\n",
       "    </tr>\n",
       "    <tr>\n",
       "      <th>1295</th>\n",
       "      <td>있어</td>\n",
       "      <td>212</td>\n",
       "    </tr>\n",
       "    <tr>\n",
       "      <th>419</th>\n",
       "      <td>아이</td>\n",
       "      <td>202</td>\n",
       "    </tr>\n",
       "    <tr>\n",
       "      <th>1222</th>\n",
       "      <td>쓰는</td>\n",
       "      <td>200</td>\n",
       "    </tr>\n",
       "    <tr>\n",
       "      <th>2455</th>\n",
       "      <td>샀</td>\n",
       "      <td>198</td>\n",
       "    </tr>\n",
       "    <tr>\n",
       "      <th>1020</th>\n",
       "      <td>건성</td>\n",
       "      <td>191</td>\n",
       "    </tr>\n",
       "    <tr>\n",
       "      <th>...</th>\n",
       "      <td>...</td>\n",
       "      <td>...</td>\n",
       "    </tr>\n",
       "    <tr>\n",
       "      <th>3269</th>\n",
       "      <td>럽</td>\n",
       "      <td>1</td>\n",
       "    </tr>\n",
       "    <tr>\n",
       "      <th>1351</th>\n",
       "      <td>러워</td>\n",
       "      <td>1</td>\n",
       "    </tr>\n",
       "    <tr>\n",
       "      <th>4028</th>\n",
       "      <td>오니</td>\n",
       "      <td>1</td>\n",
       "    </tr>\n",
       "    <tr>\n",
       "      <th>311</th>\n",
       "      <td>러가지써밧</td>\n",
       "      <td>1</td>\n",
       "    </tr>\n",
       "    <tr>\n",
       "      <th>4346</th>\n",
       "      <td>량</td>\n",
       "      <td>1</td>\n",
       "    </tr>\n",
       "    <tr>\n",
       "      <th>873</th>\n",
       "      <td>램</td>\n",
       "      <td>1</td>\n",
       "    </tr>\n",
       "    <tr>\n",
       "      <th>1328</th>\n",
       "      <td>옥</td>\n",
       "      <td>1</td>\n",
       "    </tr>\n",
       "    <tr>\n",
       "      <th>4652</th>\n",
       "      <td>래야</td>\n",
       "      <td>1</td>\n",
       "    </tr>\n",
       "    <tr>\n",
       "      <th>4417</th>\n",
       "      <td>온더</td>\n",
       "      <td>1</td>\n",
       "    </tr>\n",
       "    <tr>\n",
       "      <th>291</th>\n",
       "      <td>랍</td>\n",
       "      <td>1</td>\n",
       "    </tr>\n",
       "    <tr>\n",
       "      <th>2893</th>\n",
       "      <td>오옹</td>\n",
       "      <td>1</td>\n",
       "    </tr>\n",
       "    <tr>\n",
       "      <th>4510</th>\n",
       "      <td>오십원</td>\n",
       "      <td>1</td>\n",
       "    </tr>\n",
       "    <tr>\n",
       "      <th>2217</th>\n",
       "      <td>오반</td>\n",
       "      <td>1</td>\n",
       "    </tr>\n",
       "    <tr>\n",
       "      <th>1044</th>\n",
       "      <td>령</td>\n",
       "      <td>1</td>\n",
       "    </tr>\n",
       "    <tr>\n",
       "      <th>2094</th>\n",
       "      <td>롤러</td>\n",
       "      <td>1</td>\n",
       "    </tr>\n",
       "    <tr>\n",
       "      <th>1363</th>\n",
       "      <td>오더</td>\n",
       "      <td>1</td>\n",
       "    </tr>\n",
       "    <tr>\n",
       "      <th>1624</th>\n",
       "      <td>오드</td>\n",
       "      <td>1</td>\n",
       "    </tr>\n",
       "    <tr>\n",
       "      <th>2967</th>\n",
       "      <td>론</td>\n",
       "      <td>1</td>\n",
       "    </tr>\n",
       "    <tr>\n",
       "      <th>2465</th>\n",
       "      <td>오래되는</td>\n",
       "      <td>1</td>\n",
       "    </tr>\n",
       "    <tr>\n",
       "      <th>1470</th>\n",
       "      <td>로즈힙오일</td>\n",
       "      <td>1</td>\n",
       "    </tr>\n",
       "    <tr>\n",
       "      <th>2254</th>\n",
       "      <td>오래됩</td>\n",
       "      <td>1</td>\n",
       "    </tr>\n",
       "    <tr>\n",
       "      <th>787</th>\n",
       "      <td>오래오래</td>\n",
       "      <td>1</td>\n",
       "    </tr>\n",
       "    <tr>\n",
       "      <th>4350</th>\n",
       "      <td>로즈힙</td>\n",
       "      <td>1</td>\n",
       "    </tr>\n",
       "    <tr>\n",
       "      <th>2673</th>\n",
       "      <td>로숀</td>\n",
       "      <td>1</td>\n",
       "    </tr>\n",
       "    <tr>\n",
       "      <th>2918</th>\n",
       "      <td>오로지</td>\n",
       "      <td>1</td>\n",
       "    </tr>\n",
       "    <tr>\n",
       "      <th>2970</th>\n",
       "      <td>로서</td>\n",
       "      <td>1</td>\n",
       "    </tr>\n",
       "    <tr>\n",
       "      <th>977</th>\n",
       "      <td>오르는</td>\n",
       "      <td>1</td>\n",
       "    </tr>\n",
       "    <tr>\n",
       "      <th>4433</th>\n",
       "      <td>오른</td>\n",
       "      <td>1</td>\n",
       "    </tr>\n",
       "    <tr>\n",
       "      <th>1517</th>\n",
       "      <td>오름</td>\n",
       "      <td>1</td>\n",
       "    </tr>\n",
       "    <tr>\n",
       "      <th>3353</th>\n",
       "      <td>힘듭니</td>\n",
       "      <td>1</td>\n",
       "    </tr>\n",
       "  </tbody>\n",
       "</table>\n",
       "<p>4799 rows × 2 columns</p>\n",
       "</div>"
      ],
      "text/plain": [
       "       word  count\n",
       "4170  좋      1893 \n",
       "690   피부     828  \n",
       "1149  피      725  \n",
       "3764  겔      701  \n",
       "3308  쓰      696  \n",
       "2352  보습     510  \n",
       "3874  크림     502  \n",
       "3707  제품     497  \n",
       "3114  바르     395  \n",
       "688   배송     388  \n",
       "2351  써      359  \n",
       "1478  구매     323  \n",
       "4032  발라     316  \n",
       "3730  너무     303  \n",
       "3314  아기     302  \n",
       "2642  잘      296  \n",
       "2523  같아     284  \n",
       "3184  얼굴     276  \n",
       "1931  했      274  \n",
       "3557  것      265  \n",
       "328   거      239  \n",
       "1929  입니     234  \n",
       "2985  가격     230  \n",
       "2891  로션     228  \n",
       "583   저      218  \n",
       "1295  있어     212  \n",
       "419   아이     202  \n",
       "1222  쓰는     200  \n",
       "2455  샀      198  \n",
       "1020  건성     191  \n",
       "...   ..     ...  \n",
       "3269  럽      1    \n",
       "1351  러워     1    \n",
       "4028  오니     1    \n",
       "311   러가지써밧  1    \n",
       "4346  량      1    \n",
       "873   램      1    \n",
       "1328  옥      1    \n",
       "4652  래야     1    \n",
       "4417  온더     1    \n",
       "291   랍      1    \n",
       "2893  오옹     1    \n",
       "4510  오십원    1    \n",
       "2217  오반     1    \n",
       "1044  령      1    \n",
       "2094  롤러     1    \n",
       "1363  오더     1    \n",
       "1624  오드     1    \n",
       "2967  론      1    \n",
       "2465  오래되는   1    \n",
       "1470  로즈힙오일  1    \n",
       "2254  오래됩    1    \n",
       "787   오래오래   1    \n",
       "4350  로즈힙    1    \n",
       "2673  로숀     1    \n",
       "2918  오로지    1    \n",
       "2970  로서     1    \n",
       "977   오르는    1    \n",
       "4433  오른     1    \n",
       "1517  오름     1    \n",
       "3353  힘듭니    1    \n",
       "\n",
       "[4799 rows x 2 columns]"
      ]
     },
     "execution_count": 9,
     "metadata": {},
     "output_type": "execute_result"
    }
   ],
   "source": [
    "vect0 = CountVectorizer(tokenizer=nav_tokenizer).fit(corpus)\n",
    "temp = pd.DataFrame(vect0.vocabulary_.keys(), columns=['word'])\n",
    "temp['idx'] = vect0.vocabulary_.values()\n",
    "temp.sort_values(by='idx', inplace=True)\n",
    "temp.drop('idx', axis=1, inplace=True)\n",
    "temp['count'] = vect0.transform(corpus).toarray().sum(axis=0)\n",
    "temp.sort_values(['count'], ascending=False)"
   ]
  },
  {
   "cell_type": "markdown",
   "metadata": {},
   "source": [
    "<br>\n",
    "* 빈출 단어 제거  \n",
    "> 제품과 직접 관련이 있거나 너무 많은 빈도로 쓰인 상위 단어 제거"
   ]
  },
  {
   "cell_type": "code",
   "execution_count": 10,
   "metadata": {
    "collapsed": true
   },
   "outputs": [],
   "source": [
    "stopwords = [u'좋', u'피부', u'겔', u'피', u'쓰', u'크림']"
   ]
  },
  {
   "cell_type": "code",
   "execution_count": 11,
   "metadata": {
    "collapsed": false
   },
   "outputs": [
    {
     "name": "stdout",
     "output_type": "stream",
     "text": [
      "token n/a/v: 4793\n"
     ]
    }
   ],
   "source": [
    "vect = TfidfVectorizer(tokenizer=nav_tokenizer, stop_words=stopwords)\n",
    "vect.fit(corpus)\n",
    "print(\"token n/a/v: %d\" % len(vect.vocabulary_))"
   ]
  },
  {
   "cell_type": "markdown",
   "metadata": {},
   "source": [
    "<br>\n",
    "* 1단어 어휘 중 Tokenizer의 성능으로 인해 무의미하게 수집된 어휘 제거"
   ]
  },
  {
   "cell_type": "code",
   "execution_count": 12,
   "metadata": {
    "collapsed": false
   },
   "outputs": [
    {
     "data": {
      "text/plain": [
       "579"
      ]
     },
     "execution_count": 12,
     "metadata": {},
     "output_type": "execute_result"
    }
   ],
   "source": [
    "# '입, 뺨, 향, 손, 떡, 몇, 봄, 딸, 집, 코, 양, 년, 늘' 을 제외한 1단어 명사 명사 벡터 Stopwords에 추가\n",
    "mask1 = [x for x in vect.vocabulary_ if len(x) == 1]\n",
    "mask1 = [x for x in mask1 if x not in [u'입', u'뺨', u'향', u'손', u'떡', u'몇', u'봄', u'딸', u'집', u'코', u'양', u'년', u'좋', u'늘']]\n",
    "len(mask1)"
   ]
  },
  {
   "cell_type": "code",
   "execution_count": 13,
   "metadata": {
    "collapsed": false
   },
   "outputs": [
    {
     "name": "stdout",
     "output_type": "stream",
     "text": [
      "token n/a/v: 4214\n"
     ]
    }
   ],
   "source": [
    "vect = TfidfVectorizer(tokenizer=nav_tokenizer, stop_words=stopwords + mask1)\n",
    "vect.fit(corpus)\n",
    "print(\"token n/a/v: %d\" % len(vect.vocabulary_))"
   ]
  },
  {
   "cell_type": "code",
   "execution_count": 14,
   "metadata": {
    "collapsed": true
   },
   "outputs": [],
   "source": [
    "# corpus array for scikit-learn\n",
    "X = vect.transform(corpus).toarray()"
   ]
  },
  {
   "cell_type": "markdown",
   "metadata": {},
   "source": [
    "<br>\n",
    "# LDA (Latent Dirichlet allocation)\n",
    "문서간 주제 찾기"
   ]
  },
  {
   "cell_type": "code",
   "execution_count": 15,
   "metadata": {
    "collapsed": false
   },
   "outputs": [],
   "source": [
    "lda_docs = [nav_tokenizer(x) for x in corpus]\n",
    "lda_docs = [remove_stopwords(x, stopwords + mask1) for x in lda_docs]\n",
    "lda_dict = corpora.Dictionary(lda_docs)"
   ]
  },
  {
   "cell_type": "code",
   "execution_count": 17,
   "metadata": {
    "collapsed": false
   },
   "outputs": [],
   "source": [
    "#calulate TF-IDF\n",
    "tf_ps = [lda_dict.doc2bow(x) for x in lda_docs]\n",
    "tf_model = models.TfidfModel(tf_ps)\n",
    "X_lda = tf_model[tf_ps]\n",
    "corpora.MmCorpus.serialize('ps.mm', X_lda)"
   ]
  },
  {
   "cell_type": "markdown",
   "metadata": {},
   "source": [
    "<br>\n",
    "* 10개 주제 모델링"
   ]
  },
  {
   "cell_type": "code",
   "execution_count": 32,
   "metadata": {
    "collapsed": true
   },
   "outputs": [],
   "source": [
    "# train topic model\n",
    "ntopics =10\n",
    "nwords = 5"
   ]
  },
  {
   "cell_type": "code",
   "execution_count": 36,
   "metadata": {
    "collapsed": false,
    "scrolled": true
   },
   "outputs": [
    {
     "name": "stdout",
     "output_type": "stream",
     "text": [
      "[(0,\n",
      "  0.022*\"빠르\" + 0.022*\"배송\" + 0.018*\"늘\" + 0.011*\"제품\" + 0.011*\"입니\"),\n",
      " (1,\n",
      "  0.010*\"제품\" + 0.010*\"정말\" + 0.009*\"배송\" + 0.009*\"필요없\" + 0.007*\"보습\"),\n",
      " (2,\n",
      "  0.014*\"아기\" + 0.010*\"애기\" + 0.009*\"발라\" + 0.008*\"우리\" + 0.008*\"배송\"),\n",
      " (3,\n",
      "  0.019*\"저렴\" + 0.016*\"하게\" + 0.014*\"싸게\" + 0.011*\"배송\" + 0.010*\"빠르\"),\n",
      " (4,\n",
      "  0.015*\"보습\" + 0.013*\"최고\" + 0.008*\"믿고\" + 0.007*\"입니\" + 0.007*\"사용하고\"),\n",
      " (5,\n",
      "  0.029*\"너무\" + 0.019*\"쓰는\" + 0.015*\"촉촉하니\" + 0.010*\"보습\" + 0.009*\"항상\"),\n",
      " (6,\n",
      "  0.032*\"보습\" + 0.026*\"역시\" + 0.010*\"굿굿\" + 0.007*\"쫀쫀\" + 0.005*\"말할\"),\n",
      " (7,\n",
      "  0.010*\"받았\" + 0.007*\"포장\" + 0.007*\"상태\" + 0.007*\"역시\" + 0.007*\"순해서\"),\n",
      " (8,\n",
      "  0.019*\"항상\" + 0.010*\"만족합\" + 0.010*\"구매\" + 0.009*\"순하고\" + 0.008*\"완전\"),\n",
      " (9,\n",
      "  0.014*\"촉촉하고\" + 0.011*\"건성\" + 0.009*\"부드럽\" + 0.008*\"겨울\" + 0.008*\"있어\")]\n"
     ]
    }
   ],
   "source": [
    "# LDA\n",
    "np.random.seed(1)\n",
    "lda = models.ldamodel.LdaModel(X_lda, id2word=lda_dict, num_topics=ntopics)\n",
    "pprint(lda.print_topics(num_topics=ntopics, num_words=nwords))"
   ]
  },
  {
   "cell_type": "code",
   "execution_count": 37,
   "metadata": {
    "collapsed": true
   },
   "outputs": [],
   "source": [
    "def get_labels(model, tres, sentence):\n",
    "    lda = model\n",
    "    proba_list = lda[sentence]\n",
    "    res = [x for x in proba_list if x[1] >= tres]\n",
    "    if len(res) == 0:\n",
    "        res = None\n",
    "    return res"
   ]
  },
  {
   "cell_type": "markdown",
   "metadata": {},
   "source": [
    "<br>\n",
    "* Probability 0.3 수준에서 라벨링 테이블 작성"
   ]
  },
  {
   "cell_type": "code",
   "execution_count": 40,
   "metadata": {
    "collapsed": false
   },
   "outputs": [],
   "source": [
    "dfRes = pd.DataFrame(corpus, columns=['text'])\n",
    "for i in range(10):\n",
    "    dfRes[i] = 0; \n",
    "dfRes['unknown'] = 0\n",
    "    \n",
    "for i in range(len(tf_ps)):\n",
    "    temp = get_labels(lda, 0.3, tf_ps[i])\n",
    "    if temp != None:\n",
    "        idx = [x[0] for x in temp]\n",
    "        dfRes.set_value(i, idx, 1)\n",
    "    elif temp == None:\n",
    "        dfRes.set_value(i, ['unknown'], 1)"
   ]
  },
  {
   "cell_type": "code",
   "execution_count": 41,
   "metadata": {
    "collapsed": false,
    "scrolled": false
   },
   "outputs": [
    {
     "name": "stdout",
     "output_type": "stream",
     "text": [
      "label(0): 434\n",
      "label(1): 374\n",
      "label(2): 431\n",
      "label(3): 356\n",
      "label(4): 351\n",
      "label(5): 259\n",
      "label(6): 235\n",
      "label(7): 140\n",
      "label(8): 480\n",
      "label(9): 273\n",
      "unknown: 234\n"
     ]
    }
   ],
   "source": [
    "# number of reviews for each label\n",
    "for i in range(10):\n",
    "    print('label({}): {}'.format(i, len(dfRes[(dfRes[i] == 1)])))\n",
    "print('unknown: {}'.format(len(dfRes[(dfRes['unknown'] == 1)])))"
   ]
  },
  {
   "cell_type": "markdown",
   "metadata": {},
   "source": [
    "<br>\n",
    "* <b>라벨 0:</b> (빠르 + 배송 + 늘 + 제품 + 입니) "
   ]
  },
  {
   "cell_type": "code",
   "execution_count": 42,
   "metadata": {
    "collapsed": false,
    "scrolled": true
   },
   "outputs": [
    {
     "data": {
      "text/html": [
       "<div>\n",
       "<style>\n",
       "    .dataframe thead tr:only-child th {\n",
       "        text-align: right;\n",
       "    }\n",
       "\n",
       "    .dataframe thead th {\n",
       "        text-align: left;\n",
       "    }\n",
       "\n",
       "    .dataframe tbody tr th {\n",
       "        vertical-align: top;\n",
       "    }\n",
       "</style>\n",
       "<table border=\"1\" class=\"dataframe\">\n",
       "  <thead>\n",
       "    <tr style=\"text-align: right;\">\n",
       "      <th></th>\n",
       "      <th>text</th>\n",
       "      <th>0</th>\n",
       "      <th>1</th>\n",
       "      <th>2</th>\n",
       "      <th>3</th>\n",
       "      <th>4</th>\n",
       "      <th>5</th>\n",
       "      <th>6</th>\n",
       "      <th>7</th>\n",
       "      <th>8</th>\n",
       "      <th>9</th>\n",
       "      <th>unknown</th>\n",
       "    </tr>\n",
       "  </thead>\n",
       "  <tbody>\n",
       "    <tr>\n",
       "      <th>8</th>\n",
       "      <td>항상 쓰던 제품입니다 좋아요~~</td>\n",
       "      <td>1</td>\n",
       "      <td>0</td>\n",
       "      <td>0</td>\n",
       "      <td>0</td>\n",
       "      <td>0</td>\n",
       "      <td>0</td>\n",
       "      <td>0</td>\n",
       "      <td>0</td>\n",
       "      <td>0</td>\n",
       "      <td>0</td>\n",
       "      <td>0</td>\n",
       "    </tr>\n",
       "    <tr>\n",
       "      <th>9</th>\n",
       "      <td>배송도 빠르고 좋으네영</td>\n",
       "      <td>1</td>\n",
       "      <td>0</td>\n",
       "      <td>0</td>\n",
       "      <td>0</td>\n",
       "      <td>0</td>\n",
       "      <td>0</td>\n",
       "      <td>0</td>\n",
       "      <td>0</td>\n",
       "      <td>0</td>\n",
       "      <td>0</td>\n",
       "      <td>0</td>\n",
       "    </tr>\n",
       "    <tr>\n",
       "      <th>15</th>\n",
       "      <td>촉촉해요~~!!</td>\n",
       "      <td>1</td>\n",
       "      <td>0</td>\n",
       "      <td>0</td>\n",
       "      <td>0</td>\n",
       "      <td>0</td>\n",
       "      <td>0</td>\n",
       "      <td>0</td>\n",
       "      <td>0</td>\n",
       "      <td>0</td>\n",
       "      <td>0</td>\n",
       "      <td>0</td>\n",
       "    </tr>\n",
       "    <tr>\n",
       "      <th>29</th>\n",
       "      <td>늘 쓰던거라 믿고 구매합니다</td>\n",
       "      <td>1</td>\n",
       "      <td>0</td>\n",
       "      <td>0</td>\n",
       "      <td>0</td>\n",
       "      <td>0</td>\n",
       "      <td>0</td>\n",
       "      <td>0</td>\n",
       "      <td>0</td>\n",
       "      <td>0</td>\n",
       "      <td>0</td>\n",
       "      <td>0</td>\n",
       "    </tr>\n",
       "    <tr>\n",
       "      <th>47</th>\n",
       "      <td>매번 쓰는 인생 크림입니다.  저렴하게 잘샀어요.  배송도 빠르고 감사합니다.</td>\n",
       "      <td>1</td>\n",
       "      <td>0</td>\n",
       "      <td>0</td>\n",
       "      <td>0</td>\n",
       "      <td>0</td>\n",
       "      <td>0</td>\n",
       "      <td>0</td>\n",
       "      <td>0</td>\n",
       "      <td>0</td>\n",
       "      <td>0</td>\n",
       "      <td>0</td>\n",
       "    </tr>\n",
       "    <tr>\n",
       "      <th>49</th>\n",
       "      <td>이제품만씁니다</td>\n",
       "      <td>1</td>\n",
       "      <td>0</td>\n",
       "      <td>0</td>\n",
       "      <td>0</td>\n",
       "      <td>0</td>\n",
       "      <td>0</td>\n",
       "      <td>0</td>\n",
       "      <td>0</td>\n",
       "      <td>0</td>\n",
       "      <td>0</td>\n",
       "      <td>0</td>\n",
       "    </tr>\n",
       "    <tr>\n",
       "      <th>51</th>\n",
       "      <td>너무나 유명한 피지오겔 제품입니다. 피부 건조증을 한번에 해결합니다.</td>\n",
       "      <td>1</td>\n",
       "      <td>0</td>\n",
       "      <td>0</td>\n",
       "      <td>0</td>\n",
       "      <td>0</td>\n",
       "      <td>0</td>\n",
       "      <td>0</td>\n",
       "      <td>0</td>\n",
       "      <td>0</td>\n",
       "      <td>0</td>\n",
       "      <td>0</td>\n",
       "    </tr>\n",
       "    <tr>\n",
       "      <th>59</th>\n",
       "      <td>매번쓰는제품이예요\\n똑 떨어져갈 때쯤 로켓배송으로\\n빠르게 받았어요 감사합니다</td>\n",
       "      <td>1</td>\n",
       "      <td>0</td>\n",
       "      <td>0</td>\n",
       "      <td>0</td>\n",
       "      <td>0</td>\n",
       "      <td>1</td>\n",
       "      <td>0</td>\n",
       "      <td>0</td>\n",
       "      <td>0</td>\n",
       "      <td>0</td>\n",
       "      <td>0</td>\n",
       "    </tr>\n",
       "    <tr>\n",
       "      <th>67</th>\n",
       "      <td>최고입니다.\\n\\n저한테는 피지오겔만한게 없네요.\\n\\n로켓배송으로 사니까 가격도 저렴하고\\n\\n최고입니다. 완전 추천이요!</td>\n",
       "      <td>1</td>\n",
       "      <td>0</td>\n",
       "      <td>0</td>\n",
       "      <td>0</td>\n",
       "      <td>0</td>\n",
       "      <td>0</td>\n",
       "      <td>0</td>\n",
       "      <td>0</td>\n",
       "      <td>0</td>\n",
       "      <td>0</td>\n",
       "      <td>0</td>\n",
       "    </tr>\n",
       "    <tr>\n",
       "      <th>73</th>\n",
       "      <td>배송도 빠르고 가격도 저렴해오~</td>\n",
       "      <td>1</td>\n",
       "      <td>0</td>\n",
       "      <td>0</td>\n",
       "      <td>0</td>\n",
       "      <td>0</td>\n",
       "      <td>0</td>\n",
       "      <td>0</td>\n",
       "      <td>0</td>\n",
       "      <td>0</td>\n",
       "      <td>0</td>\n",
       "      <td>0</td>\n",
       "    </tr>\n",
       "  </tbody>\n",
       "</table>\n",
       "</div>"
      ],
      "text/plain": [
       "                                                                     text  0  \\\n",
       "8   항상 쓰던 제품입니다 좋아요~~                                                      1   \n",
       "9   배송도 빠르고 좋으네영                                                           1   \n",
       "15  촉촉해요~~!!                                                               1   \n",
       "29  늘 쓰던거라 믿고 구매합니다                                                        1   \n",
       "47  매번 쓰는 인생 크림입니다.  저렴하게 잘샀어요.  배송도 빠르고 감사합니다.                            1   \n",
       "49  이제품만씁니다                                                                1   \n",
       "51  너무나 유명한 피지오겔 제품입니다. 피부 건조증을 한번에 해결합니다.                                 1   \n",
       "59  매번쓰는제품이예요\\n똑 떨어져갈 때쯤 로켓배송으로\\n빠르게 받았어요 감사합니다                            1   \n",
       "67  최고입니다.\\n\\n저한테는 피지오겔만한게 없네요.\\n\\n로켓배송으로 사니까 가격도 저렴하고\\n\\n최고입니다. 완전 추천이요!  1   \n",
       "73  배송도 빠르고 가격도 저렴해오~                                                      1   \n",
       "\n",
       "    1  2  3  4  5  6  7  8  9  unknown  \n",
       "8   0  0  0  0  0  0  0  0  0  0        \n",
       "9   0  0  0  0  0  0  0  0  0  0        \n",
       "15  0  0  0  0  0  0  0  0  0  0        \n",
       "29  0  0  0  0  0  0  0  0  0  0        \n",
       "47  0  0  0  0  0  0  0  0  0  0        \n",
       "49  0  0  0  0  0  0  0  0  0  0        \n",
       "51  0  0  0  0  0  0  0  0  0  0        \n",
       "59  0  0  0  0  1  0  0  0  0  0        \n",
       "67  0  0  0  0  0  0  0  0  0  0        \n",
       "73  0  0  0  0  0  0  0  0  0  0        "
      ]
     },
     "execution_count": 42,
     "metadata": {},
     "output_type": "execute_result"
    }
   ],
   "source": [
    "dfRes[dfRes[0] == 1].head(10)"
   ]
  },
  {
   "cell_type": "markdown",
   "metadata": {},
   "source": [
    "<br>\n",
    "* <b>라벨 2:</b> (아기 + 애기 + 발라 + 우리 + 배송) "
   ]
  },
  {
   "cell_type": "code",
   "execution_count": 1486,
   "metadata": {
    "collapsed": false
   },
   "outputs": [
    {
     "data": {
      "text/html": [
       "<div>\n",
       "<style>\n",
       "    .dataframe thead tr:only-child th {\n",
       "        text-align: right;\n",
       "    }\n",
       "\n",
       "    .dataframe thead th {\n",
       "        text-align: left;\n",
       "    }\n",
       "\n",
       "    .dataframe tbody tr th {\n",
       "        vertical-align: top;\n",
       "    }\n",
       "</style>\n",
       "<table border=\"1\" class=\"dataframe\">\n",
       "  <thead>\n",
       "    <tr style=\"text-align: right;\">\n",
       "      <th></th>\n",
       "      <th>text</th>\n",
       "      <th>0</th>\n",
       "      <th>1</th>\n",
       "      <th>2</th>\n",
       "      <th>3</th>\n",
       "      <th>4</th>\n",
       "      <th>5</th>\n",
       "      <th>6</th>\n",
       "      <th>7</th>\n",
       "      <th>8</th>\n",
       "      <th>9</th>\n",
       "      <th>10</th>\n",
       "      <th>11</th>\n",
       "      <th>unknown</th>\n",
       "    </tr>\n",
       "  </thead>\n",
       "  <tbody>\n",
       "    <tr>\n",
       "      <th>2</th>\n",
       "      <td>조금 기름진느낌이 없지않아있어요</td>\n",
       "      <td>0</td>\n",
       "      <td>1</td>\n",
       "      <td>0</td>\n",
       "      <td>0</td>\n",
       "      <td>0</td>\n",
       "      <td>0</td>\n",
       "      <td>0</td>\n",
       "      <td>0</td>\n",
       "      <td>0</td>\n",
       "      <td>0</td>\n",
       "      <td>0</td>\n",
       "      <td>0</td>\n",
       "      <td>0</td>\n",
       "    </tr>\n",
       "    <tr>\n",
       "      <th>23</th>\n",
       "      <td>잘받았습니다 좋은상풒</td>\n",
       "      <td>0</td>\n",
       "      <td>1</td>\n",
       "      <td>0</td>\n",
       "      <td>0</td>\n",
       "      <td>0</td>\n",
       "      <td>0</td>\n",
       "      <td>0</td>\n",
       "      <td>0</td>\n",
       "      <td>0</td>\n",
       "      <td>0</td>\n",
       "      <td>1</td>\n",
       "      <td>0</td>\n",
       "      <td>0</td>\n",
       "    </tr>\n",
       "    <tr>\n",
       "      <th>36</th>\n",
       "      <td>좋아요 추천합니다</td>\n",
       "      <td>0</td>\n",
       "      <td>1</td>\n",
       "      <td>0</td>\n",
       "      <td>0</td>\n",
       "      <td>0</td>\n",
       "      <td>0</td>\n",
       "      <td>0</td>\n",
       "      <td>0</td>\n",
       "      <td>0</td>\n",
       "      <td>0</td>\n",
       "      <td>0</td>\n",
       "      <td>0</td>\n",
       "      <td>0</td>\n",
       "    </tr>\n",
       "    <tr>\n",
       "      <th>43</th>\n",
       "      <td>지인 추천으로 쓰게된 화장품이에용\\n\\n아직 몇 번 사용하지 않아 잘 모르지만\\n\\n지인에게 추천받았을 때 \\n\\n성분이 좋다해서 받았어용 \\n\\n그래서 그런지 발랐을 때 순한 느낌은 있어용!\\n\\n로켓배송이라 주문 다음날 받았어용 ㅎㅎ</td>\n",
       "      <td>0</td>\n",
       "      <td>1</td>\n",
       "      <td>0</td>\n",
       "      <td>0</td>\n",
       "      <td>0</td>\n",
       "      <td>0</td>\n",
       "      <td>0</td>\n",
       "      <td>0</td>\n",
       "      <td>0</td>\n",
       "      <td>0</td>\n",
       "      <td>1</td>\n",
       "      <td>0</td>\n",
       "      <td>0</td>\n",
       "    </tr>\n",
       "    <tr>\n",
       "      <th>90</th>\n",
       "      <td>임신때부터 쓰던 피지오겔. \\n아이도 엄마도 아빠도 같이 씁니다. \\n성분도 순하고 좋아요.</td>\n",
       "      <td>0</td>\n",
       "      <td>1</td>\n",
       "      <td>0</td>\n",
       "      <td>0</td>\n",
       "      <td>0</td>\n",
       "      <td>0</td>\n",
       "      <td>0</td>\n",
       "      <td>0</td>\n",
       "      <td>0</td>\n",
       "      <td>0</td>\n",
       "      <td>0</td>\n",
       "      <td>0</td>\n",
       "      <td>0</td>\n",
       "    </tr>\n",
       "    <tr>\n",
       "      <th>103</th>\n",
       "      <td>건성타입의 10살난 우리 딸아이 아가때 소아과 선생님으로부터 추천받아서 쭉 써왔습니다. 아이가 커가면서 몇번  다른 제품 써봤는데, 전 이 제품이 제일 믿음이 가고 괜찮은것 같아요~</td>\n",
       "      <td>0</td>\n",
       "      <td>1</td>\n",
       "      <td>0</td>\n",
       "      <td>0</td>\n",
       "      <td>0</td>\n",
       "      <td>0</td>\n",
       "      <td>0</td>\n",
       "      <td>0</td>\n",
       "      <td>0</td>\n",
       "      <td>0</td>\n",
       "      <td>0</td>\n",
       "      <td>0</td>\n",
       "      <td>0</td>\n",
       "    </tr>\n",
       "    <tr>\n",
       "      <th>116</th>\n",
       "      <td>아이들용 아토피 로션 쓰다가 보습력이 부족해 한번 사용해 봤는데요. 보습력은 이전 시용하던 로션과 별 차이가 없었습니다. 피부와 겉돌면서 흡수되않고 미끌거리는 텍스츄어가 일단 비호감이였는데 피부톤 밝아진다고 하길래 한통 다 사용해보기로 했습니다. 사용하는 내내 피부하고 맞지않는 성분이 있어서 그런가 얼굴이 가렵고 눈밑에 정체를 알수없는 무엇이 났어요. 150ml 사용하고 다시 아토피로션으로 돌아갑니다.</td>\n",
       "      <td>0</td>\n",
       "      <td>1</td>\n",
       "      <td>0</td>\n",
       "      <td>0</td>\n",
       "      <td>0</td>\n",
       "      <td>0</td>\n",
       "      <td>0</td>\n",
       "      <td>0</td>\n",
       "      <td>0</td>\n",
       "      <td>0</td>\n",
       "      <td>0</td>\n",
       "      <td>0</td>\n",
       "      <td>0</td>\n",
       "    </tr>\n",
       "    <tr>\n",
       "      <th>119</th>\n",
       "      <td>이건뭐\\n말안해도아시죠?\\n매우아주만족</td>\n",
       "      <td>1</td>\n",
       "      <td>1</td>\n",
       "      <td>0</td>\n",
       "      <td>0</td>\n",
       "      <td>0</td>\n",
       "      <td>0</td>\n",
       "      <td>0</td>\n",
       "      <td>0</td>\n",
       "      <td>0</td>\n",
       "      <td>0</td>\n",
       "      <td>0</td>\n",
       "      <td>0</td>\n",
       "      <td>0</td>\n",
       "    </tr>\n",
       "    <tr>\n",
       "      <th>128</th>\n",
       "      <td>아가랑 엄마랑 같이 쓰려고 구매해요~~</td>\n",
       "      <td>0</td>\n",
       "      <td>1</td>\n",
       "      <td>0</td>\n",
       "      <td>0</td>\n",
       "      <td>0</td>\n",
       "      <td>0</td>\n",
       "      <td>0</td>\n",
       "      <td>0</td>\n",
       "      <td>0</td>\n",
       "      <td>0</td>\n",
       "      <td>1</td>\n",
       "      <td>0</td>\n",
       "      <td>0</td>\n",
       "    </tr>\n",
       "    <tr>\n",
       "      <th>129</th>\n",
       "      <td>피지오겔 번들거림 참 좋네요.피부가 건성이라 번들거리는 크림 찾았는데 앞으로도 계속 애용할게요~</td>\n",
       "      <td>0</td>\n",
       "      <td>1</td>\n",
       "      <td>0</td>\n",
       "      <td>0</td>\n",
       "      <td>0</td>\n",
       "      <td>0</td>\n",
       "      <td>0</td>\n",
       "      <td>0</td>\n",
       "      <td>0</td>\n",
       "      <td>0</td>\n",
       "      <td>0</td>\n",
       "      <td>0</td>\n",
       "      <td>0</td>\n",
       "    </tr>\n",
       "  </tbody>\n",
       "</table>\n",
       "</div>"
      ],
      "text/plain": [
       "                                                                                                                                                                                                                                   text  \\\n",
       "2    조금 기름진느낌이 없지않아있어요                                                                                                                                                                                                                    \n",
       "23   잘받았습니다 좋은상풒                                                                                                                                                                                                                          \n",
       "36   좋아요 추천합니다                                                                                                                                                                                                                            \n",
       "43   지인 추천으로 쓰게된 화장품이에용\\n\\n아직 몇 번 사용하지 않아 잘 모르지만\\n\\n지인에게 추천받았을 때 \\n\\n성분이 좋다해서 받았어용 \\n\\n그래서 그런지 발랐을 때 순한 느낌은 있어용!\\n\\n로켓배송이라 주문 다음날 받았어용 ㅎㅎ                                                                                                 \n",
       "90   임신때부터 쓰던 피지오겔. \\n아이도 엄마도 아빠도 같이 씁니다. \\n성분도 순하고 좋아요.                                                                                                                                                                                  \n",
       "103  건성타입의 10살난 우리 딸아이 아가때 소아과 선생님으로부터 추천받아서 쭉 써왔습니다. 아이가 커가면서 몇번  다른 제품 써봤는데, 전 이 제품이 제일 믿음이 가고 괜찮은것 같아요~                                                                                                                                \n",
       "116  아이들용 아토피 로션 쓰다가 보습력이 부족해 한번 사용해 봤는데요. 보습력은 이전 시용하던 로션과 별 차이가 없었습니다. 피부와 겉돌면서 흡수되않고 미끌거리는 텍스츄어가 일단 비호감이였는데 피부톤 밝아진다고 하길래 한통 다 사용해보기로 했습니다. 사용하는 내내 피부하고 맞지않는 성분이 있어서 그런가 얼굴이 가렵고 눈밑에 정체를 알수없는 무엇이 났어요. 150ml 사용하고 다시 아토피로션으로 돌아갑니다.   \n",
       "119  이건뭐\\n말안해도아시죠?\\n매우아주만족                                                                                                                                                                                                                \n",
       "128  아가랑 엄마랑 같이 쓰려고 구매해요~~                                                                                                                                                                                                                \n",
       "129  피지오겔 번들거림 참 좋네요.피부가 건성이라 번들거리는 크림 찾았는데 앞으로도 계속 애용할게요~                                                                                                                                                                                \n",
       "\n",
       "     0  1  2  3  4  5  6  7  8  9  10  11  unknown  \n",
       "2    0  1  0  0  0  0  0  0  0  0  0   0   0        \n",
       "23   0  1  0  0  0  0  0  0  0  0  1   0   0        \n",
       "36   0  1  0  0  0  0  0  0  0  0  0   0   0        \n",
       "43   0  1  0  0  0  0  0  0  0  0  1   0   0        \n",
       "90   0  1  0  0  0  0  0  0  0  0  0   0   0        \n",
       "103  0  1  0  0  0  0  0  0  0  0  0   0   0        \n",
       "116  0  1  0  0  0  0  0  0  0  0  0   0   0        \n",
       "119  1  1  0  0  0  0  0  0  0  0  0   0   0        \n",
       "128  0  1  0  0  0  0  0  0  0  0  1   0   0        \n",
       "129  0  1  0  0  0  0  0  0  0  0  0   0   0        "
      ]
     },
     "execution_count": 1486,
     "metadata": {},
     "output_type": "execute_result"
    }
   ],
   "source": [
    "dfRes[dfRes[1] == 1].head(10)"
   ]
  },
  {
   "cell_type": "markdown",
   "metadata": {},
   "source": [
    "<br>\n",
    "* <b>라벨 3:</b> (저렴 + 하게 + 싸게 + 배송 + 빠르) "
   ]
  },
  {
   "cell_type": "code",
   "execution_count": 43,
   "metadata": {
    "collapsed": false,
    "scrolled": false
   },
   "outputs": [
    {
     "data": {
      "text/html": [
       "<div>\n",
       "<style>\n",
       "    .dataframe thead tr:only-child th {\n",
       "        text-align: right;\n",
       "    }\n",
       "\n",
       "    .dataframe thead th {\n",
       "        text-align: left;\n",
       "    }\n",
       "\n",
       "    .dataframe tbody tr th {\n",
       "        vertical-align: top;\n",
       "    }\n",
       "</style>\n",
       "<table border=\"1\" class=\"dataframe\">\n",
       "  <thead>\n",
       "    <tr style=\"text-align: right;\">\n",
       "      <th></th>\n",
       "      <th>text</th>\n",
       "      <th>0</th>\n",
       "      <th>1</th>\n",
       "      <th>2</th>\n",
       "      <th>3</th>\n",
       "      <th>4</th>\n",
       "      <th>5</th>\n",
       "      <th>6</th>\n",
       "      <th>7</th>\n",
       "      <th>8</th>\n",
       "      <th>9</th>\n",
       "      <th>unknown</th>\n",
       "    </tr>\n",
       "  </thead>\n",
       "  <tbody>\n",
       "    <tr>\n",
       "      <th>0</th>\n",
       "      <td>매번 사용하는 제품인데 저렴하게 잘 삿습니당</td>\n",
       "      <td>0</td>\n",
       "      <td>0</td>\n",
       "      <td>0</td>\n",
       "      <td>1</td>\n",
       "      <td>0</td>\n",
       "      <td>0</td>\n",
       "      <td>0</td>\n",
       "      <td>0</td>\n",
       "      <td>0</td>\n",
       "      <td>0</td>\n",
       "      <td>0</td>\n",
       "    </tr>\n",
       "    <tr>\n",
       "      <th>7</th>\n",
       "      <td>피지오겔~7년째사용중~~</td>\n",
       "      <td>0</td>\n",
       "      <td>0</td>\n",
       "      <td>0</td>\n",
       "      <td>1</td>\n",
       "      <td>0</td>\n",
       "      <td>0</td>\n",
       "      <td>0</td>\n",
       "      <td>0</td>\n",
       "      <td>0</td>\n",
       "      <td>0</td>\n",
       "      <td>0</td>\n",
       "    </tr>\n",
       "    <tr>\n",
       "      <th>14</th>\n",
       "      <td>좋아요 여름엔 좀 끈적거러요^^</td>\n",
       "      <td>0</td>\n",
       "      <td>0</td>\n",
       "      <td>0</td>\n",
       "      <td>1</td>\n",
       "      <td>0</td>\n",
       "      <td>0</td>\n",
       "      <td>0</td>\n",
       "      <td>1</td>\n",
       "      <td>0</td>\n",
       "      <td>0</td>\n",
       "      <td>0</td>\n",
       "    </tr>\n",
       "    <tr>\n",
       "      <th>19</th>\n",
       "      <td>배송 및 상품 만족스럽습니다.</td>\n",
       "      <td>0</td>\n",
       "      <td>0</td>\n",
       "      <td>0</td>\n",
       "      <td>1</td>\n",
       "      <td>0</td>\n",
       "      <td>0</td>\n",
       "      <td>1</td>\n",
       "      <td>0</td>\n",
       "      <td>0</td>\n",
       "      <td>0</td>\n",
       "      <td>0</td>\n",
       "    </tr>\n",
       "    <tr>\n",
       "      <th>24</th>\n",
       "      <td>늘 쓰는 제품이에요. 쿠팡에서 저렴하게 잘 구입했어요.</td>\n",
       "      <td>0</td>\n",
       "      <td>0</td>\n",
       "      <td>0</td>\n",
       "      <td>1</td>\n",
       "      <td>0</td>\n",
       "      <td>0</td>\n",
       "      <td>0</td>\n",
       "      <td>0</td>\n",
       "      <td>0</td>\n",
       "      <td>0</td>\n",
       "      <td>0</td>\n",
       "    </tr>\n",
       "    <tr>\n",
       "      <th>53</th>\n",
       "      <td>많이 파세요</td>\n",
       "      <td>0</td>\n",
       "      <td>0</td>\n",
       "      <td>0</td>\n",
       "      <td>1</td>\n",
       "      <td>0</td>\n",
       "      <td>0</td>\n",
       "      <td>0</td>\n",
       "      <td>0</td>\n",
       "      <td>0</td>\n",
       "      <td>0</td>\n",
       "      <td>0</td>\n",
       "    </tr>\n",
       "    <tr>\n",
       "      <th>68</th>\n",
       "      <td>괜찮아요~0</td>\n",
       "      <td>0</td>\n",
       "      <td>0</td>\n",
       "      <td>0</td>\n",
       "      <td>1</td>\n",
       "      <td>0</td>\n",
       "      <td>0</td>\n",
       "      <td>0</td>\n",
       "      <td>0</td>\n",
       "      <td>0</td>\n",
       "      <td>0</td>\n",
       "      <td>0</td>\n",
       "    </tr>\n",
       "    <tr>\n",
       "      <th>83</th>\n",
       "      <td>늘 쓰던거라 구매합니다\\n하나만써도 크게 무리가 없어요\\n가격도 좋은 편이었어요</td>\n",
       "      <td>0</td>\n",
       "      <td>0</td>\n",
       "      <td>0</td>\n",
       "      <td>1</td>\n",
       "      <td>0</td>\n",
       "      <td>0</td>\n",
       "      <td>0</td>\n",
       "      <td>0</td>\n",
       "      <td>0</td>\n",
       "      <td>0</td>\n",
       "      <td>0</td>\n",
       "    </tr>\n",
       "    <tr>\n",
       "      <th>85</th>\n",
       "      <td>제 피부가 건성이라 조금만 매트한거 써두 화장 다 뜨구 그러는데 요고 바르고 화장하면 절대 안뜨네용 ~ 좋아용 ~</td>\n",
       "      <td>0</td>\n",
       "      <td>0</td>\n",
       "      <td>0</td>\n",
       "      <td>1</td>\n",
       "      <td>1</td>\n",
       "      <td>0</td>\n",
       "      <td>0</td>\n",
       "      <td>0</td>\n",
       "      <td>0</td>\n",
       "      <td>0</td>\n",
       "      <td>0</td>\n",
       "    </tr>\n",
       "    <tr>\n",
       "      <th>86</th>\n",
       "      <td>손등에 짯을땐 로션 느낌인데\\n바르면 약간 에션스처럼 발림\\n햇빛알레르기때매 요즘 피부가 난리난리가 나서\\n후기보고 바로 사봤음\\n드라마틱한 변화가 있길...\\n\\n향은 없고, 보습은 좋으나 약간 끈적거림..</td>\n",
       "      <td>0</td>\n",
       "      <td>0</td>\n",
       "      <td>0</td>\n",
       "      <td>1</td>\n",
       "      <td>0</td>\n",
       "      <td>0</td>\n",
       "      <td>0</td>\n",
       "      <td>0</td>\n",
       "      <td>0</td>\n",
       "      <td>0</td>\n",
       "      <td>0</td>\n",
       "    </tr>\n",
       "  </tbody>\n",
       "</table>\n",
       "</div>"
      ],
      "text/plain": [
       "                                                                                                                    text  \\\n",
       "0   매번 사용하는 제품인데 저렴하게 잘 삿습니당                                                                                               \n",
       "7   피지오겔~7년째사용중~~                                                                                                          \n",
       "14  좋아요 여름엔 좀 끈적거러요^^                                                                                                      \n",
       "19  배송 및 상품 만족스럽습니다.                                                                                                       \n",
       "24  늘 쓰는 제품이에요. 쿠팡에서 저렴하게 잘 구입했어요.                                                                                         \n",
       "53  많이 파세요                                                                                                                 \n",
       "68  괜찮아요~0                                                                                                                 \n",
       "83  늘 쓰던거라 구매합니다\\n하나만써도 크게 무리가 없어요\\n가격도 좋은 편이었어요                                                                           \n",
       "85  제 피부가 건성이라 조금만 매트한거 써두 화장 다 뜨구 그러는데 요고 바르고 화장하면 절대 안뜨네용 ~ 좋아용 ~                                                        \n",
       "86  손등에 짯을땐 로션 느낌인데\\n바르면 약간 에션스처럼 발림\\n햇빛알레르기때매 요즘 피부가 난리난리가 나서\\n후기보고 바로 사봤음\\n드라마틱한 변화가 있길...\\n\\n향은 없고, 보습은 좋으나 약간 끈적거림..   \n",
       "\n",
       "    0  1  2  3  4  5  6  7  8  9  unknown  \n",
       "0   0  0  0  1  0  0  0  0  0  0  0        \n",
       "7   0  0  0  1  0  0  0  0  0  0  0        \n",
       "14  0  0  0  1  0  0  0  1  0  0  0        \n",
       "19  0  0  0  1  0  0  1  0  0  0  0        \n",
       "24  0  0  0  1  0  0  0  0  0  0  0        \n",
       "53  0  0  0  1  0  0  0  0  0  0  0        \n",
       "68  0  0  0  1  0  0  0  0  0  0  0        \n",
       "83  0  0  0  1  0  0  0  0  0  0  0        \n",
       "85  0  0  0  1  1  0  0  0  0  0  0        \n",
       "86  0  0  0  1  0  0  0  0  0  0  0        "
      ]
     },
     "execution_count": 43,
     "metadata": {},
     "output_type": "execute_result"
    }
   ],
   "source": [
    "dfRes[dfRes[3] == 1].head(10)"
   ]
  },
  {
   "cell_type": "markdown",
   "metadata": {},
   "source": [
    "<br>\n",
    "* <b>라벨이 부여되지 않은 리뷰</b>"
   ]
  },
  {
   "cell_type": "code",
   "execution_count": 44,
   "metadata": {
    "collapsed": false
   },
   "outputs": [
    {
     "data": {
      "text/html": [
       "<div>\n",
       "<style>\n",
       "    .dataframe thead tr:only-child th {\n",
       "        text-align: right;\n",
       "    }\n",
       "\n",
       "    .dataframe thead th {\n",
       "        text-align: left;\n",
       "    }\n",
       "\n",
       "    .dataframe tbody tr th {\n",
       "        vertical-align: top;\n",
       "    }\n",
       "</style>\n",
       "<table border=\"1\" class=\"dataframe\">\n",
       "  <thead>\n",
       "    <tr style=\"text-align: right;\">\n",
       "      <th></th>\n",
       "      <th>text</th>\n",
       "      <th>0</th>\n",
       "      <th>1</th>\n",
       "      <th>2</th>\n",
       "      <th>3</th>\n",
       "      <th>4</th>\n",
       "      <th>5</th>\n",
       "      <th>6</th>\n",
       "      <th>7</th>\n",
       "      <th>8</th>\n",
       "      <th>9</th>\n",
       "      <th>unknown</th>\n",
       "    </tr>\n",
       "  </thead>\n",
       "  <tbody>\n",
       "    <tr>\n",
       "      <th>10</th>\n",
       "      <td>좋네요</td>\n",
       "      <td>0</td>\n",
       "      <td>0</td>\n",
       "      <td>0</td>\n",
       "      <td>0</td>\n",
       "      <td>0</td>\n",
       "      <td>0</td>\n",
       "      <td>0</td>\n",
       "      <td>0</td>\n",
       "      <td>0</td>\n",
       "      <td>0</td>\n",
       "      <td>1</td>\n",
       "    </tr>\n",
       "    <tr>\n",
       "      <th>13</th>\n",
       "      <td>좋습니다</td>\n",
       "      <td>0</td>\n",
       "      <td>0</td>\n",
       "      <td>0</td>\n",
       "      <td>0</td>\n",
       "      <td>0</td>\n",
       "      <td>0</td>\n",
       "      <td>0</td>\n",
       "      <td>0</td>\n",
       "      <td>0</td>\n",
       "      <td>0</td>\n",
       "      <td>1</td>\n",
       "    </tr>\n",
       "    <tr>\n",
       "      <th>20</th>\n",
       "      <td>좋아요</td>\n",
       "      <td>0</td>\n",
       "      <td>0</td>\n",
       "      <td>0</td>\n",
       "      <td>0</td>\n",
       "      <td>0</td>\n",
       "      <td>0</td>\n",
       "      <td>0</td>\n",
       "      <td>0</td>\n",
       "      <td>0</td>\n",
       "      <td>0</td>\n",
       "      <td>1</td>\n",
       "    </tr>\n",
       "    <tr>\n",
       "      <th>43</th>\n",
       "      <td>지인 추천으로 쓰게된 화장품이에용\\n\\n아직 몇 번 사용하지 않아 잘 모르지만\\n\\n지인에게 추천받았을 때 \\n\\n성분이 좋다해서 받았어용 \\n\\n그래서 그런지 발랐을 때 순한 느낌은 있어용!\\n\\n로켓배송이라 주문 다음날 받았어용 ㅎㅎ</td>\n",
       "      <td>0</td>\n",
       "      <td>0</td>\n",
       "      <td>0</td>\n",
       "      <td>0</td>\n",
       "      <td>0</td>\n",
       "      <td>0</td>\n",
       "      <td>0</td>\n",
       "      <td>0</td>\n",
       "      <td>0</td>\n",
       "      <td>0</td>\n",
       "      <td>1</td>\n",
       "    </tr>\n",
       "    <tr>\n",
       "      <th>56</th>\n",
       "      <td>태열에 침독에 약한 아토피기가 있는아기라 크림은 거의 정류별로 다써봤어요\\n이제 거의 나아가느느싱황에 병원에서 처방받는\\n크림은 가격이 부담돼서 피지오겔ai 가 만족스러웠던 기억으로 주문해봤는데 괜찮네요 ~\\n보습감이 매우 좋은편은 아니지만 특별히 떨어진다던지 자극이 있다던지 하는부분은없어요~ 꾸준히 무향을 써왔어서 향이 없는 부분도 맘에 들고 겨울철에 쓰기에는\\n건조한 감이 있어보이지만 지금계절에 쓰기에는 딱좋네요 !!</td>\n",
       "      <td>0</td>\n",
       "      <td>0</td>\n",
       "      <td>0</td>\n",
       "      <td>0</td>\n",
       "      <td>0</td>\n",
       "      <td>0</td>\n",
       "      <td>0</td>\n",
       "      <td>0</td>\n",
       "      <td>0</td>\n",
       "      <td>0</td>\n",
       "      <td>1</td>\n",
       "    </tr>\n",
       "  </tbody>\n",
       "</table>\n",
       "</div>"
      ],
      "text/plain": [
       "                                                                                                                                                                                                                                             text  \\\n",
       "10  좋네요                                                                                                                                                                                                                                             \n",
       "13  좋습니다                                                                                                                                                                                                                                            \n",
       "20  좋아요                                                                                                                                                                                                                                             \n",
       "43  지인 추천으로 쓰게된 화장품이에용\\n\\n아직 몇 번 사용하지 않아 잘 모르지만\\n\\n지인에게 추천받았을 때 \\n\\n성분이 좋다해서 받았어용 \\n\\n그래서 그런지 발랐을 때 순한 느낌은 있어용!\\n\\n로켓배송이라 주문 다음날 받았어용 ㅎㅎ                                                                                                            \n",
       "56  태열에 침독에 약한 아토피기가 있는아기라 크림은 거의 정류별로 다써봤어요\\n이제 거의 나아가느느싱황에 병원에서 처방받는\\n크림은 가격이 부담돼서 피지오겔ai 가 만족스러웠던 기억으로 주문해봤는데 괜찮네요 ~\\n보습감이 매우 좋은편은 아니지만 특별히 떨어진다던지 자극이 있다던지 하는부분은없어요~ 꾸준히 무향을 써왔어서 향이 없는 부분도 맘에 들고 겨울철에 쓰기에는\\n건조한 감이 있어보이지만 지금계절에 쓰기에는 딱좋네요 !!   \n",
       "\n",
       "    0  1  2  3  4  5  6  7  8  9  unknown  \n",
       "10  0  0  0  0  0  0  0  0  0  0  1        \n",
       "13  0  0  0  0  0  0  0  0  0  0  1        \n",
       "20  0  0  0  0  0  0  0  0  0  0  1        \n",
       "43  0  0  0  0  0  0  0  0  0  0  1        \n",
       "56  0  0  0  0  0  0  0  0  0  0  1        "
      ]
     },
     "execution_count": 44,
     "metadata": {},
     "output_type": "execute_result"
    }
   ],
   "source": [
    "dfRes[dfRes['unknown'] == 1].head()"
   ]
  },
  {
   "cell_type": "markdown",
   "metadata": {},
   "source": [
    "### LDA 성능\n",
    "* Treshold 수준을 조정함에 따라 중복을 허용하는 클러스터링 가능\n",
    "* Document를 주제 단위로 클러스터링 가능 \n",
    "* 비슷한 주제어를 가진 리뷰들끼리 클러스터링하나 완벽하지 않음"
   ]
  },
  {
   "cell_type": "markdown",
   "metadata": {},
   "source": [
    "<br>\n",
    "# Doc2Vec\n",
    "Gensim 패키지의 Doc2Vec Embedding을 활용한 문서 클러스터링"
   ]
  },
  {
   "cell_type": "code",
   "execution_count": 189,
   "metadata": {
    "collapsed": false
   },
   "outputs": [],
   "source": [
    "d2v_docs = [nav_tokenizer(x) for x in corpus]\n",
    "d2v_docs = [remove_stopwords(x, (stopwords + mask1)) for x in d2v_docs]"
   ]
  },
  {
   "cell_type": "code",
   "execution_count": 192,
   "metadata": {
    "collapsed": false
   },
   "outputs": [],
   "source": [
    "tagged_d2v_docs = [TaggedDocument(doc, [idx]) for idx, doc in enumerate(d2v_docs)]"
   ]
  },
  {
   "cell_type": "code",
   "execution_count": 363,
   "metadata": {
    "collapsed": false
   },
   "outputs": [],
   "source": [
    "d2v_model = doc2vec.Doc2Vec(size=300, window=5, alpha=0.025, min_alpha=0.025, seed=0)\n",
    "d2v_model.build_vocab(tagged_d2v_docs)\n",
    "d2v_model.train_lbls = False # 라벨은 학습대상에서 제외\n",
    "d2v_model.train_words = True # 어휘간 관계만 학습"
   ]
  },
  {
   "cell_type": "code",
   "execution_count": 364,
   "metadata": {
    "collapsed": false
   },
   "outputs": [],
   "source": [
    "for epoch in range(10):\n",
    "    d2v_model.train(tagged_d2v_docs, total_examples=len(d2v_docs), epochs=epoch)\n",
    "    d2v_model.alpha -= 0.002 # decrease the learning rate\n",
    "    d2v_model.min_alpha = doc_vectorizer.alpha # fix the learning rate, no decay"
   ]
  },
  {
   "cell_type": "markdown",
   "metadata": {},
   "source": [
    "<br>\n",
    "* 유사 어휘 탐색"
   ]
  },
  {
   "cell_type": "code",
   "execution_count": 368,
   "metadata": {
    "collapsed": false
   },
   "outputs": [
    {
     "name": "stdout",
     "output_type": "stream",
     "text": [
      "[(믿고, 0.9901511669158936),\n",
      " (늘, 0.988294243812561),\n",
      " (구매, 0.9670397043228149),\n",
      " (쓰는, 0.9618245363235474),\n",
      " (사이트, 0.960034966468811),\n",
      " (덕분, 0.9528263211250305),\n",
      " (역시, 0.9454304575920105),\n",
      " (구입, 0.9449583888053894),\n",
      " (사는, 0.9411196112632751),\n",
      " (시중, 0.9348568320274353)]\n"
     ]
    }
   ],
   "source": [
    "pprint(d2v_model.most_similar(u'항상'))"
   ]
  },
  {
   "cell_type": "code",
   "execution_count": 369,
   "metadata": {
    "collapsed": false,
    "scrolled": true
   },
   "outputs": [
    {
     "data": {
      "text/plain": [
       "895"
      ]
     },
     "execution_count": 369,
     "metadata": {},
     "output_type": "execute_result"
    }
   ],
   "source": [
    "len(d2v_model.wv.vocab)"
   ]
  },
  {
   "cell_type": "code",
   "execution_count": 370,
   "metadata": {
    "collapsed": true
   },
   "outputs": [],
   "source": [
    "X_d2v = [d2v_model.infer_vector(x.words) for x in tagged_d2v_docs]"
   ]
  },
  {
   "cell_type": "markdown",
   "metadata": {},
   "source": [
    "<br>\n",
    "* 유사 문장 탐색"
   ]
  },
  {
   "cell_type": "code",
   "execution_count": 249,
   "metadata": {
    "collapsed": false
   },
   "outputs": [
    {
     "name": "stdout",
     "output_type": "stream",
     "text": [
      "review: 배송빨라 좋네요\n",
      "\n",
      "상품평에 못 미치는듯하네요  그냥쏘쏘 (0.985051)\n",
      "친구생일선물로줌 (0.984714)\n",
      "누가 뜯엇던걸 주셧네요~>.< (0.984631)\n",
      "선물용이라지요 (0.983549)\n",
      "저한테는 맞지 않았는데 동생은 좋다고 하네요 :) (0.983070)\n",
      "은박씰이 안붙어있네요?\n",
      "\n",
      "약국에서 산건 붙어있던데.. (0.979863)\n",
      "얼마전에 주문했는데 그때는51,000원이더니\n",
      "고새 47,000원으로 내렸네요 이럴줄알았음 늦게주문할껄싶네요 (0.978848)\n",
      "로켓배송받아좋아요.잘쓸께요 (0.978525)\n",
      "명성 그대로... (0.977418)\n",
      "선물용으로도 좋습니다 (0.977218)\n"
     ]
    }
   ],
   "source": [
    "idx = 5\n",
    "pprint('review: '+ corpus[idx])\n",
    "print(\"\")\n",
    "for x in doc_vectorizer.docvecs.most_similar(positive=[X_d2v[idx]]):\n",
    "    pprint(corpus[x[0]] + ' (%3f)' % x[1])"
   ]
  },
  {
   "cell_type": "markdown",
   "metadata": {},
   "source": [
    "> 배송 관련 리뷰에 근접하지 않은 인접 문장들이 출력"
   ]
  },
  {
   "cell_type": "code",
   "execution_count": 263,
   "metadata": {
    "collapsed": false
   },
   "outputs": [
    {
     "name": "stdout",
     "output_type": "stream",
     "text": [
      "review: 항상 이용합니다. 너무 좋아요\n",
      "\n",
      "쓰던제품이라~~보습짱^^ (0.982900)\n",
      "매일 료션은 이제품만써요\n",
      "보습력짱 (0.980040)\n",
      "하상쓰는제품이예요제피부엔이것이딱좋아요 (0.979719)\n",
      "유명한제품이죠  좋아요 (0.979183)\n",
      "이제품만씁니다 (0.978534)\n",
      "성분이 간단해서 좋아요 피부가 편안해지는 것 같네요 (0.978364)\n",
      "피지오겔 보습이야 뭐 말안해도 다아시는거니까 ㅎㅎ (0.977447)\n",
      "쭉 써왔든 제품입니다\n",
      "좋아요 (0.977204)\n",
      "언제나  이제품만  쓰고  있지만  순하니  괜찮아요 (0.976979)\n",
      "항상쓰고있는제품\n",
      "없으면 불안합니다 (0.975044)\n"
     ]
    }
   ],
   "source": [
    "idx = 121\n",
    "pprint('review: '+ corpus[idx])\n",
    "print(\"\")\n",
    "for x in doc_vectorizer.docvecs.most_similar(positive=[X_d2v[idx]]):\n",
    "    pprint(corpus[x[0]] + ' (%3f)' % x[1])"
   ]
  },
  {
   "cell_type": "markdown",
   "metadata": {},
   "source": [
    "> 항상 쓰는 제품 관련 리뷰는 비교적 잘 모임"
   ]
  },
  {
   "cell_type": "markdown",
   "metadata": {},
   "source": [
    "* ### k-means w/ doc2vec"
   ]
  },
  {
   "cell_type": "code",
   "execution_count": 22,
   "metadata": {
    "collapsed": true
   },
   "outputs": [],
   "source": [
    "cnum = 10"
   ]
  },
  {
   "cell_type": "code",
   "execution_count": 112,
   "metadata": {
    "collapsed": false
   },
   "outputs": [],
   "source": [
    "from sklearn.metrics.pairwise import cosine_distances\n",
    "def euc2cos_distance(X, Y=None, Y_norm_squared=None, squared=False):\n",
    "    return cosine_distances(X,Y)"
   ]
  },
  {
   "cell_type": "code",
   "execution_count": 113,
   "metadata": {
    "collapsed": false
   },
   "outputs": [],
   "source": [
    "from sklearn.cluster import k_means_ \n",
    "k_means_.euclidean_distances = euc2cos_distance "
   ]
  },
  {
   "cell_type": "code",
   "execution_count": 114,
   "metadata": {
    "collapsed": false
   },
   "outputs": [
    {
     "name": "stdout",
     "output_type": "stream",
     "text": [
      "Silhouette Coefficient: 0.106\n"
     ]
    }
   ],
   "source": [
    "km = KMeans(n_clusters=cnum, init='k-means++', max_iter=300, n_init=20, tol=0.0001)\n",
    "km.fit(X_d2v)\n",
    "print(\"Silhouette Coefficient: %0.3f\" % silhouette_score(X_d2v, km.labels_))"
   ]
  },
  {
   "cell_type": "code",
   "execution_count": 115,
   "metadata": {
    "collapsed": false
   },
   "outputs": [
    {
     "name": "stdout",
     "output_type": "stream",
     "text": [
      "label0: 118\n",
      "label1: 572\n",
      "label2: 7\n",
      "label3: 255\n",
      "label4: 290\n",
      "label5: 755\n",
      "label6: 45\n",
      "label7: 265\n",
      "label8: 648\n",
      "label9: 117\n"
     ]
    }
   ],
   "source": [
    "dfRes = pd.DataFrame(corpus, columns=['text'])\n",
    "dfRes['label'] = km.labels_\n",
    "\n",
    "for i in range(cnum):\n",
    "    print('label{}: {}'.format(i, len(dfRes[dfRes.label == i])))"
   ]
  },
  {
   "cell_type": "code",
   "execution_count": 116,
   "metadata": {
    "collapsed": false
   },
   "outputs": [
    {
     "name": "stdout",
     "output_type": "stream",
     "text": [
      "cluster 0: 발라 바르 얼굴 제품 아기 \n",
      "cluster 1: 보습 역시 촉촉하고 항상 배송 \n",
      "cluster 2: 제품 보습 자극 발라 구매 \n",
      "cluster 3: 보습 바르 제품 배송 같아 \n",
      "cluster 4: 배송 제품 가격 빠른 저렴 \n",
      "cluster 5: 배송 제품 보습 항상 역시 \n",
      "cluster 6: 바르 제품 발라 보습 느낌 \n",
      "cluster 7: 보습 바르 제품 발라 얼굴 \n",
      "cluster 8: 보습 배송 너무 제품 늘 \n",
      "cluster 9: 제품 바르 너무 보습 냄새 \n"
     ]
    }
   ],
   "source": [
    "for i in range(cnum):\n",
    "    print('cluster {}:'.format(i)),\n",
    "    print_topwords(df=dfRes.loc[dfRes['label'] == i], num=5, bar=False)\n",
    "    print(\"\")"
   ]
  },
  {
   "cell_type": "markdown",
   "metadata": {},
   "source": [
    "<br>\n",
    "* ### Agglomerative Clustering w/ doc2vec"
   ]
  },
  {
   "cell_type": "code",
   "execution_count": 99,
   "metadata": {
    "collapsed": true
   },
   "outputs": [],
   "source": [
    "cnum = 10"
   ]
  },
  {
   "cell_type": "code",
   "execution_count": 100,
   "metadata": {
    "collapsed": false
   },
   "outputs": [
    {
     "name": "stdout",
     "output_type": "stream",
     "text": [
      "Silhouette Coefficient: -0.111\n"
     ]
    }
   ],
   "source": [
    "agg = AgglomerativeClustering(n_clusters=cnum, affinity='cosine', linkage='complete')\n",
    "agg.fit(X_d2v)\n",
    "print(\"Silhouette Coefficient: %0.3f\" % silhouette_score(X_d2v, agg.labels_))"
   ]
  },
  {
   "cell_type": "code",
   "execution_count": 101,
   "metadata": {
    "collapsed": false
   },
   "outputs": [
    {
     "name": "stdout",
     "output_type": "stream",
     "text": [
      "label 0: 947\n",
      "label 1: 178\n",
      "label 2: 545\n",
      "label 3: 273\n",
      "label 4: 197\n",
      "label 5: 264\n",
      "label 6: 29\n",
      "label 7: 276\n",
      "label 8: 346\n",
      "label 9: 17\n"
     ]
    }
   ],
   "source": [
    "dfRes = pd.DataFrame(corpus, columns=['text'])\n",
    "dfRes['label'] = agg.labels_\n",
    "for i in range(len(dfRes.label.unique())):\n",
    "    print('label {}: {}'.format(i, len(dfRes.loc[dfRes['label'] == i])))"
   ]
  },
  {
   "cell_type": "code",
   "execution_count": 64,
   "metadata": {
    "collapsed": false,
    "scrolled": false
   },
   "outputs": [
    {
     "name": "stdout",
     "output_type": "stream",
     "text": [
      "cluster 0: 보습 제품 배송 촉촉하고 아기 \n",
      "cluster 1: 너무 보습 항상 배송 쓰는 \n",
      "cluster 2: 보습 제품 아기 배송 구매 \n",
      "cluster 3: 배송 너무 아기 촉촉하고 빠른 \n",
      "cluster 4: 제품 저렴 보습 구매 같아 \n",
      "cluster 5: 배송 빠르 진짜 굿굿굿 제품 \n",
      "cluster 6: 보습 배송 제품 너무 역시 \n",
      "cluster 7: 배송 보습 제품 아기 저렴 \n",
      "cluster 8: 사용 년 보습 아기 배송 \n",
      "cluster 9: 제품 쓰는 항상 늘 보습 \n"
     ]
    }
   ],
   "source": [
    "for i in range(cnum):\n",
    "    print('cluster {}:'.format(i)),\n",
    "    print_topwords(df=dfRes.loc[dfRes['label'] == i], num=5, bar=False)\n",
    "    print(\"\")"
   ]
  },
  {
   "cell_type": "markdown",
   "metadata": {},
   "source": [
    "<br>\n",
    "* ### DBSCAN w/ doc2vec\n",
    "Density-based Spatial Clustering of Aplications with Noise"
   ]
  },
  {
   "cell_type": "code",
   "execution_count": 153,
   "metadata": {
    "collapsed": false
   },
   "outputs": [],
   "source": [
    "#db = DBSCAN(eps=0.3, min_samples=10, algorithm='kd_tree', metric='euclidean')\n",
    "db = DBSCAN(eps=0.1, min_samples=10, algorithm='brute', metric='cosine')\n",
    "#db = DBSCAN(eps=0.2, min_samples=10, metric='euclidean')\n",
    "Y = db.fit_predict(X_d2v)"
   ]
  },
  {
   "cell_type": "code",
   "execution_count": 154,
   "metadata": {
    "collapsed": false
   },
   "outputs": [
    {
     "name": "stdout",
     "output_type": "stream",
     "text": [
      "Estimated number of clusters: 3\n",
      "Silhouette Coefficient: -0.131\n"
     ]
    }
   ],
   "source": [
    "# Number of clusters in labels, ignoring noise if present.\n",
    "cnum = len(set(db.labels_)) - (1 if -1 in db.labels_ else 0)\n",
    "\n",
    "print('Estimated number of clusters: %d' % cnum)\n",
    "print(\"Silhouette Coefficient: %0.3f\" % silhouette_score(X_d2v, db.labels_))"
   ]
  },
  {
   "cell_type": "code",
   "execution_count": 155,
   "metadata": {
    "collapsed": false
   },
   "outputs": [],
   "source": [
    "dfRes = pd.DataFrame(corpus, columns=['text'])\n",
    "dfRes['label'] = Y"
   ]
  },
  {
   "cell_type": "code",
   "execution_count": 156,
   "metadata": {
    "collapsed": false
   },
   "outputs": [
    {
     "name": "stdout",
     "output_type": "stream",
     "text": [
      "noise-1: 988\n",
      "label 0: 1854\n",
      "label 1: 212\n",
      "label 2: 18\n"
     ]
    }
   ],
   "source": [
    "for i in range(len(dfRes.label.unique())):\n",
    "    if i == 0 :\n",
    "        print('noise-1: {}'.format(len(dfRes.loc[dfRes['label'] == i-1])))\n",
    "    else:\n",
    "        print('label {}: {}'.format(i-1, len(dfRes.loc[dfRes['label'] == i-1])))"
   ]
  },
  {
   "cell_type": "code",
   "execution_count": 169,
   "metadata": {
    "collapsed": false
   },
   "outputs": [
    {
     "name": "stdout",
     "output_type": "stream",
     "text": [
      "cluster -1: 보습 제품 배송 아기 항상 \n",
      "cluster 0: 보습 배송 제품 너무 구매 \n",
      "cluster 1: \n",
      "cluster 2: 보습 \n"
     ]
    }
   ],
   "source": [
    "for i in range(-1, cnum):\n",
    "    print('cluster {}:'.format(i)),\n",
    "    print_topwords(df=dfRes.loc[dfRes['label'] == i], num=5, bar=False)\n",
    "    print(\"\")"
   ]
  },
  {
   "cell_type": "code",
   "execution_count": 173,
   "metadata": {
    "collapsed": false
   },
   "outputs": [
    {
     "data": {
      "text/html": [
       "<div>\n",
       "<style>\n",
       "    .dataframe thead tr:only-child th {\n",
       "        text-align: right;\n",
       "    }\n",
       "\n",
       "    .dataframe thead th {\n",
       "        text-align: left;\n",
       "    }\n",
       "\n",
       "    .dataframe tbody tr th {\n",
       "        vertical-align: top;\n",
       "    }\n",
       "</style>\n",
       "<table border=\"1\" class=\"dataframe\">\n",
       "  <thead>\n",
       "    <tr style=\"text-align: right;\">\n",
       "      <th></th>\n",
       "      <th>text</th>\n",
       "      <th>label</th>\n",
       "    </tr>\n",
       "  </thead>\n",
       "  <tbody>\n",
       "    <tr>\n",
       "      <th>10</th>\n",
       "      <td>좋네요</td>\n",
       "      <td>1</td>\n",
       "    </tr>\n",
       "    <tr>\n",
       "      <th>13</th>\n",
       "      <td>좋습니다</td>\n",
       "      <td>1</td>\n",
       "    </tr>\n",
       "    <tr>\n",
       "      <th>20</th>\n",
       "      <td>좋아요</td>\n",
       "      <td>1</td>\n",
       "    </tr>\n",
       "    <tr>\n",
       "      <th>62</th>\n",
       "      <td>좋아요</td>\n",
       "      <td>1</td>\n",
       "    </tr>\n",
       "    <tr>\n",
       "      <th>72</th>\n",
       "      <td>좋아요~~^^</td>\n",
       "      <td>1</td>\n",
       "    </tr>\n",
       "  </tbody>\n",
       "</table>\n",
       "</div>"
      ],
      "text/plain": [
       "       text  label\n",
       "10  좋네요      1    \n",
       "13  좋습니다     1    \n",
       "20  좋아요      1    \n",
       "62  좋아요      1    \n",
       "72  좋아요~~^^  1    "
      ]
     },
     "execution_count": 173,
     "metadata": {},
     "output_type": "execute_result"
    }
   ],
   "source": [
    "dfRes[dfRes['label'] == 1].head()"
   ]
  },
  {
   "cell_type": "code",
   "execution_count": 171,
   "metadata": {
    "collapsed": false
   },
   "outputs": [
    {
     "data": {
      "text/html": [
       "<div>\n",
       "<style>\n",
       "    .dataframe thead tr:only-child th {\n",
       "        text-align: right;\n",
       "    }\n",
       "\n",
       "    .dataframe thead th {\n",
       "        text-align: left;\n",
       "    }\n",
       "\n",
       "    .dataframe tbody tr th {\n",
       "        vertical-align: top;\n",
       "    }\n",
       "</style>\n",
       "<table border=\"1\" class=\"dataframe\">\n",
       "  <thead>\n",
       "    <tr style=\"text-align: right;\">\n",
       "      <th></th>\n",
       "      <th>text</th>\n",
       "      <th>label</th>\n",
       "    </tr>\n",
       "  </thead>\n",
       "  <tbody>\n",
       "    <tr>\n",
       "      <th>48</th>\n",
       "      <td>보습력이 좋습니다</td>\n",
       "      <td>2</td>\n",
       "    </tr>\n",
       "    <tr>\n",
       "      <th>66</th>\n",
       "      <td>보습력 좋네요.</td>\n",
       "      <td>2</td>\n",
       "    </tr>\n",
       "    <tr>\n",
       "      <th>259</th>\n",
       "      <td>보습력이 짱 좋아요</td>\n",
       "      <td>2</td>\n",
       "    </tr>\n",
       "    <tr>\n",
       "      <th>317</th>\n",
       "      <td>보습력이 넘 좋아요~</td>\n",
       "      <td>2</td>\n",
       "    </tr>\n",
       "    <tr>\n",
       "      <th>341</th>\n",
       "      <td>나한테는 안맞음 보습력그닥..</td>\n",
       "      <td>2</td>\n",
       "    </tr>\n",
       "  </tbody>\n",
       "</table>\n",
       "</div>"
      ],
      "text/plain": [
       "                 text  label\n",
       "48   보습력이 좋습니다         2    \n",
       "66   보습력 좋네요.          2    \n",
       "259  보습력이 짱 좋아요        2    \n",
       "317  보습력이 넘 좋아요~       2    \n",
       "341  나한테는 안맞음 보습력그닥..  2    "
      ]
     },
     "execution_count": 171,
     "metadata": {},
     "output_type": "execute_result"
    }
   ],
   "source": [
    "dfRes[dfRes['label'] == 2].head()"
   ]
  },
  {
   "cell_type": "markdown",
   "metadata": {},
   "source": [
    "### Clustering w/ Doc2Vec 성능\n",
    "* corpus내 단어들 간의 관계를 유추할 수 있음\n",
    "* 문장간 유사도 판별 성능이 좋지 않음 -> 트레이닝 데이터 셋의 개수를 늘려서 다시 시도해볼 것\n",
    "* 비슷한 주제어를 가진 리뷰들이 각각 여러개의 주제를 포함할 때 Partitioning 알고리즘과의 조합 성능 좋지 않음"
   ]
  },
  {
   "cell_type": "markdown",
   "metadata": {},
   "source": [
    "<br>\n",
    "# LDA + doc2vec"
   ]
  },
  {
   "cell_type": "markdown",
   "metadata": {},
   "source": [
    "* lda 모델링"
   ]
  },
  {
   "cell_type": "code",
   "execution_count": 372,
   "metadata": {
    "collapsed": true
   },
   "outputs": [],
   "source": [
    "lda_docs = [nav_tokenizer(x) for x in corpus]\n",
    "lda_docs = [remove_stopwords(x, stopwords + mask1) for x in lda_docs]\n",
    "lda_dict = corpora.Dictionary(lda_docs)\n",
    "#calulate TF-IDF\n",
    "tf_ps = [lda_dict.doc2bow(x) for x in lda_docs]\n",
    "tf_model = models.TfidfModel(tf_ps)\n",
    "X_lda = tf_model[tf_ps]"
   ]
  },
  {
   "cell_type": "markdown",
   "metadata": {},
   "source": [
    "<br>\n",
    "* 전체 리뷰를 20개 주제로 세분화"
   ]
  },
  {
   "cell_type": "code",
   "execution_count": 599,
   "metadata": {
    "collapsed": false,
    "scrolled": true
   },
   "outputs": [
    {
     "name": "stdout",
     "output_type": "stream",
     "text": [
      "[(0,\n",
      "  0.013*\"잘산\" + 0.011*\"쵝오\" + 0.009*\"맞지\" + 0.008*\"필요할\" + 0.008*\"들어\"),\n",
      " (1,\n",
      "  0.018*\"필요없\" + 0.011*\"제품\" + 0.009*\"갑자기\" + 0.009*\"항상\" + 0.009*\"바로\"),\n",
      " (2,\n",
      "  0.029*\"만족합\" + 0.016*\"늘\" + 0.014*\"촉촉합\" + 0.014*\"제품\" + 0.012*\"아이\"),\n",
      " (3,\n",
      "  0.055*\"빠르\" + 0.047*\"배송\" + 0.037*\"항상\" + 0.019*\"파세\" + 0.012*\"저렴\"),\n",
      " (4,\n",
      "  0.015*\"받아\" + 0.015*\"로켓\" + 0.013*\"정말\" + 0.012*\"추천\" + 0.010*\"입니\"),\n",
      " (5,\n",
      "  0.047*\"받았\" + 0.029*\"쓰는\" + 0.019*\"항상\" + 0.015*\"안해\" + 0.012*\"상품\"),\n",
      " (6,\n",
      "  0.060*\"역시\" + 0.013*\"아들\" + 0.011*\"중이\" + 0.011*\"보습\" + 0.010*\"쿠팡\"),\n",
      " (7,\n",
      "  0.008*\"바르\" + 0.008*\"모두\" + 0.008*\"나쁘\" + 0.007*\"촉촉해서\" + 0.007*\"전혀\"),\n",
      " (8,\n",
      "  0.024*\"만족\" + 0.019*\"진리\" + 0.012*\"괜찮\" + 0.011*\"구매\" + 0.009*\"좋아지는\"),\n",
      " (9,\n",
      "  0.021*\"애기\" + 0.021*\"강추\" + 0.011*\"발라\" + 0.011*\"아기\" + 0.010*\"우리\"),\n",
      " (10,\n",
      "  0.020*\"있어\" + 0.018*\"부드럽\" + 0.015*\"정말\" + 0.010*\"보았\" + 0.010*\"감은\"),\n",
      " (11,\n",
      "  0.082*\"보습\" + 0.021*\"건성\" + 0.012*\"필수품\" + 0.010*\"추천합\" + 0.010*\"처음\"),\n",
      " (12,\n",
      "  0.015*\"보습\" + 0.012*\"효과\" + 0.012*\"종일\" + 0.011*\"그닥\" + 0.009*\"겨울철\"),\n",
      " (13,\n",
      "  0.027*\"아주\" + 0.023*\"건조한\" + 0.016*\"제품\" + 0.015*\"항상\" + 0.014*\"쓰는\"),\n",
      " (14,\n",
      "  0.042*\"빠른\" + 0.030*\"배송\" + 0.018*\"완전\" + 0.016*\"너무\" + 0.013*\"감사합\"),\n",
      " (15,\n",
      "  0.020*\"아기\" + 0.016*\"저렴\" + 0.015*\"쓰는\" + 0.015*\"선물\" + 0.015*\"항상\"),\n",
      " (16,\n",
      "  0.026*\"촉촉함\" + 0.022*\"촉촉하네\" + 0.019*\"듭니\" + 0.011*\"발림\" + 0.008*\"배송\"),\n",
      " (17,\n",
      "  0.016*\"싸고\" + 0.013*\"이지\" + 0.013*\"아가\" + 0.012*\"촉촉한\" + 0.012*\"하게\"),\n",
      " (18,\n",
      "  0.030*\"촉촉하니\" + 0.020*\"순하고\" + 0.018*\"배송\" + 0.017*\"저렴\" + 0.015*\"로켓\"),\n",
      " (19,\n",
      "  0.045*\"촉촉하고\" + 0.027*\"최고\" + 0.016*\"보습\" + 0.016*\"적임\" + 0.014*\"소문\"),\n",
      " (20,\n",
      "  0.059*\"너무\" + 0.015*\"아기\" + 0.013*\"저희\" + 0.013*\"지오\" + 0.011*\"잇어\"),\n",
      " (21,\n",
      "  0.018*\"많아\" + 0.010*\"사용했\" + 0.010*\"생기는\" + 0.009*\"않고\" + 0.009*\"건조할\"),\n",
      " (22,\n",
      "  0.019*\"꾸준히\" + 0.017*\"가족\" + 0.012*\"순해서\" + 0.012*\"매트\" + 0.010*\"없다\"),\n",
      " (23,\n",
      "  0.014*\"어른\" + 0.014*\"정품\" + 0.012*\"굿굿굿\" + 0.009*\"늘\" + 0.008*\"문자\"),\n",
      " (24,\n",
      "  0.022*\"촉촉하고\" + 0.016*\"무난\" + 0.012*\"기대\" + 0.009*\"않네\" + 0.008*\"누구\"),\n",
      " (25,\n",
      "  0.028*\"늘\" + 0.014*\"대박\" + 0.013*\"신랑\" + 0.012*\"쓰는\" + 0.012*\"믿고\"),\n",
      " (26,\n",
      "  0.023*\"생각\" + 0.019*\"원래\" + 0.016*\"보습\" + 0.014*\"가격\" + 0.012*\"효과\"),\n",
      " (27,\n",
      "  0.027*\"굿굿\" + 0.015*\"말할\" + 0.013*\"사고\" + 0.013*\"싸게\" + 0.009*\"로션\"),\n",
      " (28,\n",
      "  0.025*\"계속\" + 0.018*\"포장\" + 0.017*\"배송\" + 0.015*\"상품\" + 0.013*\"품질\"),\n",
      " (29,\n",
      "  0.031*\"싸게\" + 0.018*\"늘\" + 0.014*\"같아\" + 0.011*\"친절한\" + 0.011*\"보다\")]\n"
     ]
    }
   ],
   "source": [
    "# train topic model\n",
    "ntopics = 30\n",
    "nwords = 5\n",
    "\n",
    "np.random.seed(1)\n",
    "lda_model = models.ldamodel.LdaModel(X_lda, id2word=lda_dict, num_topics=ntopics)\n",
    "pprint(lda_model.print_topics(num_topics=ntopics, num_words=nwords))"
   ]
  },
  {
   "cell_type": "markdown",
   "metadata": {},
   "source": [
    "<br>\n",
    "* 리뷰별 해당 주제 할당"
   ]
  },
  {
   "cell_type": "code",
   "execution_count": 600,
   "metadata": {
    "collapsed": false
   },
   "outputs": [
    {
     "name": "stdout",
     "output_type": "stream",
     "text": [
      "바르고 30분이 지나서 얼굴을 보니 빨갛더라구요 너무 놀래서 씻고나서 리뷰를 보는데 참... 건성분들은 모르겠지만 중성 지성 분들은 사지마세요 저는 겨을에 바디로션 대신 바를려구요..^^\n"
     ]
    }
   ],
   "source": [
    "idx = 11\n",
    "pprint(corpus[idx])"
   ]
  },
  {
   "cell_type": "code",
   "execution_count": 601,
   "metadata": {
    "collapsed": false
   },
   "outputs": [
    {
     "data": {
      "text/plain": [
       "[(4, 0.5366510509230179), (12, 0.18305400638005612), (15, 0.11207810570841419)]"
      ]
     },
     "execution_count": 601,
     "metadata": {},
     "output_type": "execute_result"
    }
   ],
   "source": [
    "lda_model[X_lda[idx]]"
   ]
  },
  {
   "cell_type": "markdown",
   "metadata": {},
   "source": [
    "<br>\n",
    "* LDA Vector 생성"
   ]
  },
  {
   "cell_type": "code",
   "execution_count": 623,
   "metadata": {
    "collapsed": false
   },
   "outputs": [
    {
     "data": {
      "text/plain": [
       "(3072, 30)"
      ]
     },
     "execution_count": 623,
     "metadata": {},
     "output_type": "execute_result"
    }
   ],
   "source": [
    "lda_vec = np.zeros((len(corpus), ntopics))\n",
    "lda_vec.shape"
   ]
  },
  {
   "cell_type": "code",
   "execution_count": 625,
   "metadata": {
    "collapsed": false
   },
   "outputs": [
    {
     "name": "stderr",
     "output_type": "stream",
     "text": [
      "/Users/choiyoungrok/anaconda/lib/python2.7/site-packages/ipykernel/__main__.py:4: DeprecationWarning: assignment will raise an error in the future, most likely because your index result shape does not match the value array shape. You can use `arr.flat[index] = values` to keep the old behaviour.\n"
     ]
    }
   ],
   "source": [
    "for i in range(len(lda_vec)):\n",
    "    idx = [x[0] for x in lda_model[X_lda[i]]]\n",
    "    prob = [x[1] for x in lda_model[X_lda[i]]]\n",
    "    lda_vec[i][idx] = prob"
   ]
  },
  {
   "cell_type": "code",
   "execution_count": 630,
   "metadata": {
    "collapsed": false
   },
   "outputs": [],
   "source": [
    "# raise small number to calculate cosine distances\n",
    "lda_vec = lda_vec + 0.0001"
   ]
  },
  {
   "cell_type": "markdown",
   "metadata": {},
   "source": [
    "<br>\n",
    "* doc2vec vector와 연결"
   ]
  },
  {
   "cell_type": "code",
   "execution_count": 644,
   "metadata": {
    "collapsed": false
   },
   "outputs": [],
   "source": [
    "X_l2v = np.hstack((X_d2v, lda_vec))"
   ]
  },
  {
   "cell_type": "markdown",
   "metadata": {},
   "source": [
    "<br>\n",
    "* K-means ++"
   ]
  },
  {
   "cell_type": "code",
   "execution_count": 718,
   "metadata": {
    "collapsed": true
   },
   "outputs": [],
   "source": [
    "cnum = 20"
   ]
  },
  {
   "cell_type": "code",
   "execution_count": 719,
   "metadata": {
    "collapsed": false
   },
   "outputs": [
    {
     "name": "stdout",
     "output_type": "stream",
     "text": [
      "Silhouette Coefficient: 0.311\n"
     ]
    }
   ],
   "source": [
    "km = KMeans(n_clusters=cnum, init='k-means++', max_iter=300, n_init=20, tol=0.0001)\n",
    "km.fit(X_l2v)\n",
    "print(\"Silhouette Coefficient: %0.3f\" % silhouette_score(X_l2v, km.labels_))"
   ]
  },
  {
   "cell_type": "code",
   "execution_count": 720,
   "metadata": {
    "collapsed": false
   },
   "outputs": [
    {
     "name": "stdout",
     "output_type": "stream",
     "text": [
      "label0: 161\n",
      "label1: 112\n",
      "label2: 834\n",
      "label3: 135\n",
      "label4: 107\n",
      "label5: 167\n",
      "label6: 97\n",
      "label7: 130\n",
      "label8: 82\n",
      "label9: 122\n",
      "label10: 109\n",
      "label11: 98\n",
      "label12: 96\n",
      "label13: 59\n",
      "label14: 129\n",
      "label15: 89\n",
      "label16: 171\n",
      "label17: 166\n",
      "label18: 89\n",
      "label19: 119\n"
     ]
    }
   ],
   "source": [
    "dfRes = pd.DataFrame(corpus, columns=['text'])\n",
    "dfRes['label'] = km.labels_\n",
    "\n",
    "for i in range(cnum):\n",
    "    print('label{}: {}'.format(i, len(dfRes[dfRes.label == i])))"
   ]
  },
  {
   "cell_type": "code",
   "execution_count": 721,
   "metadata": {
    "collapsed": false
   },
   "outputs": [
    {
     "name": "stdout",
     "output_type": "stream",
     "text": [
      "cluster 0: 배송 보습 같아 입니 제품 \n",
      "cluster 1: 만족합 사용하고 제품 아이 있어 \n",
      "cluster 2: 너무 보습 제품 쓰는 아기 \n",
      "cluster 3: 보습 건성 아기 발라 입니 \n",
      "cluster 4: 배송 빠른 감사합 완전 제품 \n",
      "cluster 5: 싸게 제품 늘 같아 많아 \n",
      "cluster 6: 아주 건조한 제품 보습 쓰는 \n",
      "cluster 7: 필요없 제품 배송 바르 구매 \n",
      "cluster 8: 괜찮 만족 보습 제품 진리 \n",
      "cluster 9: 구매 저렴 아기 제품 가격 \n",
      "cluster 10: 촉촉하니 순하고 저렴 하게 배송 \n",
      "cluster 11: 발라 애기 아기 보습 강추 \n",
      "cluster 12: 있어 정말 부드럽 년 트러블 \n",
      "cluster 13: 무난 촉촉하고 얼굴 이상 배송 \n",
      "cluster 14: 배송 항상 빠르 파세 제품 \n",
      "cluster 15: 늘 믿고 쓰는 제품 입니 \n",
      "cluster 16: 촉촉하고 최고 보습 입니 제품 \n",
      "cluster 17: 보습 아기 발라 얼굴 바르 \n",
      "cluster 18: 계속 재구 배송 아기 입니 \n",
      "cluster 19: 역시 보습 구매 가격 배송 \n"
     ]
    }
   ],
   "source": [
    "for i in range(cnum):\n",
    "    print('cluster {}:'.format(i)),\n",
    "    print_topwords(df=dfRes.loc[dfRes['label'] == i], num=5, bar=False)\n",
    "    print(\"\")"
   ]
  },
  {
   "cell_type": "markdown",
   "metadata": {},
   "source": [
    "<br>\n",
    "* DBSCAN"
   ]
  },
  {
   "cell_type": "code",
   "execution_count": 714,
   "metadata": {
    "collapsed": false
   },
   "outputs": [],
   "source": [
    "db = DBSCAN(eps=0.28, min_samples=10, algorithm='kd_tree', metric='euclidean')\n",
    "Y = db.fit_predict(lda_vec)"
   ]
  },
  {
   "cell_type": "code",
   "execution_count": 715,
   "metadata": {
    "collapsed": false
   },
   "outputs": [
    {
     "name": "stdout",
     "output_type": "stream",
     "text": [
      "Estimated number of clusters: 24\n",
      "Silhouette Coefficient: 0.269\n"
     ]
    }
   ],
   "source": [
    "# Number of clusters in labels, ignoring noise if present.\n",
    "cnum = len(set(db.labels_)) - (1 if -1 in db.labels_ else 0)\n",
    "\n",
    "print('Estimated number of clusters: %d' % cnum)\n",
    "print(\"Silhouette Coefficient: %0.3f\" % silhouette_score(X_l2v, db.labels_))"
   ]
  },
  {
   "cell_type": "code",
   "execution_count": 716,
   "metadata": {
    "collapsed": false
   },
   "outputs": [],
   "source": [
    "dfRes = pd.DataFrame(corpus, columns=['text'])\n",
    "dfRes['label'] = Y"
   ]
  },
  {
   "cell_type": "code",
   "execution_count": 717,
   "metadata": {
    "collapsed": false
   },
   "outputs": [
    {
     "name": "stdout",
     "output_type": "stream",
     "text": [
      "noise-1: 231  |  제품 너무 보습 배송 구매 \n",
      "cluster 0: 520  |  촉촉하고 배송 항상 빠르 보습 \n",
      "cluster 1: 81  |  아주 제품 건조한 보습 쓰는 \n",
      "cluster 2: 128  |  보습 건성 아기 발라 입니 \n",
      "cluster 3: 79  |  너무 아기 배송 빨라 지오 \n",
      "cluster 4: 100  |  만족합 제품 사용하고 아이 늘 \n",
      "cluster 5: 412  |  늘 제품 쓰는 믿고 보습 \n",
      "cluster 6: 149  |  배송 보습 입니 같아 로켓 \n",
      "cluster 7: 50  |  순해서 꾸준히 보습 가족 아기 \n",
      "cluster 8: 67  |  아기 제품 보습 같아 사용합 \n",
      "cluster 9: 75  |  재구 계속 배송 아기 포장 \n",
      "cluster 10: 109  |  역시 보습 구매 유명한 가격 \n",
      "cluster 11: 76  |  많아 기름 약간 바르 않고 \n",
      "cluster 12: 114  |  구매 저렴 아기 제품 가격 \n",
      "cluster 13: 103  |  배송 빠른 감사합 완전 너무 \n",
      "cluster 14: 218  |  촉촉하니 배송 순하고 저렴 구매 \n",
      "cluster 15: 40  |  바르 다른 배송 아이 가격 \n",
      "cluster 16: 47  |  무난 촉촉하고 이상 얼굴 역시 \n",
      "cluster 17: 81  |  괜찮 만족 보습 용량 제품 \n",
      "cluster 18: 70  |  쓰는 받았 항상 제품 상품 \n",
      "cluster 19: 59  |  매우 정품 바르 발라 굿굿굿 \n",
      "cluster 20: 90  |  발라 애기 보습 아기 강추 \n",
      "cluster 21: 55  |  인생 너무 있어 구매 제품 \n",
      "cluster 22: 64  |  싸게 늘 제품 같아 배송 \n",
      "cluster 23: 54  |  생각 가격 보습 원래 제품 \n"
     ]
    }
   ],
   "source": [
    "for i in range(len(dfRes.label.unique())):\n",
    "    if i == 0 :\n",
    "        print('noise-1: {}'.format(len(dfRes.loc[dfRes['label'] == i-1]))),\n",
    "        print(\" | \"),\n",
    "        print_topwords(df=dfRes.loc[dfRes['label'] == i-1], num=5, bar=False)\n",
    "    else:\n",
    "        print('cluster {}: {}'.format(i-1, len(dfRes.loc[dfRes['label'] == i-1]))),\n",
    "        print(\" | \"),\n",
    "        print_topwords(df=dfRes.loc[dfRes['label'] == i-1], num=5, bar=False)\n",
    "    print(\"\")"
   ]
  },
  {
   "cell_type": "markdown",
   "metadata": {},
   "source": [
    "<br>\n",
    "* HDBSCAN Soft Clustering"
   ]
  },
  {
   "cell_type": "code",
   "execution_count": 754,
   "metadata": {
    "collapsed": true
   },
   "outputs": [],
   "source": [
    "from sklearn import cluster"
   ]
  },
  {
   "cell_type": "code",
   "execution_count": 920,
   "metadata": {
    "collapsed": true
   },
   "outputs": [],
   "source": [
    "cluster = hdbscan.HDBSCAN(min_cluster_size=45, prediction_data=True).fit(X_l2v)"
   ]
  },
  {
   "cell_type": "code",
   "execution_count": 921,
   "metadata": {
    "collapsed": false
   },
   "outputs": [
    {
     "data": {
      "text/plain": [
       "18"
      ]
     },
     "execution_count": 921,
     "metadata": {},
     "output_type": "execute_result"
    }
   ],
   "source": [
    "cnum = len(np.unique(cluster.labels_)) - 1\n",
    "cnum"
   ]
  },
  {
   "cell_type": "markdown",
   "metadata": {},
   "source": [
    "> HDBSCAN 결과 23개 클러스터 생성"
   ]
  },
  {
   "cell_type": "code",
   "execution_count": 922,
   "metadata": {
    "collapsed": false
   },
   "outputs": [
    {
     "data": {
      "text/plain": [
       "(3072, 18)"
      ]
     },
     "execution_count": 922,
     "metadata": {},
     "output_type": "execute_result"
    }
   ],
   "source": [
    "# 클러스터별 Probabilities\n",
    "soft_cluster = hdbscan.all_points_membership_vectors(cluster)\n",
    "soft_cluster.shape"
   ]
  },
  {
   "cell_type": "code",
   "execution_count": 930,
   "metadata": {
    "collapsed": false
   },
   "outputs": [],
   "source": [
    "dfRes = pd.DataFrame(corpus, columns=['text'])\n",
    "for i in range(cnum):\n",
    "    dfRes[i] = 0; \n",
    "dfRes['noise'] = 0\n",
    "\n",
    "for i in range(len(soft_cluster)):\n",
    "    \n",
    "    if np.isnan(soft_cluster[i][0]):\n",
    "        dfRes.set_value(i, ['noise'], 1)\n",
    "    else:\n",
    "        # 최고 max probability의 0.8 이상일 때 라벨링\n",
    "        idx = [j for j, x in enumerate(soft_cluster[i]) if x >= (0.9 * soft_cluster[i].max())]\n",
    "        dfRes.set_value(i, idx, 1)"
   ]
  },
  {
   "cell_type": "code",
   "execution_count": 933,
   "metadata": {
    "collapsed": false
   },
   "outputs": [
    {
     "name": "stdout",
     "output_type": "stream",
     "text": [
      "noise-1: 212 |  \n",
      "cluster 0: 320  |  쓰는 제품 항상 보습 아기 \n",
      "cluster 1: 171  |  만족합 제품 사용하고 아이 있어 \n",
      "cluster 2: 199  |  배송 보습 같아 입니 바르 \n",
      "cluster 3: 163  |  너무 아기 얼굴 배송 제품 \n",
      "cluster 4: 192  |  만족 괜찮 아기 가격 보습 \n",
      "cluster 5: 250  |  배송 빠른 제품 가격 너무 \n",
      "cluster 6: 228  |  제품 보습 굿굿 로션 아기 \n",
      "cluster 7: 169  |  구매 아기 저렴 제품 가격 \n",
      "cluster 8: 216  |  아기 발라 보습 애기 제품 \n",
      "cluster 9: 189  |  촉촉하니 순하고 저렴 하게 배송 \n",
      "cluster 10: 266  |  제품 바르 필요없 아기 배송 \n",
      "cluster 11: 191  |  배송 항상 빠르 제품 저렴 \n",
      "cluster 12: 250  |  촉촉하고 최고 보습 입니 제품 \n",
      "cluster 13: 211  |  제품 아주 보습 건조한 아기 \n",
      "cluster 14: 239  |  역시 보습 배송 아기 제품 \n",
      "cluster 15: 189  |  보습 건성 아기 발라 입니 \n",
      "cluster 16: 889  |  보습 제품 쓰는 아기 배송 \n",
      "cluster 17: 128  |  늘 믿고 쓰는 제품 입니 \n"
     ]
    }
   ],
   "source": [
    "print('noise-1: {} | '.format(len(dfRes[(dfRes['noise'] == 1)]))),\n",
    "print_topwords(df=dfRes.loc[dfRes['noise'] == 1], num=5, bar=False)\n",
    "print(\"\")\n",
    "\n",
    "for i in range(cnum):\n",
    "    print('cluster {}: {}'.format(i, len(dfRes.loc[dfRes[i] == 1]))),\n",
    "    print(\" | \"),\n",
    "    print_topwords(df=dfRes.loc[dfRes[i] == 1], num=5, bar=False)\n",
    "    print(\"\")"
   ]
  },
  {
   "cell_type": "code",
   "execution_count": 934,
   "metadata": {
    "collapsed": false
   },
   "outputs": [
    {
     "data": {
      "text/html": [
       "<div>\n",
       "<style>\n",
       "    .dataframe thead tr:only-child th {\n",
       "        text-align: right;\n",
       "    }\n",
       "\n",
       "    .dataframe thead th {\n",
       "        text-align: left;\n",
       "    }\n",
       "\n",
       "    .dataframe tbody tr th {\n",
       "        vertical-align: top;\n",
       "    }\n",
       "</style>\n",
       "<table border=\"1\" class=\"dataframe\">\n",
       "  <thead>\n",
       "    <tr style=\"text-align: right;\">\n",
       "      <th></th>\n",
       "      <th>text</th>\n",
       "      <th>0</th>\n",
       "      <th>1</th>\n",
       "      <th>2</th>\n",
       "      <th>3</th>\n",
       "      <th>4</th>\n",
       "      <th>5</th>\n",
       "      <th>6</th>\n",
       "      <th>7</th>\n",
       "      <th>8</th>\n",
       "      <th>9</th>\n",
       "      <th>10</th>\n",
       "      <th>11</th>\n",
       "      <th>12</th>\n",
       "      <th>13</th>\n",
       "      <th>14</th>\n",
       "      <th>15</th>\n",
       "      <th>16</th>\n",
       "      <th>17</th>\n",
       "      <th>noise</th>\n",
       "    </tr>\n",
       "  </thead>\n",
       "  <tbody>\n",
       "    <tr>\n",
       "      <th>10</th>\n",
       "      <td>좋네요</td>\n",
       "      <td>0</td>\n",
       "      <td>0</td>\n",
       "      <td>0</td>\n",
       "      <td>0</td>\n",
       "      <td>0</td>\n",
       "      <td>0</td>\n",
       "      <td>0</td>\n",
       "      <td>0</td>\n",
       "      <td>0</td>\n",
       "      <td>0</td>\n",
       "      <td>0</td>\n",
       "      <td>0</td>\n",
       "      <td>0</td>\n",
       "      <td>0</td>\n",
       "      <td>0</td>\n",
       "      <td>0</td>\n",
       "      <td>0</td>\n",
       "      <td>0</td>\n",
       "      <td>1</td>\n",
       "    </tr>\n",
       "    <tr>\n",
       "      <th>13</th>\n",
       "      <td>좋습니다</td>\n",
       "      <td>0</td>\n",
       "      <td>0</td>\n",
       "      <td>0</td>\n",
       "      <td>0</td>\n",
       "      <td>0</td>\n",
       "      <td>0</td>\n",
       "      <td>0</td>\n",
       "      <td>0</td>\n",
       "      <td>0</td>\n",
       "      <td>0</td>\n",
       "      <td>0</td>\n",
       "      <td>0</td>\n",
       "      <td>0</td>\n",
       "      <td>0</td>\n",
       "      <td>0</td>\n",
       "      <td>0</td>\n",
       "      <td>0</td>\n",
       "      <td>0</td>\n",
       "      <td>1</td>\n",
       "    </tr>\n",
       "    <tr>\n",
       "      <th>20</th>\n",
       "      <td>좋아요</td>\n",
       "      <td>0</td>\n",
       "      <td>0</td>\n",
       "      <td>0</td>\n",
       "      <td>0</td>\n",
       "      <td>0</td>\n",
       "      <td>0</td>\n",
       "      <td>0</td>\n",
       "      <td>0</td>\n",
       "      <td>0</td>\n",
       "      <td>0</td>\n",
       "      <td>0</td>\n",
       "      <td>0</td>\n",
       "      <td>0</td>\n",
       "      <td>0</td>\n",
       "      <td>0</td>\n",
       "      <td>0</td>\n",
       "      <td>0</td>\n",
       "      <td>0</td>\n",
       "      <td>1</td>\n",
       "    </tr>\n",
       "    <tr>\n",
       "      <th>62</th>\n",
       "      <td>좋아요</td>\n",
       "      <td>0</td>\n",
       "      <td>0</td>\n",
       "      <td>0</td>\n",
       "      <td>0</td>\n",
       "      <td>0</td>\n",
       "      <td>0</td>\n",
       "      <td>0</td>\n",
       "      <td>0</td>\n",
       "      <td>0</td>\n",
       "      <td>0</td>\n",
       "      <td>0</td>\n",
       "      <td>0</td>\n",
       "      <td>0</td>\n",
       "      <td>0</td>\n",
       "      <td>0</td>\n",
       "      <td>0</td>\n",
       "      <td>0</td>\n",
       "      <td>0</td>\n",
       "      <td>1</td>\n",
       "    </tr>\n",
       "    <tr>\n",
       "      <th>72</th>\n",
       "      <td>좋아요~~^^</td>\n",
       "      <td>0</td>\n",
       "      <td>0</td>\n",
       "      <td>0</td>\n",
       "      <td>0</td>\n",
       "      <td>0</td>\n",
       "      <td>0</td>\n",
       "      <td>0</td>\n",
       "      <td>0</td>\n",
       "      <td>0</td>\n",
       "      <td>0</td>\n",
       "      <td>0</td>\n",
       "      <td>0</td>\n",
       "      <td>0</td>\n",
       "      <td>0</td>\n",
       "      <td>0</td>\n",
       "      <td>0</td>\n",
       "      <td>0</td>\n",
       "      <td>0</td>\n",
       "      <td>1</td>\n",
       "    </tr>\n",
       "  </tbody>\n",
       "</table>\n",
       "</div>"
      ],
      "text/plain": [
       "       text  0  1  2  3  4  5  6  7  8  9  10  11  12  13  14  15  16  17  \\\n",
       "10  좋네요      0  0  0  0  0  0  0  0  0  0  0   0   0   0   0   0   0   0    \n",
       "13  좋습니다     0  0  0  0  0  0  0  0  0  0  0   0   0   0   0   0   0   0    \n",
       "20  좋아요      0  0  0  0  0  0  0  0  0  0  0   0   0   0   0   0   0   0    \n",
       "62  좋아요      0  0  0  0  0  0  0  0  0  0  0   0   0   0   0   0   0   0    \n",
       "72  좋아요~~^^  0  0  0  0  0  0  0  0  0  0  0   0   0   0   0   0   0   0    \n",
       "\n",
       "    noise  \n",
       "10  1      \n",
       "13  1      \n",
       "20  1      \n",
       "62  1      \n",
       "72  1      "
      ]
     },
     "execution_count": 934,
     "metadata": {},
     "output_type": "execute_result"
    }
   ],
   "source": [
    "dfRes[dfRes['noise'] == 1].head()"
   ]
  },
  {
   "cell_type": "code",
   "execution_count": null,
   "metadata": {
    "collapsed": true
   },
   "outputs": [],
   "source": []
  }
 ],
 "metadata": {
  "kernelspec": {
   "display_name": "Python 2",
   "language": "python",
   "name": "python2"
  },
  "language_info": {
   "codemirror_mode": {
    "name": "ipython",
    "version": 2
   },
   "file_extension": ".py",
   "mimetype": "text/x-python",
   "name": "python",
   "nbconvert_exporter": "python",
   "pygments_lexer": "ipython2",
   "version": "2.7.13"
  }
 },
 "nbformat": 4,
 "nbformat_minor": 2
}
