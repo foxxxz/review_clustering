{
 "cells": [
  {
   "cell_type": "code",
   "execution_count": 5,
   "metadata": {
    "collapsed": false
   },
   "outputs": [
    {
     "name": "stdout",
     "output_type": "stream",
     "text": [
      "Opened facebook...\n",
      "Email Id entered...\n",
      "Password entered...\n",
      "Moving to target url\n"
     ]
    },
    {
     "ename": "NoSuchElementException",
     "evalue": "Message: Unable to locate element: Write something...\n",
     "output_type": "error",
     "traceback": [
      "\u001b[0;31m---------------------------------------------------------------------------\u001b[0m",
      "\u001b[0;31mNoSuchElementException\u001b[0m                    Traceback (most recent call last)",
      "\u001b[0;32m<ipython-input-5-e02fd7d55152>\u001b[0m in \u001b[0;36m<module>\u001b[0;34m()\u001b[0m\n\u001b[1;32m    155\u001b[0m     \u001b[0mtarget_url\u001b[0m \u001b[0;34m=\u001b[0m \u001b[0mhome_url\u001b[0m \u001b[0;34m+\u001b[0m \u001b[0mpage_url\u001b[0m\u001b[0;34m\u001b[0m\u001b[0m\n\u001b[1;32m    156\u001b[0m \u001b[0;34m\u001b[0m\u001b[0m\n\u001b[0;32m--> 157\u001b[0;31m     \u001b[0mlogin_fb_move_to_target_url\u001b[0m\u001b[0;34m(\u001b[0m\u001b[0mdriver\u001b[0m\u001b[0;34m,\u001b[0m \u001b[0mtarget_url\u001b[0m\u001b[0;34m,\u001b[0m \u001b[0mfb_id\u001b[0m\u001b[0;34m,\u001b[0m \u001b[0mfb_pw\u001b[0m\u001b[0;34m)\u001b[0m\u001b[0;34m\u001b[0m\u001b[0m\n\u001b[0m",
      "\u001b[0;32m<ipython-input-5-e02fd7d55152>\u001b[0m in \u001b[0;36mlogin_fb_move_to_target_url\u001b[0;34m(driver, target_url, fb_id, fb_pw)\u001b[0m\n\u001b[1;32m     93\u001b[0m     \u001b[0;31m# frame = driver.find_element_by_xpath('//*[@id=\"rc.u_0_21\"]/div/div[1]/div/div[2]/div/div[1]')\u001b[0m\u001b[0;34m\u001b[0m\u001b[0;34m\u001b[0m\u001b[0m\n\u001b[1;32m     94\u001b[0m     \u001b[0;31m# driver.switch_to.frame(frame)\u001b[0m\u001b[0;34m\u001b[0m\u001b[0;34m\u001b[0m\u001b[0m\n\u001b[0;32m---> 95\u001b[0;31m     \u001b[0mpass1\u001b[0m \u001b[0;34m=\u001b[0m \u001b[0mdriver\u001b[0m\u001b[0;34m.\u001b[0m\u001b[0mfind_element_by_link_text\u001b[0m\u001b[0;34m(\u001b[0m\u001b[0;34m\"Write something...\"\u001b[0m\u001b[0;34m)\u001b[0m\u001b[0;34m\u001b[0m\u001b[0m\n\u001b[0m\u001b[1;32m     96\u001b[0m     \u001b[0mpass1\u001b[0m\u001b[0;34m.\u001b[0m\u001b[0mclick\u001b[0m\u001b[0;34m(\u001b[0m\u001b[0;34m)\u001b[0m\u001b[0;34m\u001b[0m\u001b[0m\n\u001b[1;32m     97\u001b[0m \u001b[0;34m\u001b[0m\u001b[0m\n",
      "\u001b[0;32m/Users/choiyoungrok/anaconda/lib/python2.7/site-packages/selenium/webdriver/remote/webdriver.pyc\u001b[0m in \u001b[0;36mfind_element_by_link_text\u001b[0;34m(self, link_text)\u001b[0m\n\u001b[1;32m    335\u001b[0m             \u001b[0mdriver\u001b[0m\u001b[0;34m.\u001b[0m\u001b[0mfind_element_by_link_text\u001b[0m\u001b[0;34m(\u001b[0m\u001b[0;34m'Sign In'\u001b[0m\u001b[0;34m)\u001b[0m\u001b[0;34m\u001b[0m\u001b[0m\n\u001b[1;32m    336\u001b[0m         \"\"\"\n\u001b[0;32m--> 337\u001b[0;31m         \u001b[0;32mreturn\u001b[0m \u001b[0mself\u001b[0m\u001b[0;34m.\u001b[0m\u001b[0mfind_element\u001b[0m\u001b[0;34m(\u001b[0m\u001b[0mby\u001b[0m\u001b[0;34m=\u001b[0m\u001b[0mBy\u001b[0m\u001b[0;34m.\u001b[0m\u001b[0mLINK_TEXT\u001b[0m\u001b[0;34m,\u001b[0m \u001b[0mvalue\u001b[0m\u001b[0;34m=\u001b[0m\u001b[0mlink_text\u001b[0m\u001b[0;34m)\u001b[0m\u001b[0;34m\u001b[0m\u001b[0m\n\u001b[0m\u001b[1;32m    338\u001b[0m \u001b[0;34m\u001b[0m\u001b[0m\n\u001b[1;32m    339\u001b[0m     \u001b[0;32mdef\u001b[0m \u001b[0mfind_elements_by_link_text\u001b[0m\u001b[0;34m(\u001b[0m\u001b[0mself\u001b[0m\u001b[0;34m,\u001b[0m \u001b[0mtext\u001b[0m\u001b[0;34m)\u001b[0m\u001b[0;34m:\u001b[0m\u001b[0;34m\u001b[0m\u001b[0m\n",
      "\u001b[0;32m/Users/choiyoungrok/anaconda/lib/python2.7/site-packages/selenium/webdriver/remote/webdriver.pyc\u001b[0m in \u001b[0;36mfind_element\u001b[0;34m(self, by, value)\u001b[0m\n\u001b[1;32m    789\u001b[0m         return self.execute(Command.FIND_ELEMENT, {\n\u001b[1;32m    790\u001b[0m             \u001b[0;34m'using'\u001b[0m\u001b[0;34m:\u001b[0m \u001b[0mby\u001b[0m\u001b[0;34m,\u001b[0m\u001b[0;34m\u001b[0m\u001b[0m\n\u001b[0;32m--> 791\u001b[0;31m             'value': value})['value']\n\u001b[0m\u001b[1;32m    792\u001b[0m \u001b[0;34m\u001b[0m\u001b[0m\n\u001b[1;32m    793\u001b[0m     \u001b[0;32mdef\u001b[0m \u001b[0mfind_elements\u001b[0m\u001b[0;34m(\u001b[0m\u001b[0mself\u001b[0m\u001b[0;34m,\u001b[0m \u001b[0mby\u001b[0m\u001b[0;34m=\u001b[0m\u001b[0mBy\u001b[0m\u001b[0;34m.\u001b[0m\u001b[0mID\u001b[0m\u001b[0;34m,\u001b[0m \u001b[0mvalue\u001b[0m\u001b[0;34m=\u001b[0m\u001b[0mNone\u001b[0m\u001b[0;34m)\u001b[0m\u001b[0;34m:\u001b[0m\u001b[0;34m\u001b[0m\u001b[0m\n",
      "\u001b[0;32m/Users/choiyoungrok/anaconda/lib/python2.7/site-packages/selenium/webdriver/remote/webdriver.pyc\u001b[0m in \u001b[0;36mexecute\u001b[0;34m(self, driver_command, params)\u001b[0m\n\u001b[1;32m    254\u001b[0m         \u001b[0mresponse\u001b[0m \u001b[0;34m=\u001b[0m \u001b[0mself\u001b[0m\u001b[0;34m.\u001b[0m\u001b[0mcommand_executor\u001b[0m\u001b[0;34m.\u001b[0m\u001b[0mexecute\u001b[0m\u001b[0;34m(\u001b[0m\u001b[0mdriver_command\u001b[0m\u001b[0;34m,\u001b[0m \u001b[0mparams\u001b[0m\u001b[0;34m)\u001b[0m\u001b[0;34m\u001b[0m\u001b[0m\n\u001b[1;32m    255\u001b[0m         \u001b[0;32mif\u001b[0m \u001b[0mresponse\u001b[0m\u001b[0;34m:\u001b[0m\u001b[0;34m\u001b[0m\u001b[0m\n\u001b[0;32m--> 256\u001b[0;31m             \u001b[0mself\u001b[0m\u001b[0;34m.\u001b[0m\u001b[0merror_handler\u001b[0m\u001b[0;34m.\u001b[0m\u001b[0mcheck_response\u001b[0m\u001b[0;34m(\u001b[0m\u001b[0mresponse\u001b[0m\u001b[0;34m)\u001b[0m\u001b[0;34m\u001b[0m\u001b[0m\n\u001b[0m\u001b[1;32m    257\u001b[0m             response['value'] = self._unwrap_value(\n\u001b[1;32m    258\u001b[0m                 response.get('value', None))\n",
      "\u001b[0;32m/Users/choiyoungrok/anaconda/lib/python2.7/site-packages/selenium/webdriver/remote/errorhandler.pyc\u001b[0m in \u001b[0;36mcheck_response\u001b[0;34m(self, response)\u001b[0m\n\u001b[1;32m    192\u001b[0m         \u001b[0;32melif\u001b[0m \u001b[0mexception_class\u001b[0m \u001b[0;34m==\u001b[0m \u001b[0mUnexpectedAlertPresentException\u001b[0m \u001b[0;32mand\u001b[0m \u001b[0;34m'alert'\u001b[0m \u001b[0;32min\u001b[0m \u001b[0mvalue\u001b[0m\u001b[0;34m:\u001b[0m\u001b[0;34m\u001b[0m\u001b[0m\n\u001b[1;32m    193\u001b[0m             \u001b[0;32mraise\u001b[0m \u001b[0mexception_class\u001b[0m\u001b[0;34m(\u001b[0m\u001b[0mmessage\u001b[0m\u001b[0;34m,\u001b[0m \u001b[0mscreen\u001b[0m\u001b[0;34m,\u001b[0m \u001b[0mstacktrace\u001b[0m\u001b[0;34m,\u001b[0m \u001b[0mvalue\u001b[0m\u001b[0;34m[\u001b[0m\u001b[0;34m'alert'\u001b[0m\u001b[0;34m]\u001b[0m\u001b[0;34m.\u001b[0m\u001b[0mget\u001b[0m\u001b[0;34m(\u001b[0m\u001b[0;34m'text'\u001b[0m\u001b[0;34m)\u001b[0m\u001b[0;34m)\u001b[0m\u001b[0;34m\u001b[0m\u001b[0m\n\u001b[0;32m--> 194\u001b[0;31m         \u001b[0;32mraise\u001b[0m \u001b[0mexception_class\u001b[0m\u001b[0;34m(\u001b[0m\u001b[0mmessage\u001b[0m\u001b[0;34m,\u001b[0m \u001b[0mscreen\u001b[0m\u001b[0;34m,\u001b[0m \u001b[0mstacktrace\u001b[0m\u001b[0;34m)\u001b[0m\u001b[0;34m\u001b[0m\u001b[0m\n\u001b[0m\u001b[1;32m    195\u001b[0m \u001b[0;34m\u001b[0m\u001b[0m\n\u001b[1;32m    196\u001b[0m     \u001b[0;32mdef\u001b[0m \u001b[0m_value_or_default\u001b[0m\u001b[0;34m(\u001b[0m\u001b[0mself\u001b[0m\u001b[0;34m,\u001b[0m \u001b[0mobj\u001b[0m\u001b[0;34m,\u001b[0m \u001b[0mkey\u001b[0m\u001b[0;34m,\u001b[0m \u001b[0mdefault\u001b[0m\u001b[0;34m)\u001b[0m\u001b[0;34m:\u001b[0m\u001b[0;34m\u001b[0m\u001b[0m\n",
      "\u001b[0;31mNoSuchElementException\u001b[0m: Message: Unable to locate element: Write something...\n"
     ]
    }
   ],
   "source": [
    "# -*- coding: utf-8 -*-\n",
    "\n",
    "# Import Modules\n",
    "from bs4 import BeautifulSoup\n",
    "from selenium import webdriver\n",
    "import datetime\n",
    "import time\n",
    "import csv\n",
    "import urllib\n",
    "import lxml\n",
    "import requests\n",
    "\n",
    "driver = webdriver.Firefox(executable_path='/usr/local/bin/geckodriver')\n",
    "driver.get(target_url)\n",
    "print (\"Opened facebook...\")\n",
    "\n",
    "# opening txt/csv file that includes posting details\n",
    "def import_posting_data():\n",
    "    file_path = \"/Users/kimeric/GitHubProjects/TIL/python/youtube_fbpage/dataset/nba/\"\n",
    "    csv_file_name = file_path + \"%Y%m%d_%H_%M_%S\"+ \".csv\"\n",
    "\n",
    "    f_csv_opened = open(file_path, 'r', encoding= 'utf-8', newline = ' ')\n",
    "    reader = csv.reader(f_csv_opened)\n",
    "\n",
    "    header = next(reader) # first row is header, use next func to start next row\n",
    "    data = []\n",
    "    for row in reader:\n",
    "        # upload_time = []\n",
    "        # upload_time = datetime.now().strftime(row[])\n",
    "        # row = ['title', 'video_link', 'img_link', 'play_time', 'hits', 'updated_time']\n",
    "\n",
    "        run_date = now_time = datetime.datetime.now().strftime(\"%Y%m%d_%H_%M_%S\")\n",
    "        title = str(row[0])\n",
    "        video_link = str(row[1])\n",
    "        img_link = str(row[2])\n",
    "        play_time = str(row[3])\n",
    "        hits = int(row[4])\n",
    "        update_time = str(row[5])\n",
    "\n",
    "        data.append()\n",
    "\n",
    "    print(header)\n",
    "    print(data[0])\n",
    "\n",
    "\n",
    "\n",
    "    # f_txt_opened = open(\"filename.txt\", 'r')\n",
    "    while True:\n",
    "        text = f_csv_opened.readline()\n",
    "        if not text:\n",
    "            break\n",
    "        print(text)\n",
    "    f_csv_opened.close()\n",
    "    return\n",
    "\n",
    "\n",
    "# login fb -> fb page -> posting\n",
    "def login_fb_move_to_target_url(driver, target_url, fb_id, fb_pw):\n",
    "    # Build web browser with selenium.\n",
    "    # Assign your path where the webdriver file located to 'executable_path' as String\n",
    "    # Build bs4\n",
    "    soup = BeautifulSoup(driver.page_source, 'lxml')\n",
    "\n",
    "    # see more\n",
    "    # time.sleep(5)\n",
    "    # Type id & password\n",
    "    type_id = driver.find_element_by_id('email').send_keys(fb_id)\n",
    "    print (\"Email Id entered...\")\n",
    "    type_pw = driver.find_element_by_id('pass').send_keys(fb_pw)\n",
    "    print (\"Password entered...\")\n",
    "\n",
    "    # click login button\n",
    "    element = driver.find_element_by_id('loginbutton')\n",
    "    element.click()\n",
    "\n",
    "    # move to desired fbpage\n",
    "    driver.get(target_url)\n",
    "    print(\"Moving to target url\")\n",
    "\n",
    "    # write post\n",
    "    post_title = \"Philadelphia 76ers' Top 10 Plays Of the 2016-2017 NBA Season\"\n",
    "    post_url = \"https://www.youtube.com/watch?v=XlGpcuaCgWI\"\n",
    "    post_all = post_title + '\\n' + post_url\n",
    "\n",
    "    # *todo : 여기서 부터 하면됨 로그인해서 페이지 이동해서 포스팅하면 됨\n",
    "    # first click to enable posting\n",
    "    driver.switch_to.alert\n",
    "\n",
    "    pass1 = driver.find_elements_by_class_name(\"_5aj7\")[2]\n",
    "    pass1.click()\n",
    "\n",
    "    # write something & publish\n",
    "    driver.find_element_by_id('email').send_keys(fb_id)\n",
    "\n",
    "\n",
    "    # by_classname = driver.find_element_by_class_name(\"_1hib _4bl9\")\n",
    "    # by_classname.click()\n",
    "\n",
    "    # by_css = driver.find_element_by_css_selector(\"#js_18 > div._1j2v > div._2dck._4-u3._57d8 > div > div._ohf.rfloat > div > button > span\")\n",
    "    # by_css.click()\n",
    "    # by_xpath = driver.find_element_by_xpath(\"//*[@id='js_18']/div[2]/div[3]/div/div[2]/div/button/span\")\n",
    "    # by_xpath.click()\n",
    "\n",
    "    # clicking_publish = driver.find_element_by_class_name(\"_1mf7 _4jy0 _4jy3 _4jy1 _51sy selected _42ft\")\n",
    "    # clicking_publish_button = driver.find_element_by_class_name(\"_51xa\")\n",
    "    # clicking_publish.click()\n",
    "\n",
    "    # _1mf7\n",
    "    # _4jy0\n",
    "    # _4jy3\n",
    "    # _4jy1\n",
    "    # _51sy\n",
    "    # selected\n",
    "    # _42ft\n",
    "\n",
    "    # post_box = driver.find_element_by_xpath(\n",
    "    #     \"//[@id='js_2m']/div[1]/div/div[1]/div[2]/div/div/div/div/div/div[2]/div/div/div/div\")\n",
    "    # post_box.click()\n",
    "    # post_box.send_keys(post_title)\n",
    "    # post_button = driver.find_element_by_xpath(\"//*[text()='Publish']\")\n",
    "    # post_button.click()\n",
    "    #\n",
    "    # post_box = driver.find_element_by_xpath(\"//*[@button=_1mf7 _4jy0 _4jy3 _4jy1 _51sy selected _42ft _42fr']/div[1]/div/div[1]/div[2]/div/div/div/div/div/div[2]/div/div/div/div\")\n",
    "    # post_box.click()\n",
    "    # # post_box.send_keys(post_title)\n",
    "\n",
    "    # post_button = driver.find_element_by_xpath(\"//*[text()='Publish']\")\n",
    "    # post_button.click()\n",
    "\n",
    "    return\n",
    "\n",
    "#todo : file uploading in fb page\n",
    "def yt_uploader():\n",
    "    # fileInput = driver.findElement(By.name(\"uploadfile\"));\n",
    "    # fileInput.sendKeys(\"C:/path/to/file.jpg\");\n",
    "    pass\n",
    "\n",
    "\n",
    "if __name__ == \"__main__\":\n",
    "\n",
    "    # Credential Info\n",
    "    fb_id = \"kjy0919@hotmail.com\"\n",
    "    fb_pw = \"jy09190115\"\n",
    "\n",
    "    # Open Firefox\n",
    "    home_url = \"https://www.facebook.com/\"\n",
    "    page_url = \"tooltooly1\"\n",
    "    target_url = home_url + page_url\n",
    "\n",
    "    login_fb_move_to_target_url(driver, target_url, fb_id, fb_pw)"
   ]
  },
  {
   "cell_type": "code",
   "execution_count": 6,
   "metadata": {
    "collapsed": false
   },
   "outputs": [
    {
     "data": {
      "text/plain": [
       "[<selenium.webdriver.firefox.webelement.FirefoxWebElement (session=\"ca3c2d1e-ddfd-b448-90d2-c5bb4d8dc262\", element=\"2436e720-0883-8f49-9a62-26cde9957dda\")>,\n",
       " <selenium.webdriver.firefox.webelement.FirefoxWebElement (session=\"ca3c2d1e-ddfd-b448-90d2-c5bb4d8dc262\", element=\"148ce7c8-eb84-b34d-8917-2671d909035b\")>,\n",
       " <selenium.webdriver.firefox.webelement.FirefoxWebElement (session=\"ca3c2d1e-ddfd-b448-90d2-c5bb4d8dc262\", element=\"a6412181-22b3-ed40-bf42-cbc9c613ddd1\")>,\n",
       " <selenium.webdriver.firefox.webelement.FirefoxWebElement (session=\"ca3c2d1e-ddfd-b448-90d2-c5bb4d8dc262\", element=\"2aa44ccd-8d6f-824e-9d9f-23779897c98c\")>,\n",
       " <selenium.webdriver.firefox.webelement.FirefoxWebElement (session=\"ca3c2d1e-ddfd-b448-90d2-c5bb4d8dc262\", element=\"c8a89736-f42b-ea44-8745-4b9b1ed308d4\")>]"
      ]
     },
     "execution_count": 6,
     "metadata": {},
     "output_type": "execute_result"
    }
   ],
   "source": [
    "temp = driver.find_elements_by_class_name(\"_5aj7\")[2]\n",
    "temp\n",
    "#pass1.click()"
   ]
  },
  {
   "cell_type": "code",
   "execution_count": 10,
   "metadata": {
    "collapsed": true
   },
   "outputs": [],
   "source": [
    "temp[2].click()"
   ]
  },
  {
   "cell_type": "markdown",
   "metadata": {},
   "source": [
    "# posting"
   ]
  },
  {
   "cell_type": "code",
   "execution_count": 23,
   "metadata": {
    "collapsed": false
   },
   "outputs": [],
   "source": [
    "temp = driver.find_element_by_id('placeholder-955hc')\n",
    "#.send_keys(fb_id)"
   ]
  },
  {
   "cell_type": "code",
   "execution_count": 21,
   "metadata": {
    "collapsed": false
   },
   "outputs": [],
   "source": [
    "#input_field = temp.find_element_by_css_selector(\"span\").find_element_by_css_selector(\"span\")\n",
    "input_field = temp.find_element_by_css_selector(\"span\")"
   ]
  },
  {
   "cell_type": "code",
   "execution_count": 24,
   "metadata": {
    "collapsed": false
   },
   "outputs": [],
   "source": [
    "temp.send_keys('abc')"
   ]
  },
  {
   "cell_type": "code",
   "execution_count": null,
   "metadata": {
    "collapsed": true
   },
   "outputs": [],
   "source": []
  }
 ],
 "metadata": {
  "kernelspec": {
   "display_name": "Python 2",
   "language": "python",
   "name": "python2"
  },
  "language_info": {
   "codemirror_mode": {
    "name": "ipython",
    "version": 2
   },
   "file_extension": ".py",
   "mimetype": "text/x-python",
   "name": "python",
   "nbconvert_exporter": "python",
   "pygments_lexer": "ipython2",
   "version": "2.7.13"
  }
 },
 "nbformat": 4,
 "nbformat_minor": 2
}
