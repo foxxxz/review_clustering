{
 "cells": [
  {
   "cell_type": "code",
   "execution_count": 2,
   "metadata": {
    "collapsed": false
   },
   "outputs": [],
   "source": [
    "%run util.py"
   ]
  },
  {
   "cell_type": "markdown",
   "metadata": {},
   "source": [
    "<br>\n",
    "<center><h1>Online Shopping Reivew Clustering</h1></center>\n",
    "<br>\n",
    "<center>쿠팡 피지오겔 데일리 모이스쳐 테라피 페이셜 크림 상품평</center>"
   ]
  },
  {
   "cell_type": "markdown",
   "metadata": {},
   "source": [
    "<center><h5>최영록</h5></center>\n",
    "<br>"
   ]
  },
  {
   "cell_type": "markdown",
   "metadata": {},
   "source": [
    "<img src=\"../image/coupang_physiogel.png\" alt=\"Drawing\" style=\"width: 700px;\"/>"
   ]
  },
  {
   "cell_type": "markdown",
   "metadata": {},
   "source": [
    "<br>\n",
    "# Dataset Introduction"
   ]
  },
  {
   "cell_type": "markdown",
   "metadata": {},
   "source": [
    "* 쿠팡 피지오겔 데일리 모이스쳐 테라피 크림 상품평 7천 여개 중 텍스트가 기입된 3072개 리뷰 (2017.08.07 기준)\n",
    "* 라벨링 되어있지 않는 한글 텍스트 리뷰로 Unsupervised Labeling\n",
    "* Table Scheme: <b>UID | Text</b> \n",
    "* Target Page: http://www.coupang.com/vp/products/2801591?itemId=14692254&vendorItemId=3002041112&q=%ED%94%BC%EC%A7%80%EC%98%A4%EA%B2%94&itemsCount=36&searchId=ee1019efae944258a48975076025397a&rank=0"
   ]
  },
  {
   "cell_type": "code",
   "execution_count": 3,
   "metadata": {
    "collapsed": false
   },
   "outputs": [
    {
     "data": {
      "text/html": [
       "<div>\n",
       "<style>\n",
       "    .dataframe thead tr:only-child th {\n",
       "        text-align: right;\n",
       "    }\n",
       "\n",
       "    .dataframe thead th {\n",
       "        text-align: left;\n",
       "    }\n",
       "\n",
       "    .dataframe tbody tr th {\n",
       "        vertical-align: top;\n",
       "    }\n",
       "</style>\n",
       "<table border=\"1\" class=\"dataframe\">\n",
       "  <thead>\n",
       "    <tr style=\"text-align: right;\">\n",
       "      <th></th>\n",
       "      <th>text</th>\n",
       "    </tr>\n",
       "    <tr>\n",
       "      <th>uid</th>\n",
       "      <th></th>\n",
       "    </tr>\n",
       "  </thead>\n",
       "  <tbody>\n",
       "    <tr>\n",
       "      <th>28618460</th>\n",
       "      <td>매번 사용하는 제품인데 저렴하게 잘 삿습니당</td>\n",
       "    </tr>\n",
       "    <tr>\n",
       "      <th>28608506</th>\n",
       "      <td>몇 년째 쓰는 제품이예요~\\n다른 기초화장품 없이 피지오겔크링과 선크림으로\\n피부가...</td>\n",
       "    </tr>\n",
       "    <tr>\n",
       "      <th>28584972</th>\n",
       "      <td>조금 기름진느낌이 없지않아있어요</td>\n",
       "    </tr>\n",
       "    <tr>\n",
       "      <th>28584914</th>\n",
       "      <td>가격부담이 되도 계속 쓰고 있는 피지오겔 크림\\n귀찮을때 이거 하나만 바르고 자도 ...</td>\n",
       "    </tr>\n",
       "    <tr>\n",
       "      <th>28581673</th>\n",
       "      <td>촉촉해서 수분크림대신바르는데 좋아요</td>\n",
       "    </tr>\n",
       "    <tr>\n",
       "      <th>28567308</th>\n",
       "      <td>배송빨라 좋네요</td>\n",
       "    </tr>\n",
       "    <tr>\n",
       "      <th>28542147</th>\n",
       "      <td>1. 배송 : 로켓 아니어도 괜찬은데, 다음날 바로 도착헸네요. 배송기사님 감사합니...</td>\n",
       "    </tr>\n",
       "    <tr>\n",
       "      <th>28465156</th>\n",
       "      <td>피지오겔~7년째사용중~~</td>\n",
       "    </tr>\n",
       "    <tr>\n",
       "      <th>28463679</th>\n",
       "      <td>항상 쓰던 제품입니다 좋아요~~</td>\n",
       "    </tr>\n",
       "    <tr>\n",
       "      <th>28454963</th>\n",
       "      <td>배송도 빠르고 좋으네영</td>\n",
       "    </tr>\n",
       "  </tbody>\n",
       "</table>\n",
       "</div>"
      ],
      "text/plain": [
       "                                                       text\n",
       "uid                                                        \n",
       "28618460                           매번 사용하는 제품인데 저렴하게 잘 삿습니당\n",
       "28608506  몇 년째 쓰는 제품이예요~\\n다른 기초화장품 없이 피지오겔크링과 선크림으로\\n피부가...\n",
       "28584972                                  조금 기름진느낌이 없지않아있어요\n",
       "28584914  가격부담이 되도 계속 쓰고 있는 피지오겔 크림\\n귀찮을때 이거 하나만 바르고 자도 ...\n",
       "28581673                                촉촉해서 수분크림대신바르는데 좋아요\n",
       "28567308                                           배송빨라 좋네요\n",
       "28542147  1. 배송 : 로켓 아니어도 괜찬은데, 다음날 바로 도착헸네요. 배송기사님 감사합니...\n",
       "28465156                                      피지오겔~7년째사용중~~\n",
       "28463679                                  항상 쓰던 제품입니다 좋아요~~\n",
       "28454963                                       배송도 빠르고 좋으네영"
      ]
     },
     "execution_count": 3,
     "metadata": {},
     "output_type": "execute_result"
    }
   ],
   "source": [
    "# file path\n",
    "PATH = '../dataset/physiogel.csv'\n",
    "df0 = pd.read_csv(PATH)\n",
    "df00 = df0.dropna(subset=['text'])\n",
    "temp = [x.strip().decode('utf-8') for x in df00['text'].values] # erase back and foward spaces/ decoding to unicode \n",
    "df = pd.DataFrame(data=temp, index=df00['uid'], columns=['text'])\n",
    "df.head(10)"
   ]
  },
  {
   "cell_type": "markdown",
   "metadata": {},
   "source": [
    "* 3072개 텍스트 파트 corpus로 활용"
   ]
  },
  {
   "cell_type": "code",
   "execution_count": 4,
   "metadata": {
    "collapsed": false
   },
   "outputs": [
    {
     "data": {
      "text/plain": [
       "(3072,)"
      ]
     },
     "execution_count": 4,
     "metadata": {},
     "output_type": "execute_result"
    }
   ],
   "source": [
    "corpus = df.text.values\n",
    "corpus.shape"
   ]
  },
  {
   "cell_type": "markdown",
   "metadata": {},
   "source": [
    "<br>\n",
    "* 리뷰 텍스트 길이"
   ]
  },
  {
   "cell_type": "code",
   "execution_count": 5,
   "metadata": {
    "collapsed": false
   },
   "outputs": [
    {
     "data": {
      "image/png": "[encoded data removed]",
      "text/plain": [
       "<matplotlib.figure.Figure at 0x10f805b10>"
      ]
     },
     "metadata": {},
     "output_type": "display_data"
    }
   ],
   "source": [
    "plt.figure(figsize=(15, 4))\n",
    "plt.xlim(0, 600)\n",
    "sns.distplot([len(x) for x in corpus])\n",
    "plt.show()"
   ]
  },
  {
   "cell_type": "markdown",
   "metadata": {},
   "source": [
    "<br>\n",
    "# 프로젝트 목표"
   ]
  },
  {
   "cell_type": "markdown",
   "metadata": {},
   "source": [
    "* Doc2Vec/ LDA/ K-means/ Hierachical Clustering 등 비지도적 클러스터링 알고리즘을 활용한 텍스트 군집화\n",
    "* 클러스터링 기법을 활용한 Application 사용성 증대 및 배송, 가격, 품질, 포장 등 제품의 다양한 측면 인사이트 발굴\n",
    "* 한글 텍스트 데이터 전처리 및 자연어 분석 능력 고도화"
   ]
  },
  {
   "cell_type": "markdown",
   "metadata": {},
   "source": [
    "<br>\n",
    "# 사용 패키지 소개"
   ]
  },
  {
   "cell_type": "code",
   "execution_count": 6,
   "metadata": {
    "collapsed": true
   },
   "outputs": [],
   "source": [
    "# Preprocessing\n",
    "import numpy as np\n",
    "import pandas as pd\n",
    "import random\n",
    "from konlpy.utils import pprint\n",
    "from konlpy.tag import *\n",
    "\n",
    "# Visualization\n",
    "import matplotlib.pylab as plt\n",
    "import seaborn as sns\n",
    "\n",
    "# scikit-learn\n",
    "from sklearn.feature_extraction.text import CountVectorizer, TfidfVectorizer\n",
    "from sklearn.cluster import KMeans, k_means_, DBSCAN, AgglomerativeClustering\n",
    "from sklearn import cluster\n",
    "from sklearn.metrics import silhouette_score\n",
    "from sklearn.metrics.pairwise import cosine_distances\n",
    "\n",
    "# hdbscan\n",
    "import hdbscan\n",
    "\n",
    "# gensim\n",
    "from gensim import models\n",
    "from gensim.corpora import mmcorpus, Dictionary\n",
    "from gensim.models import lsimodel, ldamodel, tfidfmodel, rpmodel, logentropy_model, TfidfModel, LsiModel, LdaModel\n",
    "from gensim import matutils, corpora\n",
    "from gensim.models.doc2vec import TaggedDocument\n",
    "from gensim.models import doc2vec\n",
    "from gensim.models.word2vec import Word2Vec"
   ]
  },
  {
   "cell_type": "markdown",
   "metadata": {},
   "source": [
    "<br>\n",
    "<br>\n",
    "# Preprocessing"
   ]
  },
  {
   "cell_type": "markdown",
   "metadata": {},
   "source": [
    "* ### 형태소 분석"
   ]
  },
  {
   "cell_type": "markdown",
   "metadata": {},
   "source": [
    "konlpy Twitter 형태소 분석기를 활용한 '명사', '형용사', '동사'를 추출하는 Tokenizer"
   ]
  },
  {
   "cell_type": "code",
   "execution_count": 7,
   "metadata": {
    "collapsed": true
   },
   "outputs": [],
   "source": [
    "def nav_tokenizer(corpus):\n",
    "    twitter = Twitter()\n",
    "    pos = twitter.pos(corpus)\n",
    "    res = [x[0] for x in pos if (x[1] == u'Noun' or x[1] == u'Adjective' or x[1] == u'Verb')]\n",
    "    return res"
   ]
  },
  {
   "cell_type": "markdown",
   "metadata": {},
   "source": [
    "<br>\n",
    "Stopwords를 분석 차원에서 제거하기 위한 함수 "
   ]
  },
  {
   "cell_type": "code",
   "execution_count": 8,
   "metadata": {
    "collapsed": true
   },
   "outputs": [],
   "source": [
    "def remove_stopwords(words, stopwords):\n",
    "    res = [x for x in words if x not in stopwords]\n",
    "    return res"
   ]
  },
  {
   "cell_type": "markdown",
   "metadata": {},
   "source": [
    "<br>\n",
    "빈출 단어 확인"
   ]
  },
  {
   "cell_type": "code",
   "execution_count": 9,
   "metadata": {
    "collapsed": false
   },
   "outputs": [
    {
     "data": {
      "text/html": [
       "<div>\n",
       "<style>\n",
       "    .dataframe thead tr:only-child th {\n",
       "        text-align: right;\n",
       "    }\n",
       "\n",
       "    .dataframe thead th {\n",
       "        text-align: left;\n",
       "    }\n",
       "\n",
       "    .dataframe tbody tr th {\n",
       "        vertical-align: top;\n",
       "    }\n",
       "</style>\n",
       "<table border=\"1\" class=\"dataframe\">\n",
       "  <thead>\n",
       "    <tr style=\"text-align: right;\">\n",
       "      <th></th>\n",
       "      <th>word</th>\n",
       "      <th>count</th>\n",
       "    </tr>\n",
       "  </thead>\n",
       "  <tbody>\n",
       "    <tr>\n",
       "      <th>4170</th>\n",
       "      <td>좋</td>\n",
       "      <td>1893</td>\n",
       "    </tr>\n",
       "    <tr>\n",
       "      <th>690</th>\n",
       "      <td>피부</td>\n",
       "      <td>828</td>\n",
       "    </tr>\n",
       "    <tr>\n",
       "      <th>1149</th>\n",
       "      <td>피</td>\n",
       "      <td>725</td>\n",
       "    </tr>\n",
       "    <tr>\n",
       "      <th>3764</th>\n",
       "      <td>겔</td>\n",
       "      <td>701</td>\n",
       "    </tr>\n",
       "    <tr>\n",
       "      <th>3308</th>\n",
       "      <td>쓰</td>\n",
       "      <td>696</td>\n",
       "    </tr>\n",
       "    <tr>\n",
       "      <th>2352</th>\n",
       "      <td>보습</td>\n",
       "      <td>510</td>\n",
       "    </tr>\n",
       "    <tr>\n",
       "      <th>3874</th>\n",
       "      <td>크림</td>\n",
       "      <td>502</td>\n",
       "    </tr>\n",
       "    <tr>\n",
       "      <th>3707</th>\n",
       "      <td>제품</td>\n",
       "      <td>497</td>\n",
       "    </tr>\n",
       "    <tr>\n",
       "      <th>3114</th>\n",
       "      <td>바르</td>\n",
       "      <td>395</td>\n",
       "    </tr>\n",
       "    <tr>\n",
       "      <th>688</th>\n",
       "      <td>배송</td>\n",
       "      <td>388</td>\n",
       "    </tr>\n",
       "  </tbody>\n",
       "</table>\n",
       "</div>"
      ],
      "text/plain": [
       "     word  count\n",
       "4170    좋   1893\n",
       "690    피부    828\n",
       "1149    피    725\n",
       "3764    겔    701\n",
       "3308    쓰    696\n",
       "2352   보습    510\n",
       "3874   크림    502\n",
       "3707   제품    497\n",
       "3114   바르    395\n",
       "688    배송    388"
      ]
     },
     "execution_count": 9,
     "metadata": {},
     "output_type": "execute_result"
    }
   ],
   "source": [
    "vect0 = CountVectorizer(tokenizer=nav_tokenizer).fit(corpus)\n",
    "temp = pd.DataFrame(vect0.vocabulary_.keys(), columns=['word'])\n",
    "temp['idx'] = vect0.vocabulary_.values()\n",
    "temp.sort_values(by='idx', inplace=True)\n",
    "temp.drop('idx', axis=1, inplace=True)\n",
    "temp['count'] = vect0.transform(corpus).toarray().sum(axis=0)\n",
    "temp.sort_values(['count'], ascending=False).head(10)"
   ]
  },
  {
   "cell_type": "markdown",
   "metadata": {},
   "source": [
    "<br>\n",
    "빈출 단어 제거  \n",
    "> 제품과 직접 관련이 있거나 너무 많은 빈도로 쓰인 상위 단어 제거"
   ]
  },
  {
   "cell_type": "code",
   "execution_count": 10,
   "metadata": {
    "collapsed": true
   },
   "outputs": [],
   "source": [
    "stopwords = [u'좋', u'피부', u'겔', u'피', u'쓰', u'크림']"
   ]
  },
  {
   "cell_type": "code",
   "execution_count": 11,
   "metadata": {
    "collapsed": false
   },
   "outputs": [
    {
     "name": "stdout",
     "output_type": "stream",
     "text": [
      "token n/a/v: 4793\n"
     ]
    }
   ],
   "source": [
    "vect = TfidfVectorizer(tokenizer=nav_tokenizer, stop_words=stopwords)\n",
    "vect.fit(corpus)\n",
    "print(\"token n/a/v: %d\" % len(vect.vocabulary_))"
   ]
  },
  {
   "cell_type": "markdown",
   "metadata": {},
   "source": [
    "<br>\n",
    "1단어 어휘 중 Tokenizer의 성능으로 인해 무의미하게 수집된 어휘 제거"
   ]
  },
  {
   "cell_type": "code",
   "execution_count": 12,
   "metadata": {
    "collapsed": false
   },
   "outputs": [
    {
     "data": {
      "text/plain": [
       "579"
      ]
     },
     "execution_count": 12,
     "metadata": {},
     "output_type": "execute_result"
    }
   ],
   "source": [
    "# '입, 뺨, 향, 손, 떡, 몇, 봄, 딸, 집, 코, 양, 년, 늘' 을 제외한 1단어 명사 명사 벡터 Stopwords에 추가\n",
    "mask1 = [x for x in vect.vocabulary_ if len(x) == 1]\n",
    "mask1 = [x for x in mask1 if x not in [u'입', u'뺨', u'향', u'손', u'떡', u'몇', u'봄', u'딸', u'집', u'코', u'양', u'년', u'좋', u'늘']]\n",
    "len(mask1)"
   ]
  },
  {
   "cell_type": "code",
   "execution_count": 13,
   "metadata": {
    "collapsed": false
   },
   "outputs": [
    {
     "name": "stdout",
     "output_type": "stream",
     "text": [
      "token n/a/v: 4214\n"
     ]
    }
   ],
   "source": [
    "vect = TfidfVectorizer(tokenizer=nav_tokenizer, stop_words=stopwords + mask1)\n",
    "vect.fit(corpus)\n",
    "print(\"token n/a/v: %d\" % len(vect.vocabulary_))"
   ]
  },
  {
   "cell_type": "code",
   "execution_count": 14,
   "metadata": {
    "collapsed": true
   },
   "outputs": [],
   "source": [
    "# corpus array for scikit-learn package\n",
    "X = vect.transform(corpus).toarray()"
   ]
  },
  {
   "cell_type": "markdown",
   "metadata": {},
   "source": [
    "<br>\n",
    "# LDA (Latent Dirichlet Allocation)"
   ]
  },
  {
   "cell_type": "markdown",
   "metadata": {},
   "source": [
    "each document may be viewed as a mixture of various topics where each document is considered to have a set of topics that are assigned to it via LDA."
   ]
  },
  {
   "cell_type": "markdown",
   "metadata": {},
   "source": [
    "<img src=\"../image/latent_dirichlet_allocation.png\" alt=\"Drawing\" style=\"width: 300px;\"/>"
   ]
  },
  {
   "cell_type": "markdown",
   "metadata": {},
   "source": [
    "<br>"
   ]
  },
  {
   "cell_type": "code",
   "execution_count": 15,
   "metadata": {
    "collapsed": false
   },
   "outputs": [],
   "source": [
    "lda_docs = [nav_tokenizer(x) for x in corpus]\n",
    "lda_docs = [remove_stopwords(x, stopwords + mask1) for x in lda_docs]\n",
    "lda_dict = corpora.Dictionary(lda_docs)"
   ]
  },
  {
   "cell_type": "code",
   "execution_count": 16,
   "metadata": {
    "collapsed": false
   },
   "outputs": [],
   "source": [
    "#calulate TF-IDF\n",
    "tf_ps = [lda_dict.doc2bow(x) for x in lda_docs]\n",
    "tf_model = models.TfidfModel(tf_ps)\n",
    "X_lda = tf_model[tf_ps]\n",
    "corpora.MmCorpus.serialize('ps.mm', X_lda)"
   ]
  },
  {
   "cell_type": "markdown",
   "metadata": {},
   "source": [
    "<br>\n",
    "* 10개 주제 모델링"
   ]
  },
  {
   "cell_type": "code",
   "execution_count": 17,
   "metadata": {
    "collapsed": true
   },
   "outputs": [],
   "source": [
    "# train topic model\n",
    "ntopics =10\n",
    "nwords = 5"
   ]
  },
  {
   "cell_type": "code",
   "execution_count": 18,
   "metadata": {
    "collapsed": false,
    "scrolled": true
   },
   "outputs": [
    {
     "name": "stdout",
     "output_type": "stream",
     "text": [
      "[(0,\n",
      "  0.022*\"빠르\" + 0.022*\"배송\" + 0.018*\"늘\" + 0.011*\"제품\" + 0.011*\"입니\"),\n",
      " (1,\n",
      "  0.010*\"제품\" + 0.010*\"정말\" + 0.009*\"배송\" + 0.009*\"필요없\" + 0.007*\"보습\"),\n",
      " (2,\n",
      "  0.014*\"아기\" + 0.010*\"애기\" + 0.009*\"발라\" + 0.008*\"우리\" + 0.008*\"배송\"),\n",
      " (3,\n",
      "  0.019*\"저렴\" + 0.016*\"하게\" + 0.014*\"싸게\" + 0.011*\"배송\" + 0.010*\"빠르\"),\n",
      " (4,\n",
      "  0.015*\"보습\" + 0.013*\"최고\" + 0.008*\"믿고\" + 0.007*\"입니\" + 0.007*\"사용하고\"),\n",
      " (5,\n",
      "  0.029*\"너무\" + 0.019*\"쓰는\" + 0.015*\"촉촉하니\" + 0.010*\"보습\" + 0.009*\"항상\"),\n",
      " (6,\n",
      "  0.032*\"보습\" + 0.026*\"역시\" + 0.010*\"굿굿\" + 0.007*\"쫀쫀\" + 0.005*\"말할\"),\n",
      " (7,\n",
      "  0.010*\"받았\" + 0.007*\"포장\" + 0.007*\"상태\" + 0.007*\"역시\" + 0.007*\"순해서\"),\n",
      " (8,\n",
      "  0.019*\"항상\" + 0.010*\"만족합\" + 0.010*\"구매\" + 0.009*\"순하고\" + 0.008*\"완전\"),\n",
      " (9,\n",
      "  0.014*\"촉촉하고\" + 0.011*\"건성\" + 0.009*\"부드럽\" + 0.008*\"겨울\" + 0.008*\"있어\")]\n"
     ]
    }
   ],
   "source": [
    "# LDA\n",
    "np.random.seed(1)\n",
    "lda = models.ldamodel.LdaModel(X_lda, id2word=lda_dict, num_topics=ntopics)\n",
    "pprint(lda.print_topics(num_topics=ntopics, num_words=nwords))"
   ]
  },
  {
   "cell_type": "markdown",
   "metadata": {},
   "source": [
    "<br>\n",
    "* Probability 0.3 수준에서 라벨링 테이블 작성"
   ]
  },
  {
   "cell_type": "code",
   "execution_count": 19,
   "metadata": {
    "collapsed": false
   },
   "outputs": [],
   "source": [
    "dfRes = pd.DataFrame(corpus, columns=['text'])\n",
    "for i in range(10):\n",
    "    dfRes[i] = 0; \n",
    "dfRes['unknown'] = 0\n",
    "    \n",
    "for i in range(len(tf_ps)):\n",
    "    temp = get_labels(lda, 0.3, tf_ps[i])\n",
    "    if temp != None:\n",
    "        idx = [x[0] for x in temp]\n",
    "        dfRes.set_value(i, idx, 1)\n",
    "    elif temp == None:\n",
    "        dfRes.set_value(i, ['unknown'], 1)"
   ]
  },
  {
   "cell_type": "code",
   "execution_count": 20,
   "metadata": {
    "collapsed": false,
    "scrolled": false
   },
   "outputs": [
    {
     "name": "stdout",
     "output_type": "stream",
     "text": [
      "label(0): 432\n",
      "label(1): 376\n",
      "label(2): 434\n",
      "label(3): 359\n",
      "label(4): 345\n",
      "label(5): 262\n",
      "label(6): 235\n",
      "label(7): 139\n",
      "label(8): 477\n",
      "label(9): 276\n",
      "unknown: 237\n"
     ]
    }
   ],
   "source": [
    "# number of reviews for each label\n",
    "for i in range(10):\n",
    "    print('label({}): {}'.format(i, len(dfRes[(dfRes[i] == 1)])))\n",
    "print('unknown: {}'.format(len(dfRes[(dfRes['unknown'] == 1)])))"
   ]
  },
  {
   "cell_type": "markdown",
   "metadata": {},
   "source": [
    "<br>\n",
    "* <b>라벨 0:</b> (빠르 + 배송 + 늘 + 제품 + 입니) "
   ]
  },
  {
   "cell_type": "code",
   "execution_count": 21,
   "metadata": {
    "collapsed": false,
    "scrolled": true
   },
   "outputs": [
    {
     "data": {
      "text/html": [
       "<div>\n",
       "<style>\n",
       "    .dataframe thead tr:only-child th {\n",
       "        text-align: right;\n",
       "    }\n",
       "\n",
       "    .dataframe thead th {\n",
       "        text-align: left;\n",
       "    }\n",
       "\n",
       "    .dataframe tbody tr th {\n",
       "        vertical-align: top;\n",
       "    }\n",
       "</style>\n",
       "<table border=\"1\" class=\"dataframe\">\n",
       "  <thead>\n",
       "    <tr style=\"text-align: right;\">\n",
       "      <th></th>\n",
       "      <th>text</th>\n",
       "      <th>0</th>\n",
       "      <th>1</th>\n",
       "      <th>2</th>\n",
       "      <th>3</th>\n",
       "      <th>4</th>\n",
       "      <th>5</th>\n",
       "      <th>6</th>\n",
       "      <th>7</th>\n",
       "      <th>8</th>\n",
       "      <th>9</th>\n",
       "      <th>unknown</th>\n",
       "    </tr>\n",
       "  </thead>\n",
       "  <tbody>\n",
       "    <tr>\n",
       "      <th>8</th>\n",
       "      <td>항상 쓰던 제품입니다 좋아요~~</td>\n",
       "      <td>1</td>\n",
       "      <td>0</td>\n",
       "      <td>0</td>\n",
       "      <td>0</td>\n",
       "      <td>0</td>\n",
       "      <td>0</td>\n",
       "      <td>0</td>\n",
       "      <td>0</td>\n",
       "      <td>0</td>\n",
       "      <td>0</td>\n",
       "      <td>0</td>\n",
       "    </tr>\n",
       "    <tr>\n",
       "      <th>9</th>\n",
       "      <td>배송도 빠르고 좋으네영</td>\n",
       "      <td>1</td>\n",
       "      <td>0</td>\n",
       "      <td>0</td>\n",
       "      <td>0</td>\n",
       "      <td>0</td>\n",
       "      <td>0</td>\n",
       "      <td>0</td>\n",
       "      <td>0</td>\n",
       "      <td>0</td>\n",
       "      <td>0</td>\n",
       "      <td>0</td>\n",
       "    </tr>\n",
       "    <tr>\n",
       "      <th>15</th>\n",
       "      <td>촉촉해요~~!!</td>\n",
       "      <td>1</td>\n",
       "      <td>0</td>\n",
       "      <td>0</td>\n",
       "      <td>0</td>\n",
       "      <td>0</td>\n",
       "      <td>0</td>\n",
       "      <td>0</td>\n",
       "      <td>0</td>\n",
       "      <td>0</td>\n",
       "      <td>0</td>\n",
       "      <td>0</td>\n",
       "    </tr>\n",
       "    <tr>\n",
       "      <th>29</th>\n",
       "      <td>늘 쓰던거라 믿고 구매합니다</td>\n",
       "      <td>1</td>\n",
       "      <td>0</td>\n",
       "      <td>0</td>\n",
       "      <td>0</td>\n",
       "      <td>0</td>\n",
       "      <td>0</td>\n",
       "      <td>0</td>\n",
       "      <td>0</td>\n",
       "      <td>0</td>\n",
       "      <td>0</td>\n",
       "      <td>0</td>\n",
       "    </tr>\n",
       "    <tr>\n",
       "      <th>47</th>\n",
       "      <td>매번 쓰는 인생 크림입니다.  저렴하게 잘샀어요.  배송도 빠르고 감사합니다.</td>\n",
       "      <td>1</td>\n",
       "      <td>0</td>\n",
       "      <td>0</td>\n",
       "      <td>0</td>\n",
       "      <td>0</td>\n",
       "      <td>0</td>\n",
       "      <td>0</td>\n",
       "      <td>0</td>\n",
       "      <td>0</td>\n",
       "      <td>0</td>\n",
       "      <td>0</td>\n",
       "    </tr>\n",
       "    <tr>\n",
       "      <th>49</th>\n",
       "      <td>이제품만씁니다</td>\n",
       "      <td>1</td>\n",
       "      <td>0</td>\n",
       "      <td>0</td>\n",
       "      <td>0</td>\n",
       "      <td>0</td>\n",
       "      <td>0</td>\n",
       "      <td>0</td>\n",
       "      <td>0</td>\n",
       "      <td>0</td>\n",
       "      <td>0</td>\n",
       "      <td>0</td>\n",
       "    </tr>\n",
       "    <tr>\n",
       "      <th>51</th>\n",
       "      <td>너무나 유명한 피지오겔 제품입니다. 피부 건조증을 한번에 해결합니다.</td>\n",
       "      <td>1</td>\n",
       "      <td>0</td>\n",
       "      <td>0</td>\n",
       "      <td>0</td>\n",
       "      <td>0</td>\n",
       "      <td>0</td>\n",
       "      <td>0</td>\n",
       "      <td>0</td>\n",
       "      <td>0</td>\n",
       "      <td>0</td>\n",
       "      <td>0</td>\n",
       "    </tr>\n",
       "  </tbody>\n",
       "</table>\n",
       "</div>"
      ],
      "text/plain": [
       "                                           text  0  1  2  3  4  5  6  7  8  9  \\\n",
       "8                             항상 쓰던 제품입니다 좋아요~~  1  0  0  0  0  0  0  0  0  0   \n",
       "9                                  배송도 빠르고 좋으네영  1  0  0  0  0  0  0  0  0  0   \n",
       "15                                     촉촉해요~~!!  1  0  0  0  0  0  0  0  0  0   \n",
       "29                              늘 쓰던거라 믿고 구매합니다  1  0  0  0  0  0  0  0  0  0   \n",
       "47  매번 쓰는 인생 크림입니다.  저렴하게 잘샀어요.  배송도 빠르고 감사합니다.  1  0  0  0  0  0  0  0  0  0   \n",
       "49                                      이제품만씁니다  1  0  0  0  0  0  0  0  0  0   \n",
       "51       너무나 유명한 피지오겔 제품입니다. 피부 건조증을 한번에 해결합니다.  1  0  0  0  0  0  0  0  0  0   \n",
       "\n",
       "    unknown  \n",
       "8         0  \n",
       "9         0  \n",
       "15        0  \n",
       "29        0  \n",
       "47        0  \n",
       "49        0  \n",
       "51        0  "
      ]
     },
     "execution_count": 21,
     "metadata": {},
     "output_type": "execute_result"
    }
   ],
   "source": [
    "dfRes[dfRes[0] == 1].head(7)"
   ]
  },
  {
   "cell_type": "markdown",
   "metadata": {},
   "source": [
    "<br>\n",
    "* <b>라벨 2:</b> (아기 + 애기 + 발라 + 우리 + 배송) "
   ]
  },
  {
   "cell_type": "code",
   "execution_count": 22,
   "metadata": {
    "collapsed": false
   },
   "outputs": [
    {
     "data": {
      "text/html": [
       "<div>\n",
       "<style>\n",
       "    .dataframe thead tr:only-child th {\n",
       "        text-align: right;\n",
       "    }\n",
       "\n",
       "    .dataframe thead th {\n",
       "        text-align: left;\n",
       "    }\n",
       "\n",
       "    .dataframe tbody tr th {\n",
       "        vertical-align: top;\n",
       "    }\n",
       "</style>\n",
       "<table border=\"1\" class=\"dataframe\">\n",
       "  <thead>\n",
       "    <tr style=\"text-align: right;\">\n",
       "      <th></th>\n",
       "      <th>text</th>\n",
       "      <th>0</th>\n",
       "      <th>1</th>\n",
       "      <th>2</th>\n",
       "      <th>3</th>\n",
       "      <th>4</th>\n",
       "      <th>5</th>\n",
       "      <th>6</th>\n",
       "      <th>7</th>\n",
       "      <th>8</th>\n",
       "      <th>9</th>\n",
       "      <th>unknown</th>\n",
       "    </tr>\n",
       "  </thead>\n",
       "  <tbody>\n",
       "    <tr>\n",
       "      <th>14</th>\n",
       "      <td>좋아요 여름엔 좀 끈적거러요^^</td>\n",
       "      <td>0</td>\n",
       "      <td>1</td>\n",
       "      <td>0</td>\n",
       "      <td>0</td>\n",
       "      <td>0</td>\n",
       "      <td>0</td>\n",
       "      <td>0</td>\n",
       "      <td>0</td>\n",
       "      <td>0</td>\n",
       "      <td>0</td>\n",
       "      <td>0</td>\n",
       "    </tr>\n",
       "    <tr>\n",
       "      <th>16</th>\n",
       "      <td>계속 구매해서 쓰고 있습니다. 이만한 수분크림은 본적이 없어요~</td>\n",
       "      <td>0</td>\n",
       "      <td>1</td>\n",
       "      <td>0</td>\n",
       "      <td>0</td>\n",
       "      <td>0</td>\n",
       "      <td>0</td>\n",
       "      <td>0</td>\n",
       "      <td>0</td>\n",
       "      <td>0</td>\n",
       "      <td>0</td>\n",
       "      <td>0</td>\n",
       "    </tr>\n",
       "    <tr>\n",
       "      <th>21</th>\n",
       "      <td>초1아들이 땀이 많아 땀띠가심해서, 병원에서 보습제 많이 발라주라해서 구입했어요. ...</td>\n",
       "      <td>0</td>\n",
       "      <td>1</td>\n",
       "      <td>0</td>\n",
       "      <td>0</td>\n",
       "      <td>0</td>\n",
       "      <td>0</td>\n",
       "      <td>0</td>\n",
       "      <td>0</td>\n",
       "      <td>0</td>\n",
       "      <td>0</td>\n",
       "      <td>0</td>\n",
       "    </tr>\n",
       "    <tr>\n",
       "      <th>26</th>\n",
       "      <td>첫째부터 둘째까지 어린아이를 위해 여름에도 그름만 사용하네요  \\n끈적임없고 흠수 ...</td>\n",
       "      <td>0</td>\n",
       "      <td>1</td>\n",
       "      <td>0</td>\n",
       "      <td>0</td>\n",
       "      <td>0</td>\n",
       "      <td>0</td>\n",
       "      <td>0</td>\n",
       "      <td>0</td>\n",
       "      <td>0</td>\n",
       "      <td>0</td>\n",
       "      <td>0</td>\n",
       "    </tr>\n",
       "    <tr>\n",
       "      <th>37</th>\n",
       "      <td>워낙 유명해서\\n계속 쓰고 있는 제품입니다\\n제가 기초를 바꾸면\\n트러블이 나는데\\...</td>\n",
       "      <td>0</td>\n",
       "      <td>1</td>\n",
       "      <td>0</td>\n",
       "      <td>0</td>\n",
       "      <td>0</td>\n",
       "      <td>0</td>\n",
       "      <td>1</td>\n",
       "      <td>0</td>\n",
       "      <td>0</td>\n",
       "      <td>0</td>\n",
       "      <td>0</td>\n",
       "    </tr>\n",
       "    <tr>\n",
       "      <th>40</th>\n",
       "      <td>굿궇\\n\\n항상써요^^</td>\n",
       "      <td>0</td>\n",
       "      <td>1</td>\n",
       "      <td>0</td>\n",
       "      <td>0</td>\n",
       "      <td>0</td>\n",
       "      <td>0</td>\n",
       "      <td>0</td>\n",
       "      <td>0</td>\n",
       "      <td>0</td>\n",
       "      <td>0</td>\n",
       "      <td>0</td>\n",
       "    </tr>\n",
       "    <tr>\n",
       "      <th>41</th>\n",
       "      <td>아기발라주려고사봤어여 그런데 다른제품쓰느라 이걸 제가썼더니\\n제 타입은 매우 건조한...</td>\n",
       "      <td>0</td>\n",
       "      <td>1</td>\n",
       "      <td>1</td>\n",
       "      <td>0</td>\n",
       "      <td>0</td>\n",
       "      <td>0</td>\n",
       "      <td>0</td>\n",
       "      <td>0</td>\n",
       "      <td>0</td>\n",
       "      <td>0</td>\n",
       "      <td>0</td>\n",
       "    </tr>\n",
       "  </tbody>\n",
       "</table>\n",
       "</div>"
      ],
      "text/plain": [
       "                                                 text  0  1  2  3  4  5  6  7  \\\n",
       "14                                  좋아요 여름엔 좀 끈적거러요^^  0  1  0  0  0  0  0  0   \n",
       "16                계속 구매해서 쓰고 있습니다. 이만한 수분크림은 본적이 없어요~  0  1  0  0  0  0  0  0   \n",
       "21  초1아들이 땀이 많아 땀띠가심해서, 병원에서 보습제 많이 발라주라해서 구입했어요. ...  0  1  0  0  0  0  0  0   \n",
       "26  첫째부터 둘째까지 어린아이를 위해 여름에도 그름만 사용하네요  \\n끈적임없고 흠수 ...  0  1  0  0  0  0  0  0   \n",
       "37  워낙 유명해서\\n계속 쓰고 있는 제품입니다\\n제가 기초를 바꾸면\\n트러블이 나는데\\...  0  1  0  0  0  0  1  0   \n",
       "40                                       굿궇\\n\\n항상써요^^  0  1  0  0  0  0  0  0   \n",
       "41  아기발라주려고사봤어여 그런데 다른제품쓰느라 이걸 제가썼더니\\n제 타입은 매우 건조한...  0  1  1  0  0  0  0  0   \n",
       "\n",
       "    8  9  unknown  \n",
       "14  0  0        0  \n",
       "16  0  0        0  \n",
       "21  0  0        0  \n",
       "26  0  0        0  \n",
       "37  0  0        0  \n",
       "40  0  0        0  \n",
       "41  0  0        0  "
      ]
     },
     "execution_count": 22,
     "metadata": {},
     "output_type": "execute_result"
    }
   ],
   "source": [
    "dfRes[dfRes[1] == 1].head(7)"
   ]
  },
  {
   "cell_type": "markdown",
   "metadata": {},
   "source": [
    "<br>\n",
    "* <b>라벨 3:</b> (저렴 + 하게 + 싸게 + 배송 + 빠르) "
   ]
  },
  {
   "cell_type": "code",
   "execution_count": 23,
   "metadata": {
    "collapsed": false,
    "scrolled": false
   },
   "outputs": [
    {
     "data": {
      "text/html": [
       "<div>\n",
       "<style>\n",
       "    .dataframe thead tr:only-child th {\n",
       "        text-align: right;\n",
       "    }\n",
       "\n",
       "    .dataframe thead th {\n",
       "        text-align: left;\n",
       "    }\n",
       "\n",
       "    .dataframe tbody tr th {\n",
       "        vertical-align: top;\n",
       "    }\n",
       "</style>\n",
       "<table border=\"1\" class=\"dataframe\">\n",
       "  <thead>\n",
       "    <tr style=\"text-align: right;\">\n",
       "      <th></th>\n",
       "      <th>text</th>\n",
       "      <th>0</th>\n",
       "      <th>1</th>\n",
       "      <th>2</th>\n",
       "      <th>3</th>\n",
       "      <th>4</th>\n",
       "      <th>5</th>\n",
       "      <th>6</th>\n",
       "      <th>7</th>\n",
       "      <th>8</th>\n",
       "      <th>9</th>\n",
       "      <th>unknown</th>\n",
       "    </tr>\n",
       "  </thead>\n",
       "  <tbody>\n",
       "    <tr>\n",
       "      <th>0</th>\n",
       "      <td>매번 사용하는 제품인데 저렴하게 잘 삿습니당</td>\n",
       "      <td>0</td>\n",
       "      <td>0</td>\n",
       "      <td>0</td>\n",
       "      <td>1</td>\n",
       "      <td>0</td>\n",
       "      <td>0</td>\n",
       "      <td>0</td>\n",
       "      <td>0</td>\n",
       "      <td>0</td>\n",
       "      <td>0</td>\n",
       "      <td>0</td>\n",
       "    </tr>\n",
       "    <tr>\n",
       "      <th>7</th>\n",
       "      <td>피지오겔~7년째사용중~~</td>\n",
       "      <td>0</td>\n",
       "      <td>0</td>\n",
       "      <td>0</td>\n",
       "      <td>1</td>\n",
       "      <td>0</td>\n",
       "      <td>0</td>\n",
       "      <td>0</td>\n",
       "      <td>0</td>\n",
       "      <td>0</td>\n",
       "      <td>0</td>\n",
       "      <td>0</td>\n",
       "    </tr>\n",
       "    <tr>\n",
       "      <th>19</th>\n",
       "      <td>배송 및 상품 만족스럽습니다.</td>\n",
       "      <td>0</td>\n",
       "      <td>0</td>\n",
       "      <td>0</td>\n",
       "      <td>1</td>\n",
       "      <td>0</td>\n",
       "      <td>0</td>\n",
       "      <td>1</td>\n",
       "      <td>0</td>\n",
       "      <td>0</td>\n",
       "      <td>0</td>\n",
       "      <td>0</td>\n",
       "    </tr>\n",
       "    <tr>\n",
       "      <th>24</th>\n",
       "      <td>늘 쓰는 제품이에요. 쿠팡에서 저렴하게 잘 구입했어요.</td>\n",
       "      <td>0</td>\n",
       "      <td>0</td>\n",
       "      <td>0</td>\n",
       "      <td>1</td>\n",
       "      <td>0</td>\n",
       "      <td>0</td>\n",
       "      <td>0</td>\n",
       "      <td>0</td>\n",
       "      <td>0</td>\n",
       "      <td>0</td>\n",
       "      <td>0</td>\n",
       "    </tr>\n",
       "    <tr>\n",
       "      <th>53</th>\n",
       "      <td>많이 파세요</td>\n",
       "      <td>0</td>\n",
       "      <td>0</td>\n",
       "      <td>0</td>\n",
       "      <td>1</td>\n",
       "      <td>0</td>\n",
       "      <td>0</td>\n",
       "      <td>0</td>\n",
       "      <td>0</td>\n",
       "      <td>0</td>\n",
       "      <td>0</td>\n",
       "      <td>0</td>\n",
       "    </tr>\n",
       "    <tr>\n",
       "      <th>68</th>\n",
       "      <td>괜찮아요~0</td>\n",
       "      <td>0</td>\n",
       "      <td>0</td>\n",
       "      <td>0</td>\n",
       "      <td>1</td>\n",
       "      <td>0</td>\n",
       "      <td>0</td>\n",
       "      <td>0</td>\n",
       "      <td>0</td>\n",
       "      <td>0</td>\n",
       "      <td>0</td>\n",
       "      <td>0</td>\n",
       "    </tr>\n",
       "    <tr>\n",
       "      <th>83</th>\n",
       "      <td>늘 쓰던거라 구매합니다\\n하나만써도 크게 무리가 없어요\\n가격도 좋은 편이었어요</td>\n",
       "      <td>0</td>\n",
       "      <td>0</td>\n",
       "      <td>0</td>\n",
       "      <td>1</td>\n",
       "      <td>0</td>\n",
       "      <td>0</td>\n",
       "      <td>0</td>\n",
       "      <td>0</td>\n",
       "      <td>0</td>\n",
       "      <td>0</td>\n",
       "      <td>0</td>\n",
       "    </tr>\n",
       "  </tbody>\n",
       "</table>\n",
       "</div>"
      ],
      "text/plain": [
       "                                            text  0  1  2  3  4  5  6  7  8  \\\n",
       "0                       매번 사용하는 제품인데 저렴하게 잘 삿습니당  0  0  0  1  0  0  0  0  0   \n",
       "7                                  피지오겔~7년째사용중~~  0  0  0  1  0  0  0  0  0   \n",
       "19                              배송 및 상품 만족스럽습니다.  0  0  0  1  0  0  1  0  0   \n",
       "24                늘 쓰는 제품이에요. 쿠팡에서 저렴하게 잘 구입했어요.  0  0  0  1  0  0  0  0  0   \n",
       "53                                        많이 파세요  0  0  0  1  0  0  0  0  0   \n",
       "68                                        괜찮아요~0  0  0  0  1  0  0  0  0  0   \n",
       "83  늘 쓰던거라 구매합니다\\n하나만써도 크게 무리가 없어요\\n가격도 좋은 편이었어요  0  0  0  1  0  0  0  0  0   \n",
       "\n",
       "    9  unknown  \n",
       "0   0        0  \n",
       "7   0        0  \n",
       "19  0        0  \n",
       "24  0        0  \n",
       "53  0        0  \n",
       "68  0        0  \n",
       "83  0        0  "
      ]
     },
     "execution_count": 23,
     "metadata": {},
     "output_type": "execute_result"
    }
   ],
   "source": [
    "dfRes[dfRes[3] == 1].head(7)"
   ]
  },
  {
   "cell_type": "markdown",
   "metadata": {},
   "source": [
    "<br>\n",
    "* <b>라벨이 부여되지 않은 리뷰</b>"
   ]
  },
  {
   "cell_type": "code",
   "execution_count": 24,
   "metadata": {
    "collapsed": false
   },
   "outputs": [
    {
     "data": {
      "text/html": [
       "<div>\n",
       "<style>\n",
       "    .dataframe thead tr:only-child th {\n",
       "        text-align: right;\n",
       "    }\n",
       "\n",
       "    .dataframe thead th {\n",
       "        text-align: left;\n",
       "    }\n",
       "\n",
       "    .dataframe tbody tr th {\n",
       "        vertical-align: top;\n",
       "    }\n",
       "</style>\n",
       "<table border=\"1\" class=\"dataframe\">\n",
       "  <thead>\n",
       "    <tr style=\"text-align: right;\">\n",
       "      <th></th>\n",
       "      <th>text</th>\n",
       "      <th>0</th>\n",
       "      <th>1</th>\n",
       "      <th>2</th>\n",
       "      <th>3</th>\n",
       "      <th>4</th>\n",
       "      <th>5</th>\n",
       "      <th>6</th>\n",
       "      <th>7</th>\n",
       "      <th>8</th>\n",
       "      <th>9</th>\n",
       "      <th>unknown</th>\n",
       "    </tr>\n",
       "  </thead>\n",
       "  <tbody>\n",
       "    <tr>\n",
       "      <th>10</th>\n",
       "      <td>좋네요</td>\n",
       "      <td>0</td>\n",
       "      <td>0</td>\n",
       "      <td>0</td>\n",
       "      <td>0</td>\n",
       "      <td>0</td>\n",
       "      <td>0</td>\n",
       "      <td>0</td>\n",
       "      <td>0</td>\n",
       "      <td>0</td>\n",
       "      <td>0</td>\n",
       "      <td>1</td>\n",
       "    </tr>\n",
       "    <tr>\n",
       "      <th>13</th>\n",
       "      <td>좋습니다</td>\n",
       "      <td>0</td>\n",
       "      <td>0</td>\n",
       "      <td>0</td>\n",
       "      <td>0</td>\n",
       "      <td>0</td>\n",
       "      <td>0</td>\n",
       "      <td>0</td>\n",
       "      <td>0</td>\n",
       "      <td>0</td>\n",
       "      <td>0</td>\n",
       "      <td>1</td>\n",
       "    </tr>\n",
       "    <tr>\n",
       "      <th>20</th>\n",
       "      <td>좋아요</td>\n",
       "      <td>0</td>\n",
       "      <td>0</td>\n",
       "      <td>0</td>\n",
       "      <td>0</td>\n",
       "      <td>0</td>\n",
       "      <td>0</td>\n",
       "      <td>0</td>\n",
       "      <td>0</td>\n",
       "      <td>0</td>\n",
       "      <td>0</td>\n",
       "      <td>1</td>\n",
       "    </tr>\n",
       "    <tr>\n",
       "      <th>43</th>\n",
       "      <td>지인 추천으로 쓰게된 화장품이에용\\n\\n아직 몇 번 사용하지 않아 잘 모르지만\\n\\...</td>\n",
       "      <td>0</td>\n",
       "      <td>0</td>\n",
       "      <td>0</td>\n",
       "      <td>0</td>\n",
       "      <td>0</td>\n",
       "      <td>0</td>\n",
       "      <td>0</td>\n",
       "      <td>0</td>\n",
       "      <td>0</td>\n",
       "      <td>0</td>\n",
       "      <td>1</td>\n",
       "    </tr>\n",
       "    <tr>\n",
       "      <th>56</th>\n",
       "      <td>태열에 침독에 약한 아토피기가 있는아기라 크림은 거의 정류별로 다써봤어요\\n이제 거...</td>\n",
       "      <td>0</td>\n",
       "      <td>0</td>\n",
       "      <td>0</td>\n",
       "      <td>0</td>\n",
       "      <td>0</td>\n",
       "      <td>0</td>\n",
       "      <td>0</td>\n",
       "      <td>0</td>\n",
       "      <td>0</td>\n",
       "      <td>0</td>\n",
       "      <td>1</td>\n",
       "    </tr>\n",
       "    <tr>\n",
       "      <th>62</th>\n",
       "      <td>좋아요</td>\n",
       "      <td>0</td>\n",
       "      <td>0</td>\n",
       "      <td>0</td>\n",
       "      <td>0</td>\n",
       "      <td>0</td>\n",
       "      <td>0</td>\n",
       "      <td>0</td>\n",
       "      <td>0</td>\n",
       "      <td>0</td>\n",
       "      <td>0</td>\n",
       "      <td>1</td>\n",
       "    </tr>\n",
       "    <tr>\n",
       "      <th>72</th>\n",
       "      <td>좋아요~~^^</td>\n",
       "      <td>0</td>\n",
       "      <td>0</td>\n",
       "      <td>0</td>\n",
       "      <td>0</td>\n",
       "      <td>0</td>\n",
       "      <td>0</td>\n",
       "      <td>0</td>\n",
       "      <td>0</td>\n",
       "      <td>0</td>\n",
       "      <td>0</td>\n",
       "      <td>1</td>\n",
       "    </tr>\n",
       "  </tbody>\n",
       "</table>\n",
       "</div>"
      ],
      "text/plain": [
       "                                                 text  0  1  2  3  4  5  6  7  \\\n",
       "10                                                좋네요  0  0  0  0  0  0  0  0   \n",
       "13                                               좋습니다  0  0  0  0  0  0  0  0   \n",
       "20                                                좋아요  0  0  0  0  0  0  0  0   \n",
       "43  지인 추천으로 쓰게된 화장품이에용\\n\\n아직 몇 번 사용하지 않아 잘 모르지만\\n\\...  0  0  0  0  0  0  0  0   \n",
       "56  태열에 침독에 약한 아토피기가 있는아기라 크림은 거의 정류별로 다써봤어요\\n이제 거...  0  0  0  0  0  0  0  0   \n",
       "62                                                좋아요  0  0  0  0  0  0  0  0   \n",
       "72                                            좋아요~~^^  0  0  0  0  0  0  0  0   \n",
       "\n",
       "    8  9  unknown  \n",
       "10  0  0        1  \n",
       "13  0  0        1  \n",
       "20  0  0        1  \n",
       "43  0  0        1  \n",
       "56  0  0        1  \n",
       "62  0  0        1  \n",
       "72  0  0        1  "
      ]
     },
     "execution_count": 24,
     "metadata": {},
     "output_type": "execute_result"
    }
   ],
   "source": [
    "dfRes[dfRes['unknown'] == 1].head(7)"
   ]
  },
  {
   "cell_type": "markdown",
   "metadata": {},
   "source": [
    "### LDA 성능\n",
    "* Treshold 수준을 조정함에 따라 중복을 허용하는 클러스터링 가능\n",
    "* Document를 주제 단위로 클러스터링 가능 \n",
    "* 비슷한 주제어를 가진 리뷰들끼리 클러스터링하나 완벽하지 않음"
   ]
  },
  {
   "cell_type": "markdown",
   "metadata": {},
   "source": [
    "<br>\n",
    "# Doc2Vec\n",
    "Gensim 패키지의 Doc2Vec Embedding을 활용한 문서 클러스터링  \n",
    "Word2Vec의 자연어 Embbeding을 Paragraph 단위로 적용하여 적은 차원으로 문서간의 관계를 타나냄"
   ]
  },
  {
   "cell_type": "markdown",
   "metadata": {},
   "source": [
    "<div style=\"float:left; width: 50%;\">\n",
    "<img src=\"../image/d2v_model1.png\" alt=\"Drawing\" style=\"width: 500px;\"/>\n",
    "</div>\n",
    "\n",
    "<div style=\"float:left; width: 50%;\">\n",
    "<img src=\"../image/d2v_model2.png\" alt=\"Drawing\" style=\"width: 500px;\"/>\n",
    "</div>"
   ]
  },
  {
   "cell_type": "markdown",
   "metadata": {},
   "source": [
    "<p style=\"font-size:12px; text-align:center;\">[2] Doc2Vec Model</p>"
   ]
  },
  {
   "cell_type": "code",
   "execution_count": 25,
   "metadata": {
    "collapsed": false
   },
   "outputs": [],
   "source": [
    "d2v_docs = [nav_tokenizer(x) for x in corpus]\n",
    "d2v_docs = [remove_stopwords(x, (stopwords + mask1)) for x in d2v_docs]"
   ]
  },
  {
   "cell_type": "code",
   "execution_count": 26,
   "metadata": {
    "collapsed": false
   },
   "outputs": [],
   "source": [
    "tagged_d2v_docs = [TaggedDocument(doc, [idx]) for idx, doc in enumerate(d2v_docs)]"
   ]
  },
  {
   "cell_type": "code",
   "execution_count": 27,
   "metadata": {
    "collapsed": false
   },
   "outputs": [],
   "source": [
    "d2v_model = doc2vec.Doc2Vec(size=300, window=5, alpha=0.025, min_alpha=0.025, seed=0)\n",
    "d2v_model.build_vocab(tagged_d2v_docs)\n",
    "d2v_model.train_lbls = False # do not train labels of words\n",
    "d2v_model.train_words = True # only train relations among words"
   ]
  },
  {
   "cell_type": "code",
   "execution_count": 28,
   "metadata": {
    "collapsed": false
   },
   "outputs": [],
   "source": [
    "for epoch in range(10):\n",
    "    d2v_model.train(tagged_d2v_docs, total_examples=len(d2v_docs), epochs=epoch)\n",
    "    d2v_model.alpha -= 0.002 # decrease the learning rate\n",
    "    d2v_model.min_alpha = d2v_model.alpha # fix the learning rate, no decay"
   ]
  },
  {
   "cell_type": "markdown",
   "metadata": {},
   "source": [
    "<br>\n",
    "* 유사 어휘 탐색"
   ]
  },
  {
   "cell_type": "code",
   "execution_count": 29,
   "metadata": {
    "collapsed": false
   },
   "outputs": [
    {
     "name": "stdout",
     "output_type": "stream",
     "text": [
      "[(늘, 0.947917103767395),\n",
      " (믿고, 0.931358814239502),\n",
      " (지오, 0.8832617402076721),\n",
      " (역시, 0.8622429370880127),\n",
      " (쓰는, 0.850908100605011),\n",
      " (사는, 0.8503872752189636),\n",
      " (하려, 0.8430297374725342),\n",
      " (유명한, 0.8286793828010559),\n",
      " (사용하는, 0.815813422203064),\n",
      " (매번, 0.8107916712760925)]\n"
     ]
    }
   ],
   "source": [
    "pprint(d2v_model.most_similar(u'항상'))"
   ]
  },
  {
   "cell_type": "code",
   "execution_count": 30,
   "metadata": {
    "collapsed": false,
    "scrolled": true
   },
   "outputs": [
    {
     "data": {
      "text/plain": [
       "895"
      ]
     },
     "execution_count": 30,
     "metadata": {},
     "output_type": "execute_result"
    }
   ],
   "source": [
    "len(d2v_model.wv.vocab)"
   ]
  },
  {
   "cell_type": "code",
   "execution_count": 31,
   "metadata": {
    "collapsed": true
   },
   "outputs": [],
   "source": [
    "X_d2v = [d2v_model.infer_vector(x.words) for x in tagged_d2v_docs]"
   ]
  },
  {
   "cell_type": "markdown",
   "metadata": {},
   "source": [
    "<br>\n",
    "* 유사 문장 탐색"
   ]
  },
  {
   "cell_type": "code",
   "execution_count": 32,
   "metadata": {
    "collapsed": false
   },
   "outputs": [
    {
     "name": "stdout",
     "output_type": "stream",
     "text": [
      "review: 배송빨라 좋네요\n",
      "\n",
      "역시 촉촉해요 (0.974999)\n",
      "촉촉해요~ 가격이 좀 더 착했음 바람이~^^ (0.972537)\n",
      "너무 촉촉해요 좋아요~ (0.971971)\n",
      "역시 촉촉!!\n",
      "선물하려고 샀습니다 (0.970107)\n",
      "굿굿 촉촉해요 (0.969885)\n",
      "말로만듣다가 진짜좋네요 (0.969052)\n",
      "항상쓰던거라\n",
      "촉촉해요 (0.968999)\n",
      "엄청 촉촉해요..애들도.. 어른도 써요^^ (0.968497)\n",
      "촉촉하니 너무좋아요~ (0.968176)\n",
      "과연 소문대로 촉촉하고 좋아요 (0.965846)\n"
     ]
    }
   ],
   "source": [
    "idx = 5\n",
    "pprint('review: '+ corpus[idx])\n",
    "print(\"\")\n",
    "for x in d2v_model.docvecs.most_similar(positive=[X_d2v[idx]]):\n",
    "    pprint(corpus[x[0]] + ' (%3f)' % x[1])"
   ]
  },
  {
   "cell_type": "markdown",
   "metadata": {},
   "source": [
    "> 배송 관련 리뷰에 근접하지 않은 인접 문장들이 출력"
   ]
  },
  {
   "cell_type": "code",
   "execution_count": 33,
   "metadata": {
    "collapsed": false
   },
   "outputs": [
    {
     "name": "stdout",
     "output_type": "stream",
     "text": [
      "review: 항상 이용합니다. 너무 좋아요\n",
      "\n",
      "촉촉하고 너무좋아요 보습짱 (0.760921)\n",
      "너무 촉촉하고 좋아요 쵝오 (0.756269)\n",
      "피부도 촉촉하고 건조해진 요즘 쓰기 딱 좋아요 (0.755471)\n",
      "로션보다 좋은것같아요\n",
      "촉촉하고 좋아요 (0.755394)\n",
      "건조할때 최고예요 (0.755156)\n",
      "역쉬 겨울철엔 피지오겔..\n",
      "촉촉하고 좋아요 (0.754173)\n",
      "촉촉하고 맘에 들어요 \n",
      "요즘 잘쓰고 있어요^^ (0.752125)\n",
      "촉촉하고 부드러워요. (0.751897)\n",
      "촉촉하고 보습좋아요 (0.751273)\n",
      "피지오겔 크림 순하고촉촉해서 너무 좋아요! (0.750313)\n"
     ]
    }
   ],
   "source": [
    "idx = 121\n",
    "pprint('review: '+ corpus[idx])\n",
    "print(\"\")\n",
    "for x in d2v_model.docvecs.most_similar(positive=[X_d2v[idx]]):\n",
    "    pprint(corpus[x[0]] + ' (%3f)' % x[1])"
   ]
  },
  {
   "cell_type": "markdown",
   "metadata": {},
   "source": [
    "> 항상 쓰는 제품 관련 리뷰는 비교적 잘 모임"
   ]
  },
  {
   "cell_type": "markdown",
   "metadata": {},
   "source": [
    "* ### k-means w/ Doc2Vec"
   ]
  },
  {
   "cell_type": "markdown",
   "metadata": {},
   "source": [
    "Doc2Vec 로 변환된 Corpus로 k-means 알고리즘 적용"
   ]
  },
  {
   "cell_type": "code",
   "execution_count": 34,
   "metadata": {
    "collapsed": true
   },
   "outputs": [],
   "source": [
    "cnum = 10"
   ]
  },
  {
   "cell_type": "markdown",
   "metadata": {},
   "source": [
    "<br>\n",
    "Centroid norm으로 cosine_distance 적용"
   ]
  },
  {
   "cell_type": "code",
   "execution_count": 35,
   "metadata": {
    "collapsed": false
   },
   "outputs": [],
   "source": [
    "from sklearn.metrics.pairwise import cosine_distances\n",
    "from sklearn.cluster import k_means_ \n",
    "\n",
    "def euc2cos_distance(X, Y=None, Y_norm_squared=None, squared=False):\n",
    "    return cosine_distances(X,Y)\n",
    "\n",
    "k_means_.euclidean_distances = euc2cos_distance "
   ]
  },
  {
   "cell_type": "code",
   "execution_count": 36,
   "metadata": {
    "collapsed": false
   },
   "outputs": [
    {
     "name": "stdout",
     "output_type": "stream",
     "text": [
      "Silhouette Coefficient: 0.108\n"
     ]
    }
   ],
   "source": [
    "km = KMeans(n_clusters=cnum, init='k-means++', max_iter=300, n_init=20, tol=0.0001)\n",
    "km.fit(X_d2v)\n",
    "print(\"Silhouette Coefficient: %0.3f\" % silhouette_score(X_d2v, km.labels_))"
   ]
  },
  {
   "cell_type": "code",
   "execution_count": 37,
   "metadata": {
    "collapsed": false
   },
   "outputs": [
    {
     "name": "stdout",
     "output_type": "stream",
     "text": [
      "label0: 659\n",
      "label1: 543\n",
      "label2: 47\n",
      "label3: 235\n",
      "label4: 569\n",
      "label5: 93\n",
      "label6: 1\n",
      "label7: 370\n",
      "label8: 479\n",
      "label9: 76\n"
     ]
    }
   ],
   "source": [
    "dfRes = pd.DataFrame(corpus, columns=['text'])\n",
    "dfRes['label'] = km.labels_\n",
    "\n",
    "for i in range(cnum):\n",
    "    print('label{}: {}'.format(i, len(dfRes[dfRes.label == i])))"
   ]
  },
  {
   "cell_type": "markdown",
   "metadata": {},
   "source": [
    "<br>\n",
    "클러스터별 상위 어휘 출력"
   ]
  },
  {
   "cell_type": "code",
   "execution_count": 38,
   "metadata": {
    "collapsed": true
   },
   "outputs": [],
   "source": [
    "# print top keywords\n",
    "def print_topwords(df, num, bar):\n",
    "    try:\n",
    "        temp_cor = df.text.values\n",
    "        temp_vec = TfidfVectorizer(tokenizer=nav_tokenizer, stop_words=stopwords + mask1)\n",
    "\n",
    "        temp_vec.fit(temp_cor)\n",
    "\n",
    "        temp = pd.DataFrame(temp_vec.vocabulary_.keys(), columns=['word'])\n",
    "        temp['idx'] = temp_vec.vocabulary_.values()\n",
    "        temp.sort_values(by='idx', inplace=True)\n",
    "        temp['count'] = temp_vec.transform(temp_cor).toarray().sum(axis=0)\n",
    "\n",
    "        topwords = temp.sort_values(['count'], ascending=False)[:num]    \n",
    "    \n",
    "        for i in range(num):\n",
    "            print(topwords['word'].values[i]),\n",
    "\n",
    "        if bar == True:\n",
    "            fig, ax = plt.subplots()\n",
    "            plt.bar(range(num), topwords['count'].values, align='center')\n",
    "            plt.xticks([x for x in range(num)], topwords['word'].values)\n",
    "            ax.set_xticklabels(ax.xaxis.get_majorticklabels(), rotation=90)\n",
    "            plt.tight_layout()\n",
    "            plt.show()\n",
    "        else:\n",
    "            pass\n",
    "    except:\n",
    "        pass"
   ]
  },
  {
   "cell_type": "code",
   "execution_count": 39,
   "metadata": {
    "collapsed": false
   },
   "outputs": [
    {
     "name": "stdout",
     "output_type": "stream",
     "text": [
      "cluster 0: 보습 아기 배송 촉촉하고 너무 \n",
      "cluster 1: 역시 제품 배송 보습 너무 \n",
      "cluster 2: 아기 발라 바르 사용 얼굴 \n",
      "cluster 3: 배송 제품 빠르 구매 상품 \n",
      "cluster 4: 보습 배송 너무 제품 바르 \n",
      "cluster 5: 제품 바르 느낌 얼굴 같아 \n",
      "cluster 6: 발라 로션 하루 구매 부분 \n",
      "cluster 7: 아기 보습 발라 제품 얼굴 \n",
      "cluster 8: 보습 제품 항상 배송 최고 \n",
      "cluster 9: 제품 바르 보습 같아 얼굴 \n"
     ]
    }
   ],
   "source": [
    "for i in range(cnum):\n",
    "    print('cluster {}:'.format(i)),\n",
    "    print_topwords(df=dfRes.loc[dfRes['label'] == i], num=5, bar=False)\n",
    "    print(\"\")"
   ]
  },
  {
   "cell_type": "markdown",
   "metadata": {},
   "source": [
    "<br>\n",
    "* ### Agglomerative Clustering w/ doc2vec"
   ]
  },
  {
   "cell_type": "code",
   "execution_count": 40,
   "metadata": {
    "collapsed": true
   },
   "outputs": [],
   "source": [
    "cnum = 10"
   ]
  },
  {
   "cell_type": "code",
   "execution_count": 41,
   "metadata": {
    "collapsed": false
   },
   "outputs": [
    {
     "name": "stdout",
     "output_type": "stream",
     "text": [
      "Silhouette Coefficient: -0.009\n"
     ]
    }
   ],
   "source": [
    "agg = AgglomerativeClustering(n_clusters=cnum, affinity='cosine', linkage='complete')\n",
    "agg.fit(X_d2v)\n",
    "print(\"Silhouette Coefficient: %0.3f\" % silhouette_score(X_d2v, agg.labels_))"
   ]
  },
  {
   "cell_type": "code",
   "execution_count": 42,
   "metadata": {
    "collapsed": false
   },
   "outputs": [
    {
     "name": "stdout",
     "output_type": "stream",
     "text": [
      "label 0: 135\n",
      "label 1: 161\n",
      "label 2: 1174\n",
      "label 3: 72\n",
      "label 4: 742\n",
      "label 5: 18\n",
      "label 6: 45\n",
      "label 7: 68\n",
      "label 8: 23\n",
      "label 9: 634\n"
     ]
    }
   ],
   "source": [
    "dfRes = pd.DataFrame(corpus, columns=['text'])\n",
    "dfRes['label'] = agg.labels_\n",
    "for i in range(len(dfRes.label.unique())):\n",
    "    print('label {}: {}'.format(i, len(dfRes.loc[dfRes['label'] == i])))"
   ]
  },
  {
   "cell_type": "code",
   "execution_count": 43,
   "metadata": {
    "collapsed": false,
    "scrolled": false
   },
   "outputs": [
    {
     "name": "stdout",
     "output_type": "stream",
     "text": [
      "cluster 0: 아기 발라 보습 냄새 얼굴 \n",
      "cluster 1: 보습 제품 쓰는 아기 촉촉하고 \n",
      "cluster 2: 보습 촉촉하고 배송 제품 너무 \n",
      "cluster 3: 배송 보습 바르 촉촉함 제품 \n",
      "cluster 4: 항상 배송 제품 역시 쓰는 \n",
      "cluster 5: 발라 않고 바르 아기 아이 \n",
      "cluster 6: 배송 빠르 받았 제품 로켓 \n",
      "cluster 7: 너무 빠르 배송 입니 보습 \n",
      "cluster 8: 제품 상품 배송 보습 년 \n",
      "cluster 9: 보습 아기 제품 구매 배송 \n"
     ]
    }
   ],
   "source": [
    "for i in range(cnum):\n",
    "    print('cluster {}:'.format(i)),\n",
    "    print_topwords(df=dfRes.loc[dfRes['label'] == i], num=5, bar=False)\n",
    "    print(\"\")"
   ]
  },
  {
   "cell_type": "markdown",
   "metadata": {},
   "source": [
    "<br>\n",
    "* ### DBSCAN w/ doc2vec\n",
    "Density-based Spatial Clustering of Aplications with Noise"
   ]
  },
  {
   "cell_type": "markdown",
   "metadata": {},
   "source": [
    "<img src=\"../image/dbscan.png\" alt=\"Drawing\" style=\"width: 300px;\"/>"
   ]
  },
  {
   "cell_type": "markdown",
   "metadata": {},
   "source": [
    "<p style=\"font-size:12px; text-align:center;\">[3] minPts = 4. Point A and the other red points are core points, because the area surrounding these points in an ε radius contain at least 4 points (including the point itself). Because they are all reachable from one another, they form a single cluster. Points B and C are not core points, but are reachable from A (via other core points) and thus belong to the cluster as well. Point N is a noise point that is neither a core point nor directly-reachable.</p>"
   ]
  },
  {
   "cell_type": "code",
   "execution_count": 44,
   "metadata": {
    "collapsed": false
   },
   "outputs": [],
   "source": [
    "db = DBSCAN(eps=0.1, min_samples=10, algorithm='brute', metric='cosine')\n",
    "Y = db.fit_predict(X_d2v)"
   ]
  },
  {
   "cell_type": "code",
   "execution_count": 45,
   "metadata": {
    "collapsed": false
   },
   "outputs": [
    {
     "name": "stdout",
     "output_type": "stream",
     "text": [
      "Estimated number of clusters: 3\n",
      "Silhouette Coefficient: 0.007\n"
     ]
    }
   ],
   "source": [
    "# Number of clusters in labels, ignoring noise if present.\n",
    "cnum = len(set(db.labels_)) - (1 if -1 in db.labels_ else 0)\n",
    "\n",
    "print('Estimated number of clusters: %d' % cnum)\n",
    "print(\"Silhouette Coefficient: %0.3f\" % silhouette_score(X_d2v, db.labels_))"
   ]
  },
  {
   "cell_type": "code",
   "execution_count": 46,
   "metadata": {
    "collapsed": false
   },
   "outputs": [],
   "source": [
    "dfRes = pd.DataFrame(corpus, columns=['text'])\n",
    "dfRes['label'] = Y"
   ]
  },
  {
   "cell_type": "code",
   "execution_count": 47,
   "metadata": {
    "collapsed": false
   },
   "outputs": [
    {
     "name": "stdout",
     "output_type": "stream",
     "text": [
      "label -1: 1183\n",
      "label 0: 1664\n",
      "label 1: 212\n",
      "label 2: 13\n"
     ]
    }
   ],
   "source": [
    "for i in range(len(dfRes.label.unique())):\n",
    "    if i == 0 :\n",
    "        print('label -1: {}'.format(len(dfRes.loc[dfRes['label'] == i-1])))\n",
    "    else:\n",
    "        print('label {}: {}'.format(i-1, len(dfRes.loc[dfRes['label'] == i-1])))"
   ]
  },
  {
   "cell_type": "code",
   "execution_count": 48,
   "metadata": {
    "collapsed": false
   },
   "outputs": [
    {
     "name": "stdout",
     "output_type": "stream",
     "text": [
      "cluster -1: 보습 제품 배송 아기 바르 \n",
      "cluster 0: 보습 배송 제품 항상 역시 \n",
      "cluster 1: \n",
      "cluster 2: 보습 \n"
     ]
    }
   ],
   "source": [
    "for i in range(-1, cnum):\n",
    "    print('cluster {}:'.format(i)),\n",
    "    print_topwords(df=dfRes.loc[dfRes['label'] == i], num=5, bar=False)\n",
    "    print(\"\")"
   ]
  },
  {
   "cell_type": "markdown",
   "metadata": {},
   "source": [
    "<br>\n",
    "동일한 단어로 구성된 리뷰 검출"
   ]
  },
  {
   "cell_type": "code",
   "execution_count": 49,
   "metadata": {
    "collapsed": false
   },
   "outputs": [
    {
     "data": {
      "text/html": [
       "<div>\n",
       "<style>\n",
       "    .dataframe thead tr:only-child th {\n",
       "        text-align: right;\n",
       "    }\n",
       "\n",
       "    .dataframe thead th {\n",
       "        text-align: left;\n",
       "    }\n",
       "\n",
       "    .dataframe tbody tr th {\n",
       "        vertical-align: top;\n",
       "    }\n",
       "</style>\n",
       "<table border=\"1\" class=\"dataframe\">\n",
       "  <thead>\n",
       "    <tr style=\"text-align: right;\">\n",
       "      <th></th>\n",
       "      <th>text</th>\n",
       "      <th>label</th>\n",
       "    </tr>\n",
       "  </thead>\n",
       "  <tbody>\n",
       "    <tr>\n",
       "      <th>10</th>\n",
       "      <td>좋네요</td>\n",
       "      <td>1</td>\n",
       "    </tr>\n",
       "    <tr>\n",
       "      <th>13</th>\n",
       "      <td>좋습니다</td>\n",
       "      <td>1</td>\n",
       "    </tr>\n",
       "    <tr>\n",
       "      <th>20</th>\n",
       "      <td>좋아요</td>\n",
       "      <td>1</td>\n",
       "    </tr>\n",
       "    <tr>\n",
       "      <th>62</th>\n",
       "      <td>좋아요</td>\n",
       "      <td>1</td>\n",
       "    </tr>\n",
       "    <tr>\n",
       "      <th>72</th>\n",
       "      <td>좋아요~~^^</td>\n",
       "      <td>1</td>\n",
       "    </tr>\n",
       "    <tr>\n",
       "      <th>76</th>\n",
       "      <td>좋아요</td>\n",
       "      <td>1</td>\n",
       "    </tr>\n",
       "    <tr>\n",
       "      <th>89</th>\n",
       "      <td>피지오겔 좋아요</td>\n",
       "      <td>1</td>\n",
       "    </tr>\n",
       "  </tbody>\n",
       "</table>\n",
       "</div>"
      ],
      "text/plain": [
       "        text  label\n",
       "10       좋네요      1\n",
       "13      좋습니다      1\n",
       "20       좋아요      1\n",
       "62       좋아요      1\n",
       "72   좋아요~~^^      1\n",
       "76       좋아요      1\n",
       "89  피지오겔 좋아요      1"
      ]
     },
     "execution_count": 49,
     "metadata": {},
     "output_type": "execute_result"
    }
   ],
   "source": [
    "dfRes[dfRes['label'] == 1].head(7)"
   ]
  },
  {
   "cell_type": "code",
   "execution_count": 50,
   "metadata": {
    "collapsed": false
   },
   "outputs": [
    {
     "data": {
      "text/html": [
       "<div>\n",
       "<style>\n",
       "    .dataframe thead tr:only-child th {\n",
       "        text-align: right;\n",
       "    }\n",
       "\n",
       "    .dataframe thead th {\n",
       "        text-align: left;\n",
       "    }\n",
       "\n",
       "    .dataframe tbody tr th {\n",
       "        vertical-align: top;\n",
       "    }\n",
       "</style>\n",
       "<table border=\"1\" class=\"dataframe\">\n",
       "  <thead>\n",
       "    <tr style=\"text-align: right;\">\n",
       "      <th></th>\n",
       "      <th>text</th>\n",
       "      <th>label</th>\n",
       "    </tr>\n",
       "  </thead>\n",
       "  <tbody>\n",
       "    <tr>\n",
       "      <th>66</th>\n",
       "      <td>보습력 좋네요.</td>\n",
       "      <td>2</td>\n",
       "    </tr>\n",
       "    <tr>\n",
       "      <th>259</th>\n",
       "      <td>보습력이 짱 좋아요</td>\n",
       "      <td>2</td>\n",
       "    </tr>\n",
       "    <tr>\n",
       "      <th>317</th>\n",
       "      <td>보습력이 넘 좋아요~</td>\n",
       "      <td>2</td>\n",
       "    </tr>\n",
       "    <tr>\n",
       "      <th>837</th>\n",
       "      <td>보습이 좋아요</td>\n",
       "      <td>2</td>\n",
       "    </tr>\n",
       "    <tr>\n",
       "      <th>979</th>\n",
       "      <td>보습에 좋음</td>\n",
       "      <td>2</td>\n",
       "    </tr>\n",
       "    <tr>\n",
       "      <th>1792</th>\n",
       "      <td>보습짱</td>\n",
       "      <td>2</td>\n",
       "    </tr>\n",
       "    <tr>\n",
       "      <th>1854</th>\n",
       "      <td>보습이 잘 되서 넘좋아요</td>\n",
       "      <td>2</td>\n",
       "    </tr>\n",
       "  </tbody>\n",
       "</table>\n",
       "</div>"
      ],
      "text/plain": [
       "               text  label\n",
       "66         보습력 좋네요.      2\n",
       "259      보습력이 짱 좋아요      2\n",
       "317     보습력이 넘 좋아요~      2\n",
       "837         보습이 좋아요      2\n",
       "979          보습에 좋음      2\n",
       "1792            보습짱      2\n",
       "1854  보습이 잘 되서 넘좋아요      2"
      ]
     },
     "execution_count": 50,
     "metadata": {},
     "output_type": "execute_result"
    }
   ],
   "source": [
    "dfRes[dfRes['label'] == 2].head(7)"
   ]
  },
  {
   "cell_type": "markdown",
   "metadata": {},
   "source": [
    "<br>\n",
    "* ### HDBSCAN Soft Clustering w/ Doc2Vec"
   ]
  },
  {
   "cell_type": "markdown",
   "metadata": {},
   "source": [
    "하나의 리뷰에 여러개 주제가 함께 존재하는 샘플들을 클러스터링 하기 위해 HDBSCAN을 활용한 Soft Clustering 시도[4] 했으나 클러스터링 거의 되지 않음"
   ]
  },
  {
   "cell_type": "code",
   "execution_count": 51,
   "metadata": {
    "collapsed": false
   },
   "outputs": [],
   "source": [
    "cluster = hdbscan.HDBSCAN(min_cluster_size=10, prediction_data=True).fit(X_d2v)"
   ]
  },
  {
   "cell_type": "code",
   "execution_count": 52,
   "metadata": {
    "collapsed": false
   },
   "outputs": [
    {
     "data": {
      "text/plain": [
       "4"
      ]
     },
     "execution_count": 52,
     "metadata": {},
     "output_type": "execute_result"
    }
   ],
   "source": [
    "cnum = len(np.unique(cluster.labels_)) - 1\n",
    "cnum"
   ]
  },
  {
   "cell_type": "markdown",
   "metadata": {},
   "source": [
    "### Clustering w/ Doc2Vec 성능\n",
    "* corpus내 단어들 간의 관계를 유추할 수 있음\n",
    "* 문장간 유사도 판별 성능이 좋지 않음 -> 트레이닝 데이터 셋의 개수를 늘려서 다시 시도해볼 것\n",
    "* 비슷한 주제어를 가진 리뷰들이 각각 여러개의 주제를 포함할 때 Partitioning 알고리즘과의 조합 성능 좋지 않음"
   ]
  },
  {
   "cell_type": "markdown",
   "metadata": {},
   "source": [
    "<br>\n",
    "# LDA + Doc2Vec"
   ]
  },
  {
   "cell_type": "markdown",
   "metadata": {},
   "source": [
    "LDA를 통해서 추출한 포함된 주제별 유사도와 문서간 거리를 유사도를 측정할 수 있는 Doc2Vec Vector를 Concatenating"
   ]
  },
  {
   "cell_type": "markdown",
   "metadata": {},
   "source": [
    "<br>\n",
    "* LDA 모델링"
   ]
  },
  {
   "cell_type": "code",
   "execution_count": 53,
   "metadata": {
    "collapsed": true
   },
   "outputs": [],
   "source": [
    "lda_docs = [nav_tokenizer(x) for x in corpus]\n",
    "lda_docs = [remove_stopwords(x, stopwords + mask1) for x in lda_docs]\n",
    "lda_dict = corpora.Dictionary(lda_docs)\n",
    "#calulate TF-IDF\n",
    "tf_ps = [lda_dict.doc2bow(x) for x in lda_docs]\n",
    "tf_model = models.TfidfModel(tf_ps)\n",
    "X_lda = tf_model[tf_ps]"
   ]
  },
  {
   "cell_type": "markdown",
   "metadata": {},
   "source": [
    "<br>\n",
    "* 전체 corpus를 30개 주제로 세분화"
   ]
  },
  {
   "cell_type": "code",
   "execution_count": 54,
   "metadata": {
    "collapsed": false,
    "scrolled": true
   },
   "outputs": [
    {
     "name": "stdout",
     "output_type": "stream",
     "text": [
      "[(0,\n",
      "  0.013*\"잘산\" + 0.011*\"쵝오\" + 0.009*\"맞지\" + 0.008*\"필요할\" + 0.008*\"들어\"),\n",
      " (1,\n",
      "  0.018*\"필요없\" + 0.011*\"제품\" + 0.009*\"갑자기\" + 0.009*\"항상\" + 0.009*\"바로\"),\n",
      " (2,\n",
      "  0.029*\"만족합\" + 0.016*\"늘\" + 0.014*\"촉촉합\" + 0.014*\"제품\" + 0.012*\"아이\"),\n",
      " (3,\n",
      "  0.055*\"빠르\" + 0.047*\"배송\" + 0.037*\"항상\" + 0.019*\"파세\" + 0.012*\"저렴\"),\n",
      " (4,\n",
      "  0.015*\"받아\" + 0.015*\"로켓\" + 0.013*\"정말\" + 0.012*\"추천\" + 0.010*\"입니\"),\n",
      " (5,\n",
      "  0.047*\"받았\" + 0.029*\"쓰는\" + 0.019*\"항상\" + 0.015*\"안해\" + 0.012*\"상품\"),\n",
      " (6,\n",
      "  0.060*\"역시\" + 0.013*\"아들\" + 0.011*\"중이\" + 0.011*\"보습\" + 0.010*\"쿠팡\"),\n",
      " (7,\n",
      "  0.008*\"바르\" + 0.008*\"모두\" + 0.008*\"나쁘\" + 0.007*\"촉촉해서\" + 0.007*\"전혀\"),\n",
      " (8,\n",
      "  0.024*\"만족\" + 0.019*\"진리\" + 0.012*\"괜찮\" + 0.011*\"구매\" + 0.009*\"좋아지는\"),\n",
      " (9,\n",
      "  0.021*\"애기\" + 0.021*\"강추\" + 0.011*\"발라\" + 0.011*\"아기\" + 0.010*\"우리\"),\n",
      " (10,\n",
      "  0.020*\"있어\" + 0.018*\"부드럽\" + 0.015*\"정말\" + 0.010*\"보았\" + 0.010*\"감은\"),\n",
      " (11,\n",
      "  0.082*\"보습\" + 0.021*\"건성\" + 0.012*\"필수품\" + 0.010*\"추천합\" + 0.010*\"처음\"),\n",
      " (12,\n",
      "  0.015*\"보습\" + 0.012*\"효과\" + 0.012*\"종일\" + 0.011*\"그닥\" + 0.009*\"겨울철\"),\n",
      " (13,\n",
      "  0.027*\"아주\" + 0.023*\"건조한\" + 0.016*\"제품\" + 0.015*\"항상\" + 0.014*\"쓰는\"),\n",
      " (14,\n",
      "  0.042*\"빠른\" + 0.030*\"배송\" + 0.018*\"완전\" + 0.016*\"너무\" + 0.013*\"감사합\"),\n",
      " (15,\n",
      "  0.020*\"아기\" + 0.016*\"저렴\" + 0.015*\"쓰는\" + 0.015*\"선물\" + 0.015*\"항상\"),\n",
      " (16,\n",
      "  0.026*\"촉촉함\" + 0.022*\"촉촉하네\" + 0.019*\"듭니\" + 0.011*\"발림\" + 0.008*\"배송\"),\n",
      " (17,\n",
      "  0.016*\"싸고\" + 0.013*\"이지\" + 0.013*\"아가\" + 0.012*\"촉촉한\" + 0.012*\"하게\"),\n",
      " (18,\n",
      "  0.030*\"촉촉하니\" + 0.020*\"순하고\" + 0.018*\"배송\" + 0.017*\"저렴\" + 0.015*\"로켓\"),\n",
      " (19,\n",
      "  0.045*\"촉촉하고\" + 0.027*\"최고\" + 0.016*\"보습\" + 0.016*\"적임\" + 0.014*\"소문\"),\n",
      " (20,\n",
      "  0.059*\"너무\" + 0.015*\"아기\" + 0.013*\"저희\" + 0.013*\"지오\" + 0.011*\"잇어\"),\n",
      " (21,\n",
      "  0.018*\"많아\" + 0.010*\"사용했\" + 0.010*\"생기는\" + 0.009*\"않고\" + 0.009*\"건조할\"),\n",
      " (22,\n",
      "  0.019*\"꾸준히\" + 0.017*\"가족\" + 0.012*\"순해서\" + 0.012*\"매트\" + 0.010*\"없다\"),\n",
      " (23,\n",
      "  0.014*\"어른\" + 0.014*\"정품\" + 0.012*\"굿굿굿\" + 0.009*\"늘\" + 0.008*\"문자\"),\n",
      " (24,\n",
      "  0.022*\"촉촉하고\" + 0.016*\"무난\" + 0.012*\"기대\" + 0.009*\"않네\" + 0.008*\"누구\"),\n",
      " (25,\n",
      "  0.028*\"늘\" + 0.014*\"대박\" + 0.013*\"신랑\" + 0.012*\"쓰는\" + 0.012*\"믿고\"),\n",
      " (26,\n",
      "  0.023*\"생각\" + 0.019*\"원래\" + 0.016*\"보습\" + 0.014*\"가격\" + 0.012*\"효과\"),\n",
      " (27,\n",
      "  0.027*\"굿굿\" + 0.015*\"말할\" + 0.013*\"사고\" + 0.013*\"싸게\" + 0.009*\"로션\"),\n",
      " (28,\n",
      "  0.025*\"계속\" + 0.018*\"포장\" + 0.017*\"배송\" + 0.015*\"상품\" + 0.013*\"품질\"),\n",
      " (29,\n",
      "  0.031*\"싸게\" + 0.018*\"늘\" + 0.014*\"같아\" + 0.011*\"친절한\" + 0.011*\"보다\")]\n"
     ]
    }
   ],
   "source": [
    "# train topic model\n",
    "ntopics = 30\n",
    "nwords = 5\n",
    "\n",
    "np.random.seed(1)\n",
    "lda_model = models.ldamodel.LdaModel(X_lda, id2word=lda_dict, num_topics=ntopics)\n",
    "pprint(lda_model.print_topics(num_topics=ntopics, num_words=nwords))"
   ]
  },
  {
   "cell_type": "markdown",
   "metadata": {},
   "source": [
    "<br>\n",
    "* 리뷰별 해당 주제 할당"
   ]
  },
  {
   "cell_type": "code",
   "execution_count": 55,
   "metadata": {
    "collapsed": false
   },
   "outputs": [
    {
     "name": "stdout",
     "output_type": "stream",
     "text": [
      "바르고 30분이 지나서 얼굴을 보니 빨갛더라구요 너무 놀래서 씻고나서 리뷰를 보는데 참... 건성분들은 모르겠지만 중성 지성 분들은 사지마세요 저는 겨을에 바디로션 대신 바를려구요..^^\n"
     ]
    }
   ],
   "source": [
    "idx = 11\n",
    "pprint(corpus[idx])"
   ]
  },
  {
   "cell_type": "code",
   "execution_count": 56,
   "metadata": {
    "collapsed": false
   },
   "outputs": [
    {
     "data": {
      "text/plain": [
       "[(4, 0.5366510509230179), (12, 0.18305400638005612), (15, 0.11207810570841419)]"
      ]
     },
     "execution_count": 56,
     "metadata": {},
     "output_type": "execute_result"
    }
   ],
   "source": [
    "lda_model[X_lda[idx]]"
   ]
  },
  {
   "cell_type": "markdown",
   "metadata": {},
   "source": [
    "<b>Topic 4:</b> 받아, 로켓, 정말, 추천, 입니  \n",
    "<b>Topic 12:</b> 보습. 효과, 종일, 그닥, 겨울철  \n",
    "<b>Topic 15:</b> 아기, 저렴, 쓰는, 선물, 항상"
   ]
  },
  {
   "cell_type": "markdown",
   "metadata": {},
   "source": [
    "<br>\n",
    "* LDA Vector 생성"
   ]
  },
  {
   "cell_type": "code",
   "execution_count": 57,
   "metadata": {
    "collapsed": false
   },
   "outputs": [
    {
     "data": {
      "text/plain": [
       "(3072, 30)"
      ]
     },
     "execution_count": 57,
     "metadata": {},
     "output_type": "execute_result"
    }
   ],
   "source": [
    "lda_vec = np.zeros((len(corpus), ntopics))\n",
    "lda_vec.shape"
   ]
  },
  {
   "cell_type": "code",
   "execution_count": 58,
   "metadata": {
    "collapsed": false
   },
   "outputs": [
    {
     "name": "stderr",
     "output_type": "stream",
     "text": [
      "/Users/choiyoungrok/anaconda/lib/python2.7/site-packages/ipykernel/__main__.py:4: DeprecationWarning: assignment will raise an error in the future, most likely because your index result shape does not match the value array shape. You can use `arr.flat[index] = values` to keep the old behaviour.\n"
     ]
    }
   ],
   "source": [
    "for i in range(len(lda_vec)):\n",
    "    idx = [x[0] for x in lda_model[X_lda[i]]]\n",
    "    prob = [x[1] for x in lda_model[X_lda[i]]]\n",
    "    lda_vec[i][idx] = prob"
   ]
  },
  {
   "cell_type": "code",
   "execution_count": 59,
   "metadata": {
    "collapsed": false
   },
   "outputs": [],
   "source": [
    "# raise small number to calculate cosine distances\n",
    "lda_vec = lda_vec + 0.0001"
   ]
  },
  {
   "cell_type": "markdown",
   "metadata": {},
   "source": [
    "<br>\n",
    "* doc2vec vector와 연결"
   ]
  },
  {
   "cell_type": "code",
   "execution_count": 60,
   "metadata": {
    "collapsed": false
   },
   "outputs": [],
   "source": [
    "X_l2v = np.hstack((X_d2v, lda_vec))"
   ]
  },
  {
   "cell_type": "markdown",
   "metadata": {},
   "source": [
    "<br>\n",
    "* ### k-means w/ LDA + Doc2Vec"
   ]
  },
  {
   "cell_type": "code",
   "execution_count": 61,
   "metadata": {
    "collapsed": true
   },
   "outputs": [],
   "source": [
    "cnum = 10"
   ]
  },
  {
   "cell_type": "code",
   "execution_count": 62,
   "metadata": {
    "collapsed": false
   },
   "outputs": [
    {
     "name": "stdout",
     "output_type": "stream",
     "text": [
      "Silhouette Coefficient: 0.163\n"
     ]
    }
   ],
   "source": [
    "km = KMeans(n_clusters=cnum, init='k-means++', max_iter=300, n_init=20, tol=0.0001)\n",
    "km.fit(X_l2v)\n",
    "print(\"Silhouette Coefficient: %0.3f\" % silhouette_score(X_l2v, km.labels_))"
   ]
  },
  {
   "cell_type": "code",
   "execution_count": 63,
   "metadata": {
    "collapsed": false
   },
   "outputs": [
    {
     "name": "stdout",
     "output_type": "stream",
     "text": [
      "label0: 1066\n",
      "label1: 173\n",
      "label2: 932\n",
      "label3: 157\n",
      "label4: 132\n",
      "label5: 113\n",
      "label6: 118\n",
      "label7: 131\n",
      "label8: 114\n",
      "label9: 136\n"
     ]
    }
   ],
   "source": [
    "dfRes = pd.DataFrame(corpus, columns=['text'])\n",
    "dfRes['label'] = km.labels_\n",
    "\n",
    "for i in range(cnum):\n",
    "    print('label{}: {}'.format(i, len(dfRes[dfRes.label == i])))"
   ]
  },
  {
   "cell_type": "code",
   "execution_count": 64,
   "metadata": {
    "collapsed": false
   },
   "outputs": [
    {
     "name": "stdout",
     "output_type": "stream",
     "text": [
      "cluster 0: 제품 항상 보습 너무 배송 \n",
      "cluster 1: 촉촉하고 최고 보습 입니 제품 \n",
      "cluster 2: 배송 제품 보습 항상 쓰는 \n",
      "cluster 3: 배송 정말 보습 로켓 같아 \n",
      "cluster 4: 필요없 제품 발라 배송 보습 \n",
      "cluster 5: 촉촉하니 순하고 저렴 하게 배송 \n",
      "cluster 6: 구매 저렴 아기 제품 가격 \n",
      "cluster 7: 역시 보습 구매 배송 쿠팡 \n",
      "cluster 8: 배송 빠른 완전 감사합 너무 \n",
      "cluster 9: 보습 건성 입니 아기 발라 \n"
     ]
    }
   ],
   "source": [
    "for i in range(cnum):\n",
    "    print('cluster {}:'.format(i)),\n",
    "    print_topwords(df=dfRes.loc[dfRes['label'] == i], num=5, bar=False)\n",
    "    print(\"\")"
   ]
  },
  {
   "cell_type": "markdown",
   "metadata": {},
   "source": [
    "<br>\n",
    "* ### DBSCAN w/ LDA + Doc2Vec"
   ]
  },
  {
   "cell_type": "code",
   "execution_count": 65,
   "metadata": {
    "collapsed": false
   },
   "outputs": [],
   "source": [
    "db = DBSCAN(eps=0.30, min_samples=10, algorithm='kd_tree', metric='euclidean')\n",
    "Y = db.fit_predict(lda_vec)"
   ]
  },
  {
   "cell_type": "code",
   "execution_count": 66,
   "metadata": {
    "collapsed": false
   },
   "outputs": [
    {
     "name": "stdout",
     "output_type": "stream",
     "text": [
      "Estimated number of clusters: 8\n",
      "Silhouette Coefficient: 0.066\n"
     ]
    }
   ],
   "source": [
    "# Number of clusters in labels, ignoring noise if present.\n",
    "cnum = len(set(db.labels_)) - (1 if -1 in db.labels_ else 0)\n",
    "\n",
    "print('Estimated number of clusters: %d' % cnum)\n",
    "print(\"Silhouette Coefficient: %0.3f\" % silhouette_score(X_l2v, db.labels_))"
   ]
  },
  {
   "cell_type": "code",
   "execution_count": 67,
   "metadata": {
    "collapsed": false
   },
   "outputs": [],
   "source": [
    "dfRes = pd.DataFrame(corpus, columns=['text'])\n",
    "dfRes['label'] = Y"
   ]
  },
  {
   "cell_type": "code",
   "execution_count": 68,
   "metadata": {
    "collapsed": false
   },
   "outputs": [
    {
     "name": "stdout",
     "output_type": "stream",
     "text": [
      "noise-1: 116  |  너무 배송 아기 제품 있어 \n",
      "cluster 0: 2453  |  보습 배송 제품 너무 아기 \n",
      "cluster 1: 68  |  아기 제품 보습 구매 이지 \n",
      "cluster 2: 109  |  배송 빠른 완전 감사합 너무 \n",
      "cluster 3: 79  |  늘 믿고 쓰는 제품 입니 \n",
      "cluster 4: 39  |  바르 다른 모두 촉촉해서 아이 \n",
      "cluster 5: 55  |  무난 촉촉하고 얼굴 건성 이상 \n",
      "cluster 6: 82  |  만족 괜찮 보습 제품 구매 \n",
      "cluster 7: 71  |  쓰는 항상 받았 제품 상품 \n"
     ]
    }
   ],
   "source": [
    "for i in range(len(dfRes.label.unique())):\n",
    "    if i == 0 :\n",
    "        print('noise-1: {}'.format(len(dfRes.loc[dfRes['label'] == i-1]))),\n",
    "        print(\" | \"),\n",
    "        print_topwords(df=dfRes.loc[dfRes['label'] == i-1], num=5, bar=False)\n",
    "    else:\n",
    "        print('cluster {}: {}'.format(i-1, len(dfRes.loc[dfRes['label'] == i-1]))),\n",
    "        print(\" | \"),\n",
    "        print_topwords(df=dfRes.loc[dfRes['label'] == i-1], num=5, bar=False)\n",
    "    print(\"\")"
   ]
  },
  {
   "cell_type": "markdown",
   "metadata": {},
   "source": [
    "<br>\n",
    "* ### HDBSCAN Soft Clustering w/ LDA + Doc2Vec"
   ]
  },
  {
   "cell_type": "markdown",
   "metadata": {},
   "source": [
    "하나의 리뷰에 여러개 주제가 함께 존재하는 샘플들을 클러스터링 하기위해 Soft Clustering 활용  \n",
    "mininum cluster size를 조정해서 epsilon 값을 부여할 필요 없는 HDBSCAN 알고리즘 활용  \n",
    "min_cluster_size=55 수준에서 HDBSCAN 결과 10개 클러스터 생성"
   ]
  },
  {
   "cell_type": "code",
   "execution_count": 85,
   "metadata": {
    "collapsed": false
   },
   "outputs": [],
   "source": [
    "cluster = hdbscan.HDBSCAN(min_cluster_size=55, prediction_data=True).fit(X_l2v)"
   ]
  },
  {
   "cell_type": "code",
   "execution_count": 86,
   "metadata": {
    "collapsed": false
   },
   "outputs": [
    {
     "data": {
      "text/plain": [
       "10"
      ]
     },
     "execution_count": 86,
     "metadata": {},
     "output_type": "execute_result"
    }
   ],
   "source": [
    "cnum = len(np.unique(cluster.labels_)) - 1\n",
    "cnum"
   ]
  },
  {
   "cell_type": "code",
   "execution_count": 87,
   "metadata": {
    "collapsed": false
   },
   "outputs": [
    {
     "data": {
      "text/plain": [
       "(3072, 10)"
      ]
     },
     "execution_count": 87,
     "metadata": {},
     "output_type": "execute_result"
    }
   ],
   "source": [
    "# 클러스터별 Probabilities\n",
    "soft_cluster = hdbscan.all_points_membership_vectors(cluster)\n",
    "soft_cluster.shape"
   ]
  },
  {
   "cell_type": "markdown",
   "metadata": {},
   "source": [
    "<br>\n",
    "클러스터 유사도 20% 이상일 때 복수 라벨링 허용"
   ]
  },
  {
   "cell_type": "code",
   "execution_count": 88,
   "metadata": {
    "collapsed": false
   },
   "outputs": [],
   "source": [
    "dfRes = pd.DataFrame(corpus, columns=['text'])\n",
    "for i in range(cnum):\n",
    "    dfRes[i] = 0; \n",
    "dfRes['noise'] = 0\n",
    "dfRes['unknown'] = 0\n",
    "\n",
    "for i in range(len(soft_cluster)):\n",
    "    \n",
    "    if np.isnan(soft_cluster[i][0]):\n",
    "        dfRes.set_value(i, ['noise'], 1)\n",
    "    elif len([x for x in soft_cluster[i] if x != 0]) == 0:\n",
    "        dfRes.set_value(i, ['unknown'], 1)\n",
    "    else:\n",
    "        # max probability의 0.9 이상일 때 라벨링\n",
    "        #idx = [j for j, x in enumerate(soft_cluster[i]) if x >= (0.9 * soft_cluster[i].max())]\n",
    "        idx = [j for j, x in enumerate(soft_cluster[i]) if (x == soft_cluster[i].max()) | (x >= 0.2)]\n",
    "        #idx = [j for j, x in enumerate(soft_cluster[i]) if (x == soft_cluster[i].max())]\n",
    "        dfRes.set_value(i, idx, 1)"
   ]
  },
  {
   "cell_type": "code",
   "execution_count": 89,
   "metadata": {
    "collapsed": false
   },
   "outputs": [
    {
     "name": "stdout",
     "output_type": "stream",
     "text": [
      "noise-1: 212 |  \n",
      "unknown: 29 |  건조한 아주 제품 보습 너무 \n",
      "cluster 0: 160  |  구매 제품 저렴 아기 쓰는 \n",
      "cluster 1: 250  |  쓰는 항상 받았 제품 보습 \n",
      "cluster 2: 224  |  필요없 제품 바르 배송 구매 \n",
      "cluster 3: 231  |  배송 촉촉하니 저렴 빠른 순하고 \n",
      "cluster 4: 163  |  역시 보습 구매 제품 발라 \n",
      "cluster 5: 147  |  보습 건성 너무 입니 아기 \n",
      "cluster 6: 227  |  같아 제품 배송 보습 바르 \n",
      "cluster 7: 211  |  촉촉하고 최고 보습 입니 너무 \n",
      "cluster 8: 159  |  배송 항상 빠르 파세 제품 \n",
      "cluster 9: 1059  |  제품 보습 너무 늘 배송 \n"
     ]
    }
   ],
   "source": [
    "print('noise-1: {} | '.format(len(dfRes[(dfRes['noise'] == 1)]))),\n",
    "print_topwords(df=dfRes.loc[dfRes['noise'] == 1], num=5, bar=False)\n",
    "print(\"\")\n",
    "print('unknown: {} | '.format(len(dfRes[(dfRes['unknown'] == 1)]))),\n",
    "print_topwords(df=dfRes.loc[dfRes['unknown'] == 1], num=5, bar=False)\n",
    "print(\"\")\n",
    "\n",
    "\n",
    "for i in range(cnum):\n",
    "    print('cluster {}: {}'.format(i, len(dfRes.loc[dfRes[i] == 1]))),\n",
    "    print(\" | \"),\n",
    "    print_topwords(df=dfRes.loc[dfRes[i] == 1], num=5, bar=False)\n",
    "    print(\"\")"
   ]
  },
  {
   "cell_type": "code",
   "execution_count": 81,
   "metadata": {
    "collapsed": false
   },
   "outputs": [
    {
     "data": {
      "text/plain": [
       "24                        늘 쓰는 제품이에요. 쿠팡에서 저렴하게 잘 구입했어요.\n",
       "31                                         좋아요 아기와저랑 잘써요\n",
       "33                           아이들과 같이쓰려고 구매했어요. 오프라인보다 싸요\n",
       "37     워낙 유명해서\\n계속 쓰고 있는 제품입니다\\n제가 기초를 바꾸면\\n트러블이 나는데\\...\n",
       "51                너무나 유명한 피지오겔 제품입니다. 피부 건조증을 한번에 해결합니다.\n",
       "78     겨울에 썼었는데 제 피부엔 맞지가 않았어요ㅠ \\n피지오겔 좋다길래 완전 기대했었는데...\n",
       "97     수분크림으로 좋은 제품이라고해서 구매해서 쓰는데 생각보다   괜찮은것같아요~ 여름보...\n",
       "118                                       한번바르세여\\n두번바르세여\n",
       "166    날은 더워졌지만 피부가 건조해서 구입해봤습니다.\\n일단 발림성도 좋구 수분감도 좋습...\n",
       "168    U존이 건성&민감성이라 맞는 수분크림 찾기가 너무나 어려워 로드샵꺼 아무거나 쓰다 ...\n",
       "Name: text, dtype: object"
      ]
     },
     "execution_count": 81,
     "metadata": {},
     "output_type": "execute_result"
    }
   ],
   "source": [
    "dfRes[dfRes[0] == 1].head(10).text"
   ]
  },
  {
   "cell_type": "code",
   "execution_count": 82,
   "metadata": {
    "collapsed": false
   },
   "outputs": [
    {
     "data": {
      "text/plain": [
       "2                                      조금 기름진느낌이 없지않아있어요\n",
       "3      가격부담이 되도 계속 쓰고 있는 피지오겔 크림\\n귀찮을때 이거 하나만 바르고 자도 ...\n",
       "6      1. 배송 : 로켓 아니어도 괜찬은데, 다음날 바로 도착헸네요. 배송기사님 감사합니...\n",
       "21     초1아들이 땀이 많아 땀띠가심해서, 병원에서 보습제 많이 발라주라해서 구입했어요. ...\n",
       "28               한상 쓰는 로션이에요 \\n최저가에요 \\n배송빨라요 \\n믿고쓰는 피지오겔\n",
       "35                                               역시 피지오겔\n",
       "38                  잘쓰고 있습니다 아토피라 보습좋고 자극없는게 필요햇는데 딱이에요!\n",
       "55     워낙에 유명한제품~~\\n열많은 울아가 아토피안되려면ㆍ보습 무지잘~~\\n해야해서ㆍ\\n...\n",
       "101    피지오겔 유명한건 익히 알고 있었으나\\n저는 따로 쓰는 것들이 있어서 안 써봤는데\\...\n",
       "108    겉상자가 칼로자른거처럼 스티커가 잘려져서 옴\\n속뚜껑안에는 은박덮개가 없어서 누가썼...\n",
       "Name: text, dtype: object"
      ]
     },
     "execution_count": 82,
     "metadata": {},
     "output_type": "execute_result"
    }
   ],
   "source": [
    "dfRes[dfRes[4] == 1].head(10).text"
   ]
  },
  {
   "cell_type": "markdown",
   "metadata": {},
   "source": [
    "<br> Noise 검출"
   ]
  },
  {
   "cell_type": "code",
   "execution_count": 83,
   "metadata": {
    "collapsed": false,
    "scrolled": true
   },
   "outputs": [
    {
     "data": {
      "text/plain": [
       "10          좋네요\n",
       "13         좋습니다\n",
       "20          좋아요\n",
       "62          좋아요\n",
       "72      좋아요~~^^\n",
       "76          좋아요\n",
       "89     피지오겔 좋아요\n",
       "112         좋아요\n",
       "145        좋습니다\n",
       "215         좋앙ㅍ\n",
       "Name: text, dtype: object"
      ]
     },
     "execution_count": 83,
     "metadata": {},
     "output_type": "execute_result"
    }
   ],
   "source": [
    "dfRes[dfRes['noise'] == 1].head(10).text"
   ]
  },
  {
   "cell_type": "code",
   "execution_count": 84,
   "metadata": {
    "collapsed": false
   },
   "outputs": [
    {
     "data": {
      "text/plain": [
       "49                                               이제품만씁니다\n",
       "113    피지오겔 아주 잘쓰고있어요!!!!!!!!!!!\\n보습려고 최고고 항상 쓰던거 구매해...\n",
       "264                                         유명한제품이죠  좋아요\n",
       "360                                           건조한피부에좋아요~\n",
       "476                                다른 화장품 안쓰고 있어요 보습 좋아요\n",
       "532                                               좋아요 아주\n",
       "587    건조한 아기피부에 역시 피지오겔이죠~~ 다쓰고 큰아이가 사용하는 중인 다른브랜드 잠...\n",
       "621           두번째구매입니다\\n건조한피부에 완벽하게보습해줍니다\\n비싼 화장품들 못지않네요\n",
       "699                                          건조한 피부에 좋네여\n",
       "874                        빠루배송말할것도없고피지오겔겨울철민감거조한피부에딱입니다\n",
       "Name: text, dtype: object"
      ]
     },
     "execution_count": 84,
     "metadata": {},
     "output_type": "execute_result"
    }
   ],
   "source": [
    "dfRes[dfRes['unknown'] == 1].head(10).text"
   ]
  },
  {
   "cell_type": "markdown",
   "metadata": {},
   "source": [
    "### Clustering w/ LDA + Doc2Vec 성능\n",
    "* K-means와 같은 Partitioning 알고리즘과 조합시 성능 향상 보이지 않음\n",
    "* LDA만 단독으로 적용할 때에 비해 DBSCAN, HDBSCAN등 밀도 기반 클러스터링 성능은 향상\n",
    "* 클러스터 별 샘플 확인 결과 주제단위 클러스터링이 완벽하지 않음 확인 "
   ]
  },
  {
   "cell_type": "markdown",
   "metadata": {},
   "source": [
    "# Conclusion"
   ]
  },
  {
   "cell_type": "markdown",
   "metadata": {},
   "source": [
    "* Latent Diriclet Allocation + Doc2Vec 활용한 10개 주제"
   ]
  },
  {
   "cell_type": "markdown",
   "metadata": {},
   "source": [
    "|Cluster|keywords           |count     |\n",
    "|:------|:----------------- |:--------|\n",
    "|0      |구매 제품 저렴 아기 쓰는 |160      |\n",
    "|1      |쓰는 항상 받았 제품 보습 |250      |\n",
    "|2      |요없 제품 바르 배송 구매 |224      |\n",
    "|3      |배송 촉촉하니 저렴 빠른 순하고 |231      |\n",
    "|4      |역시 보습 구매 제품 발라 |163      |\n",
    "|5      |보습 건성 너무 입니 아기 |147      |\n",
    "|6      |같아 제품 배송 보습 바르 |127      |\n",
    "|7      |촉촉하고 최고 보습 입니 너무 |211      |\n",
    "|8      |배송 항상 빠르 파세 제품 |159      |\n",
    "|9      |제품 보습 너무 늘 배송 |1059      |\n",
    "|noise  |                |245     |"
   ]
  },
  {
   "cell_type": "markdown",
   "metadata": {},
   "source": [
    "<p style=\"font-size:12px; text-align:center;\">Soft Clustering with HDBSCAN(min_clusters=62, P(c)>=0.2)</p>"
   ]
  },
  {
   "cell_type": "markdown",
   "metadata": {},
   "source": [
    "* Unsupervised Clustering만으로 전체 Corpus를 주제별로 완벽하게 구별해내지 못함\n",
    "* Supervised Training을 위한 labeling의 사전 작업 정도의 성능\n",
    "* 전체 Dataset의 대략적인 주제에 대한 빠른 insight를 얻고, noise를 제거"
   ]
  },
  {
   "cell_type": "markdown",
   "metadata": {},
   "source": [
    "# Comments and Future works"
   ]
  },
  {
   "cell_type": "markdown",
   "metadata": {},
   "source": [
    "* Training Dataset을 더 많은 양 확보하여 직접 라벨링 후 Supervised Classification 시도\n",
    "* 사전 학습된 Word2Vec, Doc2Vec 모델을 활용하여 Unsupervised Clustering 시도\n",
    "* HDBSCAN 이외의 Soft Clustering 알고리즘 직접 구현 \n",
    "* 한국어 형태소 분석기 성능을 향상시킬 수 있는 방법 연구"
   ]
  },
  {
   "cell_type": "markdown",
   "metadata": {
    "collapsed": true
   },
   "source": [
    "<br>\n",
    "## References\n",
    "\n",
    "[1] Latent Dirichlet allocation, Wikipedia, https://en.wikipedia.org/wiki/Latent_Dirichlet_allocation\n",
    "\n",
    "[2] Andrew M. Dai, Christopher Olah, Quoc V. Le, \"Document Embedding with Paragraph Vectors\", https://arxiv.org/abs/1507.07998 \n",
    "\n",
    "[3] DBSCAN, Wikipedia, https://en.wikipedia.org/wiki/DBSCAN\n",
    "\n",
    "[4] How Soft Clustering for HDBSCAN Works, http://hdbscan.readthedocs.io/en/latest/soft_clustering_explanation.html"
   ]
  },
  {
   "cell_type": "code",
   "execution_count": null,
   "metadata": {
    "collapsed": true
   },
   "outputs": [],
   "source": []
  }
 ],
 "metadata": {
  "kernelspec": {
   "display_name": "Python 2",
   "language": "python",
   "name": "python2"
  },
  "language_info": {
   "codemirror_mode": {
    "name": "ipython",
    "version": 2
   },
   "file_extension": ".py",
   "mimetype": "text/x-python",
   "name": "python",
   "nbconvert_exporter": "python",
   "pygments_lexer": "ipython2",
   "version": "2.7.13"
  }
 },
 "nbformat": 4,
 "nbformat_minor": 2
}
